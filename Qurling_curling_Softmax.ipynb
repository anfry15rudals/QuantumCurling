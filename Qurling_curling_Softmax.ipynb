{
 "cells": [
  {
   "cell_type": "markdown",
   "metadata": {
    "id": "ksJVcTLxzskm"
   },
   "source": [
    "# Import modules"
   ]
  },
  {
   "cell_type": "code",
   "execution_count": 1,
   "metadata": {},
   "outputs": [],
   "source": [
    "# import os\n",
    "# os.environ['KMP_DUPLICATE_LIB_OK']='True'"
   ]
  },
  {
   "cell_type": "code",
   "execution_count": 2,
   "metadata": {
    "id": "N8fPchWjlyM1"
   },
   "outputs": [],
   "source": [
    "import qiskit\n",
    "import pylatexenc\n",
    "import torch\n",
    "import torch.nn as nn\n",
    "import torch.nn.functional as F"
   ]
  },
  {
   "cell_type": "code",
   "execution_count": 3,
   "metadata": {},
   "outputs": [],
   "source": [
    "import gym\n",
    "from functools import reduce\n",
    "from collections import deque, defaultdict"
   ]
  },
  {
   "cell_type": "code",
   "execution_count": 4,
   "metadata": {
    "id": "GfudJfnDmH06"
   },
   "outputs": [],
   "source": [
    "import qiskit\n",
    "import numpy as np\n",
    "import matplotlib.pyplot as plt\n",
    "import math, random, time, itertools\n",
    "from qiskit import QuantumCircuit, QuantumRegister, ClassicalRegister, Aer\n",
    "from qiskit.quantum_info.operators import Operator\n",
    "from qiskit.circuit import Parameter, ParameterVector\n",
    "from tqdm.notebook import tqdm\n",
    "from qiskit.opflow import Z, X, I, StateFn, CircuitStateFn, SummedOp, CircuitOp, AerPauliExpectation\n",
    "from qiskit.opflow.gradients import Gradient, NaturalGradient, QFI, Hessian\n",
    "from qiskit_machine_learning.connectors import TorchConnector\n",
    "from qiskit_machine_learning.neural_networks import OpflowQNN\n",
    "from qiskit.utils import QuantumInstance, algorithm_globals"
   ]
  },
  {
   "cell_type": "code",
   "execution_count": 5,
   "metadata": {},
   "outputs": [],
   "source": [
    "from Curling import Curling\n",
    "from ansatz import build_circuit"
   ]
  },
  {
   "cell_type": "markdown",
   "metadata": {
    "id": "jySdpQf_zuiE"
   },
   "source": [
    "# Build CIrucit"
   ]
  },
  {
   "cell_type": "markdown",
   "metadata": {},
   "source": [
    "### Ansatz list\n",
    "- 'base'\n",
    "- 'hw_eff'\n",
    "- 'universal'\n",
    "- 'universal_encoding'"
   ]
  },
  {
   "cell_type": "code",
   "execution_count": 6,
   "metadata": {},
   "outputs": [
    {
     "data": {
      "image/png": "[encoded data removed]",
      "text/plain": [
       "<Figure size 1062.63x144.48 with 1 Axes>"
      ]
     },
     "execution_count": 6,
     "metadata": {},
     "output_type": "execute_result"
    }
   ],
   "source": [
    "def draw_example():\n",
    "    quantum_circuit, param_rot, param_enc = build_circuit(n_qubits=2, n_layers=1, opt='universal_encoding')\n",
    "    return quantum_circuit\n",
    "draw_example().draw('mpl')"
   ]
  },
  {
   "cell_type": "code",
   "execution_count": 7,
   "metadata": {},
   "outputs": [],
   "source": [
    "# circuit, rot_params, enc_params = build_circuit(n_qubits=2, n_layers=1)"
   ]
  },
  {
   "cell_type": "code",
   "execution_count": 8,
   "metadata": {},
   "outputs": [],
   "source": [
    "class PQC_with_DataReuploading(nn.Module):\n",
    "    def __init__(self, n_qubits, n_layers, output_dim, observables=None, ansatz='base', activation='linear'):\n",
    "        super().__init__()\n",
    "        \n",
    "        self.n_qubits = n_qubits\n",
    "        self.n_layers = n_layers\n",
    "        self.output_dim = output_dim\n",
    "        self.activation = activation\n",
    "        self.ansatz = ansatz\n",
    "        \n",
    "        if observables == None:\n",
    "            self.observables = Z^n_qubits\n",
    "        else:\n",
    "            self.observables = observables\n",
    "        \n",
    "        # Build circuits / Parameter Vectors\n",
    "        self.circuit, self.rot_params, self.enc_params = build_circuit(self.n_qubits, self.n_layers, ansatz)\n",
    "        self.len_rot_params = len(self.rot_params)\n",
    "        self.len_enc_params = len(self.enc_params)\n",
    "        \n",
    "        self.psi = CircuitStateFn(primitive=self.circuit, coeff=1.)\n",
    "        self.Op = ~StateFn(self.observables) @ self.psi\n",
    "        \n",
    "        # set method to calculcate expected values\n",
    "        expval = AerPauliExpectation()\n",
    "        # define gradient method\n",
    "        gradient = Gradient()\n",
    "        # define quantum instances (statevector and sample based)\n",
    "        qi_sv = QuantumInstance(Aer.get_backend(\"aer_simulator_statevector\"))\n",
    "        # we set shots to 10 as this will determine the number of samples later on.\n",
    "        qi_qasm = QuantumInstance(Aer.get_backend(\"aer_simulator\"), shots=1000)\n",
    "        \n",
    "        self.qnn = OpflowQNN(operator=self.Op, input_params=self.enc_params, weight_params=self.rot_params, \n",
    "                             exp_val=expval, gradient=gradient, quantum_instance=qi_sv, input_gradients=True)\n",
    "        \n",
    "        self.total_params = []\n",
    "        for p in self.rot_params:\n",
    "            self.total_params.append(p)\n",
    "        for p in self.enc_params:\n",
    "            self.total_params.append(p)\n",
    "        \n",
    "        # Initial Parameters for circuit\n",
    "#         self.rot_param_vals = nn.Parameter(2*np.pi * torch.rand(len(self.rot_params)))\n",
    "        self.rot_param_vals = nn.Parameter(2*np.pi * torch.rand(len(self.rot_params)))\n",
    "#         self.enc_param_vals = nn.Parameter(torch.ones(len(self.enc_params)))\n",
    "#         self.enc_param_vals  = nn.Parameter(nn.Parameter(torch.rand(len(self.enc_params))))\n",
    "        self.enc_param_vals  = nn.Parameter(torch.rand(len(self.enc_params)))\n",
    "        \n",
    "        # Parameter for circuit output\n",
    "#         self.w = nn.Parameter(nn.Parameter(torch.rand(self.output_dim)))\n",
    "        self.w = nn.Parameter(torch.tensor([-1,1], dtype=torch.float32))\n",
    "        \n",
    "    def forward(self, inputs):\n",
    "        input_tiled = self.get_input_tiled(inputs)\n",
    "        input_scaled = self.enc_param_vals * input_tiled\n",
    "        input_params = input_scaled\n",
    "    \n",
    "        expectation = self.qnn.forward(input_params.detach(), self.rot_param_vals.detach())\n",
    "        \n",
    "        action_exp = torch.tensor(expectation) * self.w\n",
    "        action_prob = F.softmax(action_exp, dim=1)\n",
    "        \n",
    "        return action_prob\n",
    "\n",
    "    def backward(self, inputs):\n",
    "        input_tiled = self.get_input_tiled(inputs)\n",
    "        input_scaled = self.enc_param_vals * input_tiled\n",
    "        input_params = input_scaled\n",
    "        expectation = self.qnn.forward(input_params.detach(), self.rot_param_vals.detach())\n",
    "        enc_grad, rot_grad = self.qnn.backward(input_params.detach(), self.rot_param_vals.detach())\n",
    "        w_grad = torch.tensor(expectation).tile(self.output_dim)\n",
    "        return torch.tensor(rot_grad.squeeze()), torch.tensor(enc_grad.squeeze()), w_grad\n",
    "    \n",
    "    def get_input_tiled(self, inputs):\n",
    "        # Input: State values -> Need to insert into Encoding gates with scaling parameters(encoding params)\n",
    "        if self.ansatz == 'universal_encoding' or self.ansatz == 'hw_eff':\n",
    "            input_tiled = inputs.tile(2)\n",
    "            input_tiled = input_tiled.tile(self.n_layers)\n",
    "        elif self.ansatz == 'universal':\n",
    "            input_tiled = torch.zeros((inputs.shape[0], inputs.shape[1]+1))\n",
    "            input_tiled[:,:2] = inputs\n",
    "            input_tiled[:,-1] = inputs[:,-1]\n",
    "        else:\n",
    "            input_tiled = inputs.tile(self.n_layers)\n",
    "        return input_tiled"
   ]
  },
  {
   "cell_type": "code",
   "execution_count": 9,
   "metadata": {},
   "outputs": [],
   "source": [
    "policy = PQC_with_DataReuploading(n_qubits=2, n_layers=1, output_dim=2, ansatz='universal_encoding')"
   ]
  },
  {
   "cell_type": "code",
   "execution_count": 10,
   "metadata": {},
   "outputs": [
    {
     "data": {
      "text/plain": [
       "PauliOp(Pauli('ZZ'), coeff=1.0)"
      ]
     },
     "execution_count": 10,
     "metadata": {},
     "output_type": "execute_result"
    }
   ],
   "source": [
    "policy.observables"
   ]
  },
  {
   "cell_type": "code",
   "execution_count": 11,
   "metadata": {},
   "outputs": [
    {
     "data": {
      "image/png": "[encoded data removed]",
      "text/plain": [
       "<Figure size 1062.78x144.48 with 1 Axes>"
      ]
     },
     "execution_count": 11,
     "metadata": {},
     "output_type": "execute_result"
    }
   ],
   "source": [
    "policy.circuit.draw('mpl')"
   ]
  },
  {
   "cell_type": "code",
   "execution_count": 12,
   "metadata": {},
   "outputs": [],
   "source": [
    "inputs = torch.rand((10,2))"
   ]
  },
  {
   "cell_type": "code",
   "execution_count": 13,
   "metadata": {},
   "outputs": [
    {
     "data": {
      "text/plain": [
       "Parameter containing:\n",
       "tensor([2.6228, 5.6616, 0.2285, 2.2333, 5.3019, 1.7162, 2.1804, 3.7384, 3.6163,\n",
       "        0.7399, 1.2748, 0.6176, 1.2497], requires_grad=True)"
      ]
     },
     "execution_count": 13,
     "metadata": {},
     "output_type": "execute_result"
    }
   ],
   "source": [
    "policy.rot_param_vals"
   ]
  },
  {
   "cell_type": "code",
   "execution_count": 14,
   "metadata": {},
   "outputs": [
    {
     "data": {
      "text/plain": [
       "Parameter containing:\n",
       "tensor([0.0589, 0.6172, 0.0076, 0.3204], requires_grad=True)"
      ]
     },
     "execution_count": 14,
     "metadata": {},
     "output_type": "execute_result"
    }
   ],
   "source": [
    "policy.enc_param_vals"
   ]
  },
  {
   "cell_type": "code",
   "execution_count": 15,
   "metadata": {},
   "outputs": [
    {
     "data": {
      "text/plain": [
       "Parameter containing:\n",
       "tensor([-1.,  1.], requires_grad=True)"
      ]
     },
     "execution_count": 15,
     "metadata": {},
     "output_type": "execute_result"
    }
   ],
   "source": [
    "policy.w"
   ]
  },
  {
   "cell_type": "code",
   "execution_count": 16,
   "metadata": {},
   "outputs": [
    {
     "data": {
      "text/plain": [
       "tensor([[0.4442, 0.5558],\n",
       "        [0.4552, 0.5448],\n",
       "        [0.4507, 0.5493],\n",
       "        [0.4408, 0.5592],\n",
       "        [0.4484, 0.5516],\n",
       "        [0.4561, 0.5439],\n",
       "        [0.4423, 0.5577],\n",
       "        [0.4570, 0.5430],\n",
       "        [0.4414, 0.5586],\n",
       "        [0.4406, 0.5594]], dtype=torch.float64, grad_fn=<SoftmaxBackward0>)"
      ]
     },
     "execution_count": 16,
     "metadata": {},
     "output_type": "execute_result"
    }
   ],
   "source": [
    "policy.forward(inputs)"
   ]
  },
  {
   "cell_type": "code",
   "execution_count": 17,
   "metadata": {},
   "outputs": [
    {
     "name": "stdout",
     "output_type": "stream",
     "text": [
      "1.5346052646636963\n"
     ]
    }
   ],
   "source": [
    "s = time.time()\n",
    "a,b,c = policy.backward(inputs)\n",
    "print(time.time()-s)"
   ]
  },
  {
   "cell_type": "markdown",
   "metadata": {},
   "source": [
    "# Make Quantum Agent"
   ]
  },
  {
   "cell_type": "code",
   "execution_count": 30,
   "metadata": {},
   "outputs": [],
   "source": [
    "class QuantumAgent():\n",
    "    def __init__(self, input_state_dim, n_actions, n_layers=1, ansatz='base'):\n",
    "        self.policy = PQC_with_DataReuploading(n_qubits=input_state_dim, n_layers=n_layers, \n",
    "                                               output_dim=n_actions, observables=None, ansatz=ansatz,\n",
    "                                               activation='linear')\n",
    "        self.n_layers = n_layers\n",
    "#         self.variational_optim = torch.optim.Adam([self.policy.rot_param_vals], lr=0.1)\n",
    "#         self.encoding_optim = torch.optim.Adam([self.policy.enc_param_vals], lr=0.1)\n",
    "#         self.weight_optim = torch.optim.Adam([self.policy.w], lr=0.01)\n",
    "        \n",
    "        self.lr = 10\n",
    "        \n",
    "#         self.optims = [self.variational_optim, self.encoding_optim, self.weight_optim]\n",
    "        \n",
    "    def get_actions(self, input_state):\n",
    "        return self.policy.forward(input_state)\n",
    "    \n",
    "    def update_policy(self, states, id_action_pairs, returns, action_probs, batch_size):\n",
    "        r_grad, e_grad, w_grad = self.policy.backward(states)\n",
    "        \n",
    "        p_actions = torch.tensor([action_probs[id_action_pairs[i][0], id_action_pairs[i][1]] for i in range(action_probs.shape[0])])\n",
    "        p_actions = p_actions.reshape(p_actions.shape[0], -1)\n",
    "        action_idxs = id_action_pairs[:,1]\n",
    "        \n",
    "        returns = returns.reshape(returns.shape[0], -1)\n",
    "        action_weights = agent.policy.w.detach().numpy()[id_action_pairs[:,1]]\n",
    "        action_weights = action_weights[:,np.newaxis]\n",
    "        action_weights = torch.tensor(action_weights)\n",
    "        \n",
    "        w = agent.policy.w.tile(len(states)).reshape(len(states),-1)\n",
    "        \n",
    "        sum_action_weight = torch.sum((action_probs * w), dim=1)\n",
    "        \n",
    "        rot_grad = np.array([(returns[i] * ( action_weights[i] * r_grad[i] - sum_action_weight[i] * r_grad[i] )).detach().numpy() \n",
    "                    for i in range(len(returns))])\n",
    "        \n",
    "#         input_scaled = self.policy.enc_param_vals * self.policy.get_input_tiled(states)\n",
    "        input_scaled = self.policy.get_input_tiled(states)\n",
    "        enc_grad = returns * ( input_scaled * action_weights * e_grad \n",
    "                              - sum_action_weight.reshape((sum_action_weight.shape[0],-1)) * input_scaled * e_grad)\n",
    "        \n",
    "#         weight_grad = returns * ( w_grad * action_weights - torch.mean(p_actions * w) * w_grad)\n",
    "        \n",
    "        prev = self.policy.rot_param_vals.detach().numpy().copy()\n",
    "        prev1 = self.policy.enc_param_vals.detach().numpy().copy()\n",
    "#         prev2 = self.policy.w.detach().numpy().copy()\n",
    "        \n",
    "#         rot_update = (torch.mean(rot_grad.detach(), dim=0) / batch_size).type(torch.float32)\n",
    "#         enc_update = (torch.mean(enc_grad, dim=0).detach() / batch_size).type(torch.float32)\n",
    "#         w_update = (torch.mean(weight_grad, dim=0).detach() / batch_size).type(torch.float32)\n",
    "\n",
    "        rot_update = torch.sum(torch.from_numpy(rot_grad), dim=0) / batch_size\n",
    "        enc_update = torch.sum(enc_grad, dim=0) / batch_size\n",
    "#         w_update = torch.mean(weight_grad, dim=0) / batch_size\n",
    "        \n",
    "        with torch.no_grad():            \n",
    "            self.policy.rot_param_vals += self.lr*rot_update\n",
    "            self.policy.enc_param_vals += self.lr*enc_update\n",
    "#             self.policy.w += 5 * w_update\n",
    "\n",
    "#         self.policy.rot_param_vals.grad = -1*rot_update\n",
    "#         self.policy.enc_param_vals.grad = -1*enc_update\n",
    "#         self.policy.w.grad = -1*w_update\n",
    "                \n",
    "#         print(rot_update)\n",
    "#         print(enc_update)\n",
    "        \n",
    "#         self.variational_optim.step()\n",
    "#         self.encoding_optim.step()\n",
    "#         self.weight_optim.step()\n",
    "\n",
    "        print('rot updated')\n",
    "        print(self.policy.rot_param_vals.detach() - prev)\n",
    "#         print(rot_update)\n",
    "        print('enc updated')\n",
    "        print(self.policy.enc_param_vals.detach() - prev1)\n",
    "#         print(enc_update)\n",
    "#         print(self.policy.w.detach() - prev2)\n",
    "#         print(w_update)\n",
    "        \n",
    "#         print('w', self.policy.w)\n",
    "        \n",
    "#         with torch.no_grad():\n",
    "#             self.policy.rot_param_vals[self.policy.rot_param_vals > 2*np.pi] = 2*np.pi\n",
    "#             self.policy.enc_param_vals[self.policy.enc_param_vals > 2*np.pi] = 2*np.pi\n",
    "#             self.policy.rot_param_vals[self.policy.rot_param_vals < 0] = 0\n",
    "#             self.policy.enc_param_vals[self.policy.enc_param_vals < 0] = 0\n",
    "        "
   ]
  },
  {
   "cell_type": "code",
   "execution_count": 31,
   "metadata": {},
   "outputs": [],
   "source": [
    "n_qubits = 2 # Dimension of Input\n",
    "n_layers = 1\n",
    "n_actions = 2 # Dimention of output\n",
    "agent = QuantumAgent(input_state_dim = n_qubits, n_actions=n_actions, n_layers=n_layers, ansatz='universal_encoding')"
   ]
  },
  {
   "cell_type": "code",
   "execution_count": 32,
   "metadata": {},
   "outputs": [
    {
     "data": {
      "image/png": "[encoded data removed]",
      "text/plain": [
       "<Figure size 1102.16x144.48 with 1 Axes>"
      ]
     },
     "execution_count": 32,
     "metadata": {},
     "output_type": "execute_result"
    }
   ],
   "source": [
    "agent.policy.circuit.draw('mpl')"
   ]
  },
  {
   "cell_type": "markdown",
   "metadata": {},
   "source": [
    "# Run Episodes and Update Policy"
   ]
  },
  {
   "cell_type": "code",
   "execution_count": 33,
   "metadata": {},
   "outputs": [],
   "source": [
    "def gather_episodes(state_bounds, n_actions, agent, n_episodes, env_name):\n",
    "    \"\"\"Interact with environment in batched fashion.\"\"\"\n",
    "\n",
    "    trajectories = [defaultdict(list) for _ in range(n_episodes)]\n",
    "    if env_name == 'Curling':\n",
    "        envs = [Curling(\"each_end_counts\") for _ in range(n_episodes)]\n",
    "#         envs = [Curling(\"winner_takes_it_all\") for _ in range(n_episodes)]\n",
    "    else:\n",
    "        envs = [gym.make(env_name) for _ in range(n_episodes)]\n",
    "\n",
    "    done = [False for _ in range(n_episodes)]\n",
    "    states = [e.reset() for e in envs]\n",
    "\n",
    "    while not all(done):\n",
    "        unfinished_ids = [i for i in range(n_episodes) if not done[i]]\n",
    "#         print(states)\n",
    "        normalized_states = [s/state_bounds for i, s in enumerate(states) if not done[i]]\n",
    "#         print(normalized_states)\n",
    "        \n",
    "        for i, state in zip(unfinished_ids, normalized_states):\n",
    "            trajectories[i]['states'].append(state)\n",
    "\n",
    "        states = torch.from_numpy(np.array(normalized_states))\n",
    "        action_probs = agent.get_actions(states)\n",
    "\n",
    "        # Store action and transition all environments to the next state\n",
    "        states = [None for i in range(n_episodes)]\n",
    "        for i, action_prob in zip(unfinished_ids, action_probs.detach().numpy()):\n",
    "            action = np.random.choice(n_actions, p=action_prob)\n",
    "#             action = 0 # 0 - 수비적 / 1 - 공격적\n",
    "            states[i], reward, done[i], _ = envs[i].step(action)\n",
    "            trajectories[i]['actions'].append(action)\n",
    "            trajectories[i]['rewards'].append(reward)\n",
    "            trajectories[i]['action probs'].append(action_prob)\n",
    "\n",
    "    return trajectories\n",
    "\n",
    "def compute_returns(rewards_history, gamma):\n",
    "    \"\"\"Compute discounted returns with discount factor `gamma`.\"\"\"\n",
    "    returns = []\n",
    "    discounted_sum = 0\n",
    "    for r in rewards_history[::-1]:\n",
    "        discounted_sum = r + gamma * discounted_sum\n",
    "        returns.insert(0, discounted_sum)\n",
    "\n",
    "    # Normalize them for faster and more stable learning\n",
    "    returns = np.array(returns)\n",
    "    returns = (returns - np.mean(returns)) / (np.std(returns) + 1e-8)\n",
    "    returns = returns.tolist()\n",
    "\n",
    "    return returns"
   ]
  },
  {
   "cell_type": "code",
   "execution_count": 34,
   "metadata": {},
   "outputs": [],
   "source": [
    "# env_name = \"CartPole-v1\"\n",
    "env_name = \"Curling\"\n",
    "if env_name == \"CartPole-v1\":\n",
    "    state_bounds = np.array([2.4, 2.5, 0.21, 2.5])\n",
    "elif env_name == 'Curling':\n",
    "    state_bounds = np.array([100/np.pi, 1])\n",
    "gamma = 1\n",
    "batch_size = 5\n",
    "n_episodes = 500"
   ]
  },
  {
   "cell_type": "code",
   "execution_count": 35,
   "metadata": {
    "scrolled": true
   },
   "outputs": [
    {
     "data": {
      "application/vnd.jupyter.widget-view+json": {
       "model_id": "ae4840df3c86488e9c06294fd74bcd47",
       "version_major": 2,
       "version_minor": 0
      },
      "text/plain": [
       "  0%|          | 0/100 [00:00<?, ?it/s]"
      ]
     },
     "metadata": {},
     "output_type": "display_data"
    },
    {
     "name": "stdout",
     "output_type": "stream",
     "text": [
      "rot updated\n",
      "tensor([-0.7205,  0.4398, -1.5931, -3.2375, -0.2589,  1.8092, -2.6055, -0.2869,\n",
      "         3.7256, -1.0552, -2.3400, -3.5837, -0.6748])\n",
      "enc updated\n",
      "tensor([-1.0444,  0.0000, -0.1516,  0.0000])\n",
      "Finished episode 5 Average rewards:  60.0\n",
      "rot updated\n",
      "tensor([ 0.0373, -0.0098, -0.4908, -0.6985, -0.1764,  0.2734, -0.0401, -0.8693,\n",
      "         1.0250, -0.0329, -0.1851, -0.8551, -0.7374])\n",
      "enc updated\n",
      "tensor([-2.4131,  0.0000, -0.7117,  0.0000])\n",
      "Finished episode 10 Average rewards:  60.4\n",
      "Monitored episode 50 Average Monitored rewards:  32.06\n",
      "rot updated\n",
      "tensor([ 0.2335,  0.1292, -0.0211, -0.0372,  0.5032, -0.0897, -0.6932, -0.2071,\n",
      "         0.4748, -0.1245, -0.1993,  0.1214,  0.1068])\n",
      "enc updated\n",
      "tensor([-0.2053,  0.0000,  0.4201,  0.0000])\n",
      "Finished episode 15 Average rewards:  61.6\n",
      "rot updated\n",
      "tensor([  4.9556, -10.3410,   2.3943,  -0.7017,   7.0807,  14.2162,   1.1198,\n",
      "         -1.3511,   0.3814,   0.1978,  -0.8181,  -0.4561,  -0.0447])\n",
      "enc updated\n",
      "tensor([-0.2097,  0.0000,  0.1274,  0.0000])\n",
      "Finished episode 20 Average rewards:  15.6\n",
      "Monitored episode 50 Average Monitored rewards:  42.98\n",
      "rot updated\n",
      "tensor([ 2.6620,  0.3025,  0.8034, -1.9632, -0.5527, -0.4749,  0.0749,  1.0723,\n",
      "         7.1600, -1.0296,  0.5911,  5.5606,  0.1833])\n",
      "enc updated\n",
      "tensor([ 0.2712,  0.0000, -0.3265,  0.0000])\n",
      "Finished episode 25 Average rewards:  12.4\n",
      "rot updated\n",
      "tensor([ 14.1071,   0.2678, -11.6140,   0.1583,  -7.1027,  -0.0903,   6.5606,\n",
      "         -7.1961,  15.1339,   3.7327,  10.4467,   8.5736,   0.0583])\n",
      "enc updated\n",
      "tensor([ 3.6867,  0.0000, -3.6694,  0.0000])\n",
      "Finished episode 30 Average rewards:  58.6\n",
      "Monitored episode 50 Average Monitored rewards:  45.84\n",
      "rot updated\n",
      "tensor([-1.5377, -1.2879,  3.0270, -0.9532, -0.8560,  1.7431, -1.4732,  1.0145,\n",
      "        -1.7750,  0.1008, -1.6424,  0.6682, -3.3591])\n",
      "enc updated\n",
      "tensor([-0.8630,  0.0000, -0.1502,  0.0000])\n",
      "Finished episode 35 Average rewards:  61.0\n",
      "rot updated\n",
      "tensor([-0.0257, -0.3309,  0.1362, -0.1392,  0.3611,  0.4526, -0.1604,  0.1006,\n",
      "         0.1556, -0.0658,  0.0411, -0.1009,  0.3344])\n",
      "enc updated\n",
      "tensor([-0.1060,  0.0000,  0.4518,  0.0000])\n",
      "Finished episode 40 Average rewards:  83.2\n",
      "Monitored episode 50 Average Monitored rewards:  56.2\n",
      "rot updated\n",
      "tensor([-7.7817, -1.0765,  5.0110,  1.5255, -2.7300, -0.7799, -1.0213, -1.5331,\n",
      "         3.6786, -0.0091, -3.1387, -5.0616,  1.0726])\n",
      "enc updated\n",
      "tensor([ 0.1176,  0.0000, -0.1865,  0.0000])\n",
      "Finished episode 45 Average rewards:  84.2\n",
      "rot updated\n",
      "tensor([-0.5524,  1.9168,  2.7846, -0.0570, -2.9014, -1.8830,  2.2656, -1.7694,\n",
      "        -1.3250,  0.0537,  0.8893,  1.5697,  1.0566])\n",
      "enc updated\n",
      "tensor([-1.0578,  0.0000,  1.2810,  0.0000])\n",
      "Finished episode 50 Average rewards:  62.6\n",
      "Monitored episode 50 Average Monitored rewards:  62.9\n",
      "rot updated\n",
      "tensor([-4.5225, -1.8059,  3.8360, -0.6983, -3.5636, -3.0228, -0.6570, -3.9170,\n",
      "         6.5045,  0.0679, -5.9145, -5.2519, -0.2984])\n",
      "enc updated\n",
      "tensor([0.8777, 0.0000, 0.3447, 0.0000])\n",
      "Finished episode 55 Average rewards:  38.8\n",
      "rot updated\n",
      "tensor([-3.2257e-01,  3.1887e+00,  1.2966e+00, -6.2215e-01, -2.0027e-01,\n",
      "        -2.5139e+00,  7.8614e-01,  1.4821e+00, -2.4898e-01,  2.2140e-03,\n",
      "         2.5384e+00, -1.3193e+00, -6.0606e-01])\n",
      "enc updated\n",
      "tensor([0.1316, 0.0000, 0.0332, 0.0000])\n",
      "Finished episode 60 Average rewards:  82.8\n",
      "Monitored episode 50 Average Monitored rewards:  53.06\n",
      "rot updated\n",
      "tensor([-0.4358, -0.3180, -2.9474, -5.3717, -2.3005,  5.1006,  3.4976, -1.4855,\n",
      "        -0.5985,  0.0735,  4.6729, -1.1859,  1.4841])\n",
      "enc updated\n",
      "tensor([-0.4153,  0.0000,  1.6450,  0.0000])\n",
      "Finished episode 65 Average rewards:  81.6\n",
      "rot updated\n",
      "tensor([ 0.2717, -8.5207,  0.3189, -3.3105,  0.5122,  0.5488, -0.0496, -1.1907,\n",
      "        -0.0680,  0.0128, -0.9554, -5.4385,  0.0835])\n",
      "enc updated\n",
      "tensor([-0.3409,  0.0000, -0.9771,  0.0000])\n",
      "Finished episode 70 Average rewards:  -7.8\n",
      "Monitored episode 50 Average Monitored rewards:  56.34\n",
      "rot updated\n",
      "tensor([-9.1629, -6.6548,  5.0752,  0.7227,  3.7216,  1.4166, -2.7589,  2.1158,\n",
      "        10.3551, -0.5142, 11.7348, -1.1425,  1.3217])\n",
      "enc updated\n",
      "tensor([-1.1175,  0.0000, -1.0100,  0.0000])\n",
      "Finished episode 75 Average rewards:  40.2\n",
      "rot updated\n",
      "tensor([-0.0794,  0.9557,  0.7511,  0.1002, -1.4208,  1.9940, -1.8828,  0.1467,\n",
      "         0.4248, -0.3189, -0.3627, -0.0712, -0.2192])\n",
      "enc updated\n",
      "tensor([0.4530, 0.0000, 0.0132, 0.0000])\n",
      "Finished episode 80 Average rewards:  16.6\n",
      "Monitored episode 50 Average Monitored rewards:  43.58\n",
      "rot updated\n",
      "tensor([ 0.9960, -0.5447, -0.1497, -0.7842,  0.3141, -0.9668,  0.1339,  0.7553,\n",
      "         1.1750, -0.0282, -1.5822, -0.4512, -1.5150])\n",
      "enc updated\n",
      "tensor([0.4586, 0.0000, 0.3953, 0.0000])\n",
      "Finished episode 85 Average rewards:  37.0\n",
      "rot updated\n",
      "tensor([-0.4731, -3.0337, -0.0585,  0.1188,  1.6300,  0.2166, -5.8570, -0.1299,\n",
      "        -2.9619,  0.0175,  6.3072,  3.1763, -0.6933])\n",
      "enc updated\n",
      "tensor([ 0.0854,  0.0000, -0.0570,  0.0000])\n",
      "Finished episode 90 Average rewards:  37.6\n",
      "Monitored episode 50 Average Monitored rewards:  52.12\n",
      "rot updated\n",
      "tensor([-4.2433,  3.9079,  3.0935, -0.8039,  3.3710, -0.2354,  1.2330, -0.1543,\n",
      "        -0.7478, -0.3839,  0.4708,  0.8767,  0.2055])\n",
      "enc updated\n",
      "tensor([ 0.4101,  0.0000, -0.1512,  0.0000])\n",
      "Finished episode 95 Average rewards:  40.0\n",
      "rot updated\n",
      "tensor([-2.0986, -0.1845,  0.6715,  1.1235,  2.8058, -0.8802, -0.1286,  1.7188,\n",
      "         0.4271, -0.0794, -1.1121,  1.3213,  1.1817])\n",
      "enc updated\n",
      "tensor([1.1394, 0.0000, 0.8721, 0.0000])\n",
      "Finished episode 100 Average rewards:  -6.2\n",
      "Monitored episode 50 Average Monitored rewards:  54.92\n",
      "rot updated\n",
      "tensor([-0.2431, -0.7749, -0.1179, -0.4637,  0.2080, -0.2897,  1.1149, -1.7820,\n",
      "         0.7409,  0.9893, -1.7714,  0.3480,  1.6340])\n",
      "enc updated\n",
      "tensor([-1.3411,  0.0000, -0.8366,  0.0000])\n",
      "Finished episode 105 Average rewards:  15.2\n",
      "rot updated\n",
      "tensor([-0.4000,  2.1497, -0.2730, -0.6728, -0.0873, -0.0887, -0.2256, -0.6788,\n",
      "         1.8420,  0.1543, -0.0575,  0.0454,  0.4031])\n",
      "enc updated\n",
      "tensor([ 0.2060,  0.0000, -0.6313,  0.0000])\n",
      "Finished episode 110 Average rewards:  62.4\n",
      "Monitored episode 50 Average Monitored rewards:  51.06\n",
      "rot updated\n",
      "tensor([ 0.1037,  0.0499,  0.4936,  0.0295,  0.1337, -0.2252, -0.2913,  0.2073,\n",
      "        -0.2382,  0.0075, -0.2401, -0.4651, -0.2492])\n",
      "enc updated\n",
      "tensor([ 0.3238,  0.0000, -0.3519,  0.0000])\n",
      "Finished episode 115 Average rewards:  41.8\n",
      "rot updated\n",
      "tensor([-2.0251, -0.7947, -1.2215,  1.0789, -0.0498,  0.7259,  0.1343, -2.3512,\n",
      "        -0.5652,  0.0039, -0.1893,  2.8743,  0.7215])\n",
      "enc updated\n",
      "tensor([-0.0277,  0.0000, -0.0399,  0.0000])\n",
      "Finished episode 120 Average rewards:  15.8\n",
      "Monitored episode 50 Average Monitored rewards:  58.58\n",
      "rot updated\n",
      "tensor([ 0.2470,  0.1586,  0.5813,  0.2931,  0.2022, -0.1894, -0.0243,  0.8488,\n",
      "         2.3409,  0.0031, -0.0479, -2.7627,  0.3229])\n",
      "enc updated\n",
      "tensor([-0.0566,  0.0000,  0.2353,  0.0000])\n",
      "Finished episode 125 Average rewards:  37.6\n",
      "rot updated\n",
      "tensor([-1.1024,  0.0472,  0.1287, -1.8547, -0.5700,  1.8544,  1.0840,  0.8957,\n",
      "        -1.7497, -0.0046, -0.3163, -0.1141,  0.8387])\n",
      "enc updated\n",
      "tensor([0.1940, 0.0000, 0.1773, 0.0000])\n",
      "Finished episode 130 Average rewards:  38.6\n",
      "Monitored episode 50 Average Monitored rewards:  49.6\n",
      "rot updated\n",
      "tensor([-3.4089e+00,  1.2223e+00, -2.4981e+00,  3.4317e+00,  2.8074e+00,\n",
      "        -2.0423e+00, -1.3342e+00,  1.7815e+00, -1.2680e+00, -8.7404e-04,\n",
      "        -9.5936e-01, -4.4750e-01,  1.0308e-02])\n",
      "enc updated\n",
      "tensor([ 0.0063,  0.0000, -0.0134,  0.0000])\n",
      "Finished episode 135 Average rewards:  -3.8\n",
      "rot updated\n",
      "tensor([-0.3008, -0.4457, -0.3568, -0.2276,  0.0526,  0.1849, -0.0310,  0.1732,\n",
      "         0.7191,  0.0076,  0.5380,  0.4797, -0.2583])\n",
      "enc updated\n",
      "tensor([-0.1346,  0.0000, -0.1390,  0.0000])\n",
      "Finished episode 140 Average rewards:  81.0\n",
      "Monitored episode 50 Average Monitored rewards:  36.34\n",
      "rot updated\n",
      "tensor([-1.9118, -0.8874, -0.9633,  1.0416,  1.0279,  0.9899,  0.1123,  1.8422,\n",
      "         1.8308,  0.0036,  1.0062, -0.2760, -2.3247])\n",
      "enc updated\n",
      "tensor([0.2633, 0.0000, 0.5473, 0.0000])\n",
      "Finished episode 145 Average rewards:  40.4\n",
      "rot updated\n",
      "tensor([ 0.4609,  0.2788,  0.6912, -0.1717,  1.0022, -0.0139, -0.9668, -0.0579,\n",
      "         0.3871,  0.0263, -0.6393,  0.3574, -0.2973])\n",
      "enc updated\n",
      "tensor([ 0.0501,  0.0000, -0.0656,  0.0000])\n",
      "Finished episode 150 Average rewards:  15.0\n"
     ]
    },
    {
     "name": "stdout",
     "output_type": "stream",
     "text": [
      "Monitored episode 50 Average Monitored rewards:  43.36\n",
      "rot updated\n",
      "tensor([-0.5627, -0.0080,  0.5255, -0.0117, -0.6004, -0.0309, -0.6899,  0.3300,\n",
      "        -0.6940,  0.0985, -0.3718, -0.4657, -0.4548])\n",
      "enc updated\n",
      "tensor([-0.2652,  0.0000, -0.6153,  0.0000])\n",
      "Finished episode 155 Average rewards:  60.6\n",
      "rot updated\n",
      "tensor([-0.9621,  0.7256, -0.8129,  1.0410, -0.4382, -1.2750, -1.3771,  0.0767,\n",
      "         1.8001,  0.0185, -1.1486, -0.5199,  0.4181])\n",
      "enc updated\n",
      "tensor([ 0.0390,  0.0000, -0.1870,  0.0000])\n",
      "Finished episode 160 Average rewards:  61.8\n",
      "Monitored episode 50 Average Monitored rewards:  56.1\n",
      "rot updated\n",
      "tensor([ 1.9388, -0.6293,  1.2336, -0.2766,  1.1950, -0.4291,  1.5513, -1.9631,\n",
      "        -0.6127, -0.0029,  0.8579,  0.1051,  0.0390])\n",
      "enc updated\n",
      "tensor([0.0247, 0.0000, 0.0360, 0.0000])\n",
      "Finished episode 165 Average rewards:  63.6\n",
      "rot updated\n",
      "tensor([-0.6250,  0.6632, -0.9393, -0.6045,  0.0030,  0.0853, -0.1496,  1.5441,\n",
      "         1.3117,  0.0110, -1.1706,  0.4070, -0.3615])\n",
      "enc updated\n",
      "tensor([-0.2390,  0.0000, -0.2216,  0.0000])\n",
      "Finished episode 170 Average rewards:  39.0\n",
      "Monitored episode 50 Average Monitored rewards:  47.24\n",
      "rot updated\n",
      "tensor([ 0.0874,  0.4841,  3.0242,  2.1661,  1.5831, -2.2339, -0.1453, -2.6193,\n",
      "        -1.2371,  0.0164,  0.2560, -4.3891,  0.1868])\n",
      "enc updated\n",
      "tensor([-0.0800,  0.0000, -0.1234,  0.0000])\n",
      "Finished episode 175 Average rewards:  41.8\n",
      "rot updated\n",
      "tensor([ 3.6935, -0.1084, -0.2915,  0.4997,  1.8466, -0.6966,  2.8584, -0.2481,\n",
      "        -2.4684,  0.0260,  0.9152, -3.3929,  1.0635])\n",
      "enc updated\n",
      "tensor([ 0.3793,  0.0000, -0.3848,  0.0000])\n",
      "Finished episode 180 Average rewards:  38.6\n",
      "Monitored episode 50 Average Monitored rewards:  52.0\n",
      "rot updated\n",
      "tensor([-0.1217,  0.6762,  0.7785, -0.0313,  1.4504,  0.0172, -0.9070, -1.4409,\n",
      "        -0.2081, -0.0182, -0.3246,  0.7725,  0.8185])\n",
      "enc updated\n",
      "tensor([-0.1309,  0.0000, -0.0575,  0.0000])\n",
      "Finished episode 185 Average rewards:  38.6\n",
      "rot updated\n",
      "tensor([ 2.8221, -0.8067, -3.0387, -1.1470,  1.2487, -1.3476,  3.0929,  1.6848,\n",
      "        -0.7288, -0.0041,  1.1404,  0.8134, -0.5004])\n",
      "enc updated\n",
      "tensor([-0.2461,  0.0000,  0.1618,  0.0000])\n",
      "Finished episode 190 Average rewards:  34.4\n",
      "Monitored episode 50 Average Monitored rewards:  54.86\n",
      "rot updated\n",
      "tensor([-0.1281, -0.0563, -0.4077, -0.1748,  1.8374,  0.1601,  1.3714,  0.2900,\n",
      "        -0.1569, -0.0163,  0.2300, -0.8444,  1.3982])\n",
      "enc updated\n",
      "tensor([-0.0093,  0.0000, -0.0161,  0.0000])\n",
      "Finished episode 195 Average rewards:  59.0\n",
      "rot updated\n",
      "tensor([-0.0015,  0.0040, -0.0418, -0.0069, -0.2150, -0.0195, -0.2493, -0.2034,\n",
      "         0.2406,  0.0181,  0.0389, -0.1544,  0.0386])\n",
      "enc updated\n",
      "tensor([0.0440, 0.0000, 0.0151, 0.0000])\n",
      "Finished episode 200 Average rewards:  41.8\n",
      "Monitored episode 50 Average Monitored rewards:  50.0\n",
      "rot updated\n",
      "tensor([-0.8125, -0.1199, -0.5158, -0.6050,  0.1697,  0.7059,  0.3877,  1.1775,\n",
      "        -2.4400, -0.0849, -0.4479,  0.5156, -0.0357])\n",
      "enc updated\n",
      "tensor([-0.3182,  0.0000, -0.4929,  0.0000])\n",
      "Finished episode 205 Average rewards:  64.2\n",
      "rot updated\n",
      "tensor([-0.3473, -0.0853,  0.1626,  0.4829,  0.0749, -0.4367, -0.3599,  0.3999,\n",
      "        -0.1947, -0.0177,  0.1773,  0.4207, -0.0187])\n",
      "enc updated\n",
      "tensor([-0.0448,  0.0000, -0.0092,  0.0000])\n",
      "Finished episode 210 Average rewards:  37.0\n",
      "Monitored episode 50 Average Monitored rewards:  31.62\n",
      "rot updated\n",
      "tensor([-0.0870,  0.2689, -0.3928,  0.1191,  0.0787,  0.4341, -0.0056,  0.7873,\n",
      "         1.8744, -0.2829, -1.2001,  1.0616, -0.9021])\n",
      "enc updated\n",
      "tensor([-0.2572,  0.0000,  0.5285,  0.0000])\n",
      "Finished episode 215 Average rewards:  34.6\n",
      "rot updated\n",
      "tensor([-0.2015, -0.0203,  0.2346, -0.0220,  0.0930, -0.0823, -0.0824,  0.1216,\n",
      "        -0.2195, -0.0934,  0.2206, -0.2730,  0.1380])\n",
      "enc updated\n",
      "tensor([-0.1635,  0.0000,  0.1824,  0.0000])\n",
      "Finished episode 220 Average rewards:  19.4\n",
      "Monitored episode 50 Average Monitored rewards:  53.86\n",
      "rot updated\n",
      "tensor([-0.2052, -0.0327, -0.0594, -0.4003,  0.1570,  0.2737,  0.1260,  0.0036,\n",
      "         0.3022, -0.0076,  0.1527,  0.1512,  0.0311])\n",
      "enc updated\n",
      "tensor([ 0.1355,  0.0000, -0.1192,  0.0000])\n",
      "Finished episode 225 Average rewards:  83.8\n",
      "rot updated\n",
      "tensor([-0.9447,  0.2110,  1.5254, -1.8828,  2.0234,  1.6941,  0.6056,  0.4261,\n",
      "         1.5671, -0.2156,  1.6291,  0.8033,  0.8536])\n",
      "enc updated\n",
      "tensor([ 0.0883,  0.0000, -0.0058,  0.0000])\n",
      "Finished episode 230 Average rewards:  14.2\n",
      "Monitored episode 50 Average Monitored rewards:  58.02\n",
      "rot updated\n",
      "tensor([-1.1514,  0.2219, -0.5580, -0.7005,  2.3201, -0.3267, -2.5510, -1.3384,\n",
      "        -0.1124,  0.0637, -0.3581,  1.0849, -0.3500])\n",
      "enc updated\n",
      "tensor([ 0.0105,  0.0000, -0.0285,  0.0000])\n",
      "Finished episode 235 Average rewards:  16.4\n",
      "rot updated\n",
      "tensor([ 0.2373,  0.1047,  0.5965,  0.6004, -0.2112,  0.2817,  0.1839, -0.2292,\n",
      "        -1.3622, -0.3577, -0.5459, -0.4607, -1.1406])\n",
      "enc updated\n",
      "tensor([ 0.1399,  0.0000, -0.2795,  0.0000])\n",
      "Finished episode 240 Average rewards:  66.4\n",
      "Monitored episode 50 Average Monitored rewards:  56.84\n",
      "rot updated\n",
      "tensor([ 0.1610,  0.0188, -0.0501, -0.0362,  0.1457, -0.0475, -0.1103,  0.0692,\n",
      "        -0.0874,  0.0386, -0.1501,  0.3534, -0.1068])\n",
      "enc updated\n",
      "tensor([ 0.0103,  0.0000, -0.0503,  0.0000])\n",
      "Finished episode 245 Average rewards:  61.2\n",
      "rot updated\n",
      "tensor([-7.6018e-02, -4.7301e-02, -3.0036e-01, -2.7078e-01,  2.2237e-01,\n",
      "        -1.1064e-01, -2.8367e-01,  4.2529e-01,  7.3913e-01,  1.0080e-03,\n",
      "         1.7743e-01,  2.3309e+00,  7.1302e-02])\n",
      "enc updated\n",
      "tensor([0.0199, 0.0000, 0.0077, 0.0000])\n",
      "Finished episode 250 Average rewards:  59.0\n",
      "Monitored episode 50 Average Monitored rewards:  47.48\n",
      "rot updated\n",
      "tensor([-0.3170, -0.0379, -1.0499, -0.0745,  0.0613,  0.2152,  0.2041,  0.9229,\n",
      "         1.5243, -0.0524,  0.3517,  1.4774, -0.2635])\n",
      "enc updated\n",
      "tensor([-0.1189,  0.0000,  0.1155,  0.0000])\n",
      "Finished episode 255 Average rewards:  60.8\n",
      "rot updated\n",
      "tensor([ 0.0662,  0.0781, -0.0095, -0.0552, -0.0372, -0.0148, -0.0536,  0.0200,\n",
      "         0.1476, -0.0392, -0.1245,  0.0805, -0.0971])\n",
      "enc updated\n",
      "tensor([0.0089, 0.0000, 0.0087, 0.0000])\n",
      "Finished episode 260 Average rewards:  38.4\n",
      "Monitored episode 50 Average Monitored rewards:  33.48\n",
      "rot updated\n",
      "tensor([ 0.7686,  0.3376,  0.5155,  0.0072,  0.0683,  0.0076, -0.3574, -0.4667,\n",
      "         0.7243, -0.1063, -1.0118, -0.0935,  0.6569])\n",
      "enc updated\n",
      "tensor([0.1720, 0.0000, 0.1234, 0.0000])\n",
      "Finished episode 265 Average rewards:  42.8\n",
      "rot updated\n",
      "tensor([ 0.2881, -0.0252, -0.0111, -0.0483,  0.0960, -0.0337, -0.0423, -0.0100,\n",
      "        -0.0174, -0.0633, -0.2314, -0.0242, -0.0525])\n",
      "enc updated\n",
      "tensor([-0.1322,  0.0000,  0.0434,  0.0000])\n",
      "Finished episode 270 Average rewards:  39.2\n",
      "Monitored episode 50 Average Monitored rewards:  54.46\n",
      "rot updated\n",
      "tensor([ 0.5662, -0.2366, -0.1398, -0.1458,  0.1709, -0.1033, -0.2724,  0.1336,\n",
      "         0.0849,  0.0674, -0.3691,  0.0573,  0.0889])\n",
      "enc updated\n",
      "tensor([0.0924, 0.0000, 0.0283, 0.0000])\n",
      "Finished episode 275 Average rewards:  62.2\n",
      "rot updated\n",
      "tensor([-0.0623,  0.5240,  0.1571,  0.1666,  0.1505,  0.2253, -0.0098,  0.0316,\n",
      "         0.3250,  0.0193, -0.3176,  0.0862,  0.0399])\n",
      "enc updated\n",
      "tensor([0.0072, 0.0000, 0.0185, 0.0000])\n",
      "Finished episode 280 Average rewards:  37.2\n",
      "Monitored episode 50 Average Monitored rewards:  47.18\n",
      "rot updated\n",
      "tensor([ 0.1566, -0.1121, -0.3596, -0.9496,  0.0933, -0.0150, -0.5609,  0.6317,\n",
      "        -0.6396,  0.0403,  0.0517, -0.1564,  0.5555])\n",
      "enc updated\n",
      "tensor([ 0.1229,  0.0000, -0.0333,  0.0000])\n",
      "Finished episode 285 Average rewards:  58.6\n",
      "rot updated\n",
      "tensor([-0.3609, -0.1194, -0.3151, -0.1676,  0.0429, -0.1609,  0.0099,  0.0008,\n",
      "        -0.3942,  0.0140,  0.2240, -0.3752,  0.1223])\n",
      "enc updated\n",
      "tensor([ 0.0143,  0.0000, -0.0243,  0.0000])\n",
      "Finished episode 290 Average rewards:  39.0\n",
      "Monitored episode 50 Average Monitored rewards:  42.98\n",
      "rot updated\n",
      "tensor([ 0.0016,  0.0008, -0.0161, -0.0247,  0.0125, -0.0278, -0.0049, -0.0049,\n",
      "         0.0109,  0.0051,  0.0210,  0.0124, -0.0099])\n",
      "enc updated\n",
      "tensor([ 0.0080,  0.0000, -0.0149,  0.0000])\n",
      "Finished episode 295 Average rewards:  17.6\n",
      "rot updated\n",
      "tensor([ 0.3067,  0.1016,  0.3903, -0.0111,  0.0081, -0.0109,  0.0150,  0.1535,\n",
      "         0.3736, -0.0018, -0.3710,  0.3213,  0.0728])\n",
      "enc updated\n",
      "tensor([-0.0218,  0.0000,  0.0148,  0.0000])\n",
      "Finished episode 300 Average rewards:  62.0\n"
     ]
    },
    {
     "name": "stdout",
     "output_type": "stream",
     "text": [
      "Monitored episode 50 Average Monitored rewards:  57.86\n",
      "rot updated\n",
      "tensor([ 0.4234,  0.0463,  0.6493,  0.2360, -0.0444,  0.0319, -0.0652,  0.0754,\n",
      "         0.3741,  0.0257, -0.5700,  0.5088, -0.1929])\n",
      "enc updated\n",
      "tensor([ 0.0327,  0.0000, -0.0732,  0.0000])\n",
      "Finished episode 305 Average rewards:  18.4\n",
      "rot updated\n",
      "tensor([ 0.0440, -0.0043,  0.0291,  0.0366,  0.0121, -0.0038, -0.0262, -0.0185,\n",
      "         0.0162, -0.0032, -0.0211,  0.0638, -0.0125])\n",
      "enc updated\n",
      "tensor([-0.0097,  0.0000,  0.0112,  0.0000])\n",
      "Finished episode 310 Average rewards:  39.8\n",
      "Monitored episode 50 Average Monitored rewards:  57.16\n",
      "rot updated\n",
      "tensor([-0.0084, -0.0261,  0.0016,  0.0344,  0.0051,  0.0013, -0.0112, -0.0098,\n",
      "        -0.0419, -0.0019,  0.0219,  0.0182, -0.0247])\n",
      "enc updated\n",
      "tensor([-0.0048,  0.0000,  0.0072,  0.0000])\n",
      "Finished episode 315 Average rewards:  61.4\n",
      "rot updated\n",
      "tensor([ 0.4624,  0.1524,  0.2904,  0.2163,  0.0403, -0.0120, -0.2329, -0.0875,\n",
      "         0.4413,  0.0242, -0.4215,  0.5460, -0.0404])\n",
      "enc updated\n",
      "tensor([ 0.0471,  0.0000, -0.0861,  0.0000])\n",
      "Finished episode 320 Average rewards:  -7.8\n",
      "Monitored episode 50 Average Monitored rewards:  41.14\n",
      "rot updated\n",
      "tensor([-0.0029,  0.0138, -0.0026, -0.0149, -0.0157,  0.0113, -0.0022,  0.0078,\n",
      "         0.0266, -0.0060, -0.0309, -0.0124, -0.0221])\n",
      "enc updated\n",
      "tensor([-0.0126,  0.0000,  0.0216,  0.0000])\n",
      "Finished episode 325 Average rewards:  61.6\n",
      "rot updated\n",
      "tensor([-0.2879, -0.1029, -0.1568, -0.0127, -0.0217, -0.0119,  0.0406,  0.1068,\n",
      "        -0.3940,  0.0095,  0.2514, -0.2512,  0.0318])\n",
      "enc updated\n",
      "tensor([ 0.0217,  0.0000, -0.0355,  0.0000])\n",
      "Finished episode 330 Average rewards:  62.8\n",
      "Monitored episode 50 Average Monitored rewards:  40.96\n",
      "rot updated\n",
      "tensor([-0.2991, -0.0401, -0.1685, -0.0148, -0.0585, -0.0463,  0.0421,  0.0946,\n",
      "        -0.3259,  0.0360,  0.2189, -0.2776, -0.0159])\n",
      "enc updated\n",
      "tensor([ 0.0525,  0.0000, -0.1378,  0.0000])\n",
      "Finished episode 335 Average rewards:  38.0\n",
      "rot updated\n",
      "tensor([-0.5812, -0.1115, -0.4750,  0.0266, -0.0757, -0.1784,  0.0762,  0.0223,\n",
      "        -0.7212,  0.0090,  0.6472, -0.5366,  0.0037])\n",
      "enc updated\n",
      "tensor([ 0.0039,  0.0000, -0.0368,  0.0000])\n",
      "Finished episode 340 Average rewards:  60.4\n",
      "Monitored episode 50 Average Monitored rewards:  49.16\n",
      "rot updated\n",
      "tensor([ 0.0562, -0.0384, -0.1894, -0.1107,  0.1013, -0.1948,  0.0351, -0.2005,\n",
      "         0.0420, -0.0227,  0.2630,  0.1117, -0.0891])\n",
      "enc updated\n",
      "tensor([-0.0496,  0.0000,  0.0708,  0.0000])\n",
      "Finished episode 345 Average rewards:  60.0\n",
      "rot updated\n",
      "tensor([-0.0967, -0.0570, -0.0632,  0.0893, -0.0393,  0.0655, -0.0163, -0.0183,\n",
      "        -0.1496, -0.0002,  0.0653, -0.1388, -0.0067])\n",
      "enc updated\n",
      "tensor([ 0.0015,  0.0000, -0.0005,  0.0000])\n",
      "Finished episode 350 Average rewards:  42.2\n",
      "Monitored episode 50 Average Monitored rewards:  45.16\n",
      "rot updated\n",
      "tensor([ 0.2401,  0.1624,  0.3561, -0.0599, -0.1318,  0.1679, -0.0149,  0.1289,\n",
      "         0.4629, -0.0594, -0.3471,  0.3489,  0.0593])\n",
      "enc updated\n",
      "tensor([-0.1741,  0.0000,  0.2467,  0.0000])\n",
      "Finished episode 355 Average rewards:  58.8\n",
      "rot updated\n",
      "tensor([ 0.0141, -0.0085,  0.0086, -0.1437,  0.0408, -0.1245,  0.0278, -0.0041,\n",
      "         0.0700,  0.0069,  0.0101,  0.0128,  0.0276])\n",
      "enc updated\n",
      "tensor([-0.0026,  0.0000, -0.0164,  0.0000])\n",
      "Finished episode 360 Average rewards:  36.8\n",
      "Monitored episode 50 Average Monitored rewards:  52.08\n",
      "rot updated\n",
      "tensor([-0.3582, -0.1588, -0.2510,  0.1113,  0.0170, -0.0570,  0.0509, -0.1200,\n",
      "        -0.4586, -0.0576,  0.3763, -0.3654, -0.0710])\n",
      "enc updated\n",
      "tensor([-0.0815,  0.0000,  0.1433,  0.0000])\n",
      "Finished episode 365 Average rewards:  81.4\n",
      "rot updated\n",
      "tensor([-0.1559, -0.0347, -0.0366,  0.1320, -0.0591,  0.1142,  0.0219,  0.0142,\n",
      "        -0.2008,  0.0104,  0.0487, -0.1734,  0.0189])\n",
      "enc updated\n",
      "tensor([ 0.0116,  0.0000, -0.0202,  0.0000])\n",
      "Finished episode 370 Average rewards:  62.8\n",
      "Monitored episode 50 Average Monitored rewards:  65.16\n",
      "rot updated\n",
      "tensor([-0.0222, -0.0001,  0.0080,  0.0080, -0.0152,  0.0124,  0.0028,  0.0114,\n",
      "        -0.0173,  0.0021, -0.0034, -0.0174,  0.0148])\n",
      "enc updated\n",
      "tensor([-0.0053,  0.0000,  0.0010,  0.0000])\n",
      "Finished episode 375 Average rewards:  61.8\n",
      "rot updated\n",
      "tensor([-0.2440, -0.0690, -0.1132,  0.1997, -0.0697,  0.1447,  0.0060, -0.0072,\n",
      "        -0.3674,  0.0148,  0.1234, -0.2987, -0.0036])\n",
      "enc updated\n",
      "tensor([ 0.0226,  0.0000, -0.0299,  0.0000])\n",
      "Finished episode 380 Average rewards:  37.2\n",
      "Monitored episode 50 Average Monitored rewards:  50.66\n",
      "rot updated\n",
      "tensor([-0.2086, -0.0314, -0.0326,  0.1802, -0.1404,  0.1670, -0.0242, -0.0014,\n",
      "        -0.2983, -0.0077,  0.0689, -0.2373,  0.0269])\n",
      "enc updated\n",
      "tensor([-0.0288,  0.0000,  0.0331,  0.0000])\n",
      "Finished episode 385 Average rewards:  39.8\n",
      "rot updated\n",
      "tensor([-0.1675, -0.0004,  0.0333,  0.1056, -0.1570,  0.1059,  0.0024, -0.0345,\n",
      "        -0.1251,  0.0254,  0.0625, -0.1478, -0.0127])\n",
      "enc updated\n",
      "tensor([ 0.0148,  0.0000, -0.0876,  0.0000])\n",
      "Finished episode 390 Average rewards:  61.8\n",
      "Monitored episode 50 Average Monitored rewards:  54.58\n",
      "rot updated\n",
      "tensor([-0.1634,  0.0058,  0.0679,  0.0191, -0.1310,  0.0191,  0.0388, -0.0859,\n",
      "        -0.0591,  0.0109,  0.0573, -0.1370, -0.0082])\n",
      "enc updated\n",
      "tensor([ 0.0038,  0.0000, -0.0370,  0.0000])\n",
      "Finished episode 395 Average rewards:  59.4\n",
      "rot updated\n",
      "tensor([-0.3050,  0.0313,  0.1418,  0.0323, -0.2478,  0.0446,  0.0802, -0.1808,\n",
      "        -0.1123,  0.0044,  0.0914, -0.2549, -0.0158])\n",
      "enc updated\n",
      "tensor([ 0.0065,  0.0000, -0.0253,  0.0000])\n",
      "Finished episode 400 Average rewards:  81.4\n",
      "Monitored episode 50 Average Monitored rewards:  63.2\n",
      "rot updated\n",
      "tensor([ 0.1052,  0.0158, -0.0662, -0.0266,  0.0444, -0.0330, -0.0141,  0.0636,\n",
      "         0.0740,  0.0206, -0.0863,  0.0591,  0.0813])\n",
      "enc updated\n",
      "tensor([-0.0026,  0.0000, -0.0504,  0.0000])\n",
      "Finished episode 405 Average rewards:  103.2\n",
      "rot updated\n",
      "tensor([ 0.1465, -0.0417, -0.1214,  0.0192,  0.1289, -0.0031, -0.0248,  0.1414,\n",
      "         0.0096, -0.0012, -0.0136,  0.1451, -0.0069])\n",
      "enc updated\n",
      "tensor([ 0.0059,  0.0000, -0.0024,  0.0000])\n",
      "Finished episode 410 Average rewards:  15.4\n",
      "Monitored episode 50 Average Monitored rewards:  56.44\n",
      "rot updated\n",
      "tensor([ 0.2458, -0.0416, -0.1533,  0.0080,  0.2112, -0.0085, -0.0317,  0.1833,\n",
      "         0.0610, -0.0047, -0.0494,  0.2255, -0.0099])\n",
      "enc updated\n",
      "tensor([-0.0033,  0.0000,  0.0120,  0.0000])\n",
      "Finished episode 415 Average rewards:  62.6\n",
      "rot updated\n",
      "tensor([-0.0002, -0.0010, -0.0087,  0.0330, -0.0029,  0.0307, -0.0016,  0.0083,\n",
      "        -0.0123,  0.0217,  0.0127, -0.0016, -0.0207])\n",
      "enc updated\n",
      "tensor([ 7.3552e-05,  0.0000e+00, -6.2641e-02,  0.0000e+00])\n",
      "Finished episode 420 Average rewards:  61.8\n",
      "Monitored episode 50 Average Monitored rewards:  58.46\n",
      "rot updated\n",
      "tensor([-0.0111,  0.0126,  0.0718, -0.0638, -0.0694, -0.0600,  0.0015, -0.0863,\n",
      "         0.0861, -0.0124, -0.0812, -0.1040,  0.0804])\n",
      "enc updated\n",
      "tensor([0.0218, 0.0000, 0.0354, 0.0000])\n",
      "Finished episode 425 Average rewards:  84.0\n",
      "rot updated\n",
      "tensor([-0.0170,  0.0019,  0.0173, -0.0124, -0.0177, -0.0115,  0.0043, -0.0202,\n",
      "         0.0064, -0.0045, -0.0037, -0.0239,  0.0089])\n",
      "enc updated\n",
      "tensor([-0.0020,  0.0000,  0.0140,  0.0000])\n",
      "Finished episode 430 Average rewards:  61.4\n",
      "Monitored episode 50 Average Monitored rewards:  47.84\n",
      "rot updated\n",
      "tensor([ 0.1158, -0.0076, -0.0797,  0.0120,  0.1053,  0.0111, -0.0201,  0.0908,\n",
      "         0.0161, -0.0014, -0.0227,  0.1277, -0.0033])\n",
      "enc updated\n",
      "tensor([-0.0023,  0.0000,  0.0044,  0.0000])\n",
      "Finished episode 435 Average rewards:  61.2\n",
      "rot updated\n",
      "tensor([ 0.0757, -0.0008, -0.0417,  0.0171,  0.0596,  0.0171, -0.0088,  0.0449,\n",
      "         0.0138,  0.0040, -0.0222,  0.0682, -0.0039])\n",
      "enc updated\n",
      "tensor([ 0.0020,  0.0000, -0.0125,  0.0000])\n",
      "Finished episode 440 Average rewards:  40.2\n",
      "Monitored episode 50 Average Monitored rewards:  45.96\n",
      "rot updated\n",
      "tensor([ 2.9237e-02, -8.8692e-05, -9.9316e-03,  9.3479e-03,  1.8700e-02,\n",
      "         9.1343e-03, -1.4873e-03,  9.1372e-03,  4.7226e-03, -1.4782e-04,\n",
      "        -1.3798e-02,  1.7531e-02,  6.3729e-04])\n",
      "enc updated\n",
      "tensor([-7.8219e-04,  0.0000e+00,  2.2888e-05,  0.0000e+00])\n",
      "Finished episode 445 Average rewards:  39.4\n",
      "rot updated\n",
      "tensor([-6.6318e-02,  7.4387e-05,  2.8486e-02, -4.0598e-03, -4.5340e-02,\n",
      "        -3.3245e-03,  3.8157e-03, -2.8541e-02, -1.9886e-02,  5.9447e-03,\n",
      "         3.1462e-02, -4.8603e-02, -4.2114e-03])\n",
      "enc updated\n",
      "tensor([ 0.0020,  0.0000, -0.0204,  0.0000])\n",
      "Finished episode 450 Average rewards:  39.2\n"
     ]
    },
    {
     "name": "stdout",
     "output_type": "stream",
     "text": [
      "Monitored episode 50 Average Monitored rewards:  66.06\n",
      "rot updated\n",
      "tensor([-3.2426e-01,  2.6417e-04,  1.5597e-01, -2.0324e-02, -2.4187e-01,\n",
      "        -2.0332e-02,  2.3991e-02, -1.6844e-01, -1.1589e-01,  1.1530e-03,\n",
      "         1.2241e-01, -2.7104e-01,  1.3373e-03])\n",
      "enc updated\n",
      "tensor([-0.0006,  0.0000, -0.0056,  0.0000])\n",
      "Finished episode 455 Average rewards:  82.4\n",
      "rot updated\n",
      "tensor([ 0.1804, -0.0211, -0.0836, -0.0397,  0.1546, -0.0394, -0.0205,  0.0969,\n",
      "         0.0836, -0.0161, -0.0627,  0.1579,  0.0289])\n",
      "enc updated\n",
      "tensor([-0.0088,  0.0000,  0.0500,  0.0000])\n",
      "Finished episode 460 Average rewards:  59.6\n",
      "Monitored episode 50 Average Monitored rewards:  40.26\n",
      "rot updated\n",
      "tensor([ 0.2508, -0.0102, -0.1315,  0.0028,  0.1996,  0.0036, -0.0280,  0.1389,\n",
      "         0.0830, -0.0043, -0.0844,  0.2175,  0.0104])\n",
      "enc updated\n",
      "tensor([2.2709e-05, 0.0000e+00, 1.4007e-02, 0.0000e+00])\n",
      "Finished episode 465 Average rewards:  61.6\n",
      "rot updated\n",
      "tensor([ 6.2528e-02, -5.0831e-04, -2.6947e-02, -1.4257e-03,  4.2181e-02,\n",
      "        -3.3760e-03, -2.9731e-04,  1.9172e-02,  2.2186e-02, -7.7381e-03,\n",
      "        -3.0024e-02,  4.0761e-02, -2.3127e-05])\n",
      "enc updated\n",
      "tensor([-0.0078,  0.0000,  0.0309,  0.0000])\n",
      "Finished episode 470 Average rewards:  38.4\n",
      "Monitored episode 50 Average Monitored rewards:  53.4\n",
      "rot updated\n",
      "tensor([-0.2369, -0.0071,  0.1122,  0.0371, -0.1758,  0.0384,  0.0028, -0.0986,\n",
      "        -0.1413,  0.0147,  0.0886, -0.2061,  0.0280])\n",
      "enc updated\n",
      "tensor([ 0.0184,  0.0000, -0.0627,  0.0000])\n",
      "Finished episode 475 Average rewards:  -6.6\n",
      "rot updated\n",
      "tensor([-0.2169,  0.0038,  0.0946, -0.0140, -0.1608, -0.0133,  0.0167, -0.1026,\n",
      "        -0.0848, -0.0007,  0.0801, -0.1712, -0.0011])\n",
      "enc updated\n",
      "tensor([0.0023, 0.0000, 0.0016, 0.0000])\n",
      "Finished episode 480 Average rewards:  63.0\n",
      "Monitored episode 50 Average Monitored rewards:  49.84\n",
      "rot updated\n",
      "tensor([-0.0510,  0.0073,  0.0291, -0.0051, -0.0432, -0.0025,  0.0046, -0.0329,\n",
      "        -0.0142, -0.0019,  0.0112, -0.0454,  0.0024])\n",
      "enc updated\n",
      "tensor([-0.0002,  0.0000,  0.0062,  0.0000])\n",
      "Finished episode 485 Average rewards:  36.8\n",
      "rot updated\n",
      "tensor([ 0.0468, -0.0025, -0.0117, -0.0252,  0.0364, -0.0219, -0.0054,  0.0129,\n",
      "         0.0354, -0.0100, -0.0267,  0.0334,  0.0200])\n",
      "enc updated\n",
      "tensor([-0.0049,  0.0000,  0.0324,  0.0000])\n",
      "Finished episode 490 Average rewards:  59.2\n",
      "Monitored episode 50 Average Monitored rewards:  65.18\n",
      "rot updated\n",
      "tensor([-0.0248,  0.0047,  0.0176, -0.0077, -0.0231, -0.0058,  0.0032, -0.0200,\n",
      "        -0.0008, -0.0021,  0.0011, -0.0260,  0.0055])\n",
      "enc updated\n",
      "tensor([-0.0013,  0.0000,  0.0067,  0.0000])\n",
      "Finished episode 495 Average rewards:  18.2\n",
      "rot updated\n",
      "tensor([ 0.1698, -0.0237, -0.0904, -0.0102,  0.1471, -0.0128, -0.0219,  0.0998,\n",
      "         0.0576, -0.0062, -0.0450,  0.1550,  0.0104])\n",
      "enc updated\n",
      "tensor([-0.0057,  0.0000,  0.0201,  0.0000])\n",
      "Finished episode 500 Average rewards:  19.0\n",
      "Monitored episode 50 Average Monitored rewards:  54.94\n"
     ]
    }
   ],
   "source": [
    "# Start training the agent\n",
    "episode_reward_history = []\n",
    "# Monitoring reward\n",
    "monitor_reward_history = []\n",
    "for batch in tqdm(range(n_episodes // batch_size)):\n",
    "    # Gather episodes\n",
    "    episodes = gather_episodes(state_bounds, n_actions, agent, batch_size, env_name)\n",
    "\n",
    "    # Group states, actions and returns in numpy arrays\n",
    "    states = torch.from_numpy(np.concatenate([ep['states'] for ep in episodes]))\n",
    "    actions = torch.from_numpy(np.concatenate([ep['actions'] for ep in episodes]))\n",
    "    action_probs = torch.from_numpy(np.concatenate([ep['action probs'] for ep in episodes]))\n",
    "    rewards = [ep['rewards'] for ep in episodes]\n",
    "    returns = np.concatenate([compute_returns(ep_rwds, gamma) for ep_rwds in rewards])\n",
    "    returns = torch.from_numpy(np.array(returns))\n",
    "\n",
    "    id_action_pairs = torch.from_numpy(np.array([[i, a] for i, a in enumerate(actions)]))\n",
    "\n",
    "#     print(actions)\n",
    "#     print(states)\n",
    "#     print(action_probs)\n",
    "    \n",
    "    # Update model parameters.\n",
    "    agent.update_policy(states, id_action_pairs, returns, action_probs, batch_size)\n",
    "    \n",
    "    if batch % 5 == 0 and batch != 0:\n",
    "        agent.lr *= 0.8\n",
    "        \n",
    "    # Store collected rewards\n",
    "    for ep_rwds in rewards:\n",
    "        episode_reward_history.append(np.sum(ep_rwds))\n",
    "\n",
    "    avg_rewards = np.mean(episode_reward_history[-batch_size:])\n",
    "\n",
    "    print('Finished episode', (batch + 1) * batch_size,\n",
    "          'Average rewards: ', avg_rewards)\n",
    "    \n",
    "    if batch % 2 == 1:\n",
    "        # Gather episodes\n",
    "        episodes_monitor = gather_episodes(state_bounds, n_actions, agent, 50, env_name)\n",
    "\n",
    "        # Group states, actions and returns in numpy arrays\n",
    "        states_monitor = torch.from_numpy(np.concatenate([ep['states'] for ep in episodes_monitor]))\n",
    "        actions_monitor = torch.from_numpy(np.concatenate([ep['actions'] for ep in episodes_monitor]))\n",
    "        action_probs_monitor = torch.from_numpy(np.concatenate([ep['action probs'] for ep in episodes_monitor]))\n",
    "        rewards_monitor = [ep['rewards'] for ep in episodes_monitor]\n",
    "        # Store collected rewards\n",
    "        temp_hist = []\n",
    "        for ep_rwds in rewards_monitor:\n",
    "            temp_hist.append(np.sum(ep_rwds))\n",
    "        avg_rewards_monitor = np.mean(temp_hist)\n",
    "        monitor_reward_history.append(avg_rewards_monitor)\n",
    "        \n",
    "        print('Monitored episode', 50,\n",
    "              'Average Monitored rewards: ', avg_rewards_monitor)\n",
    "\n",
    "    if avg_rewards >= 500.0:\n",
    "        break"
   ]
  },
  {
   "cell_type": "code",
   "execution_count": 36,
   "metadata": {},
   "outputs": [
    {
     "data": {
      "text/plain": [
       "<matplotlib.collections.PathCollection at 0x1a77b3b7220>"
      ]
     },
     "execution_count": 36,
     "metadata": {},
     "output_type": "execute_result"
    },
    {
     "data": {
      "image/png": "[encoded data removed]",
      "text/plain": [
       "<Figure size 432x288 with 1 Axes>"
      ]
     },
     "metadata": {
      "needs_background": "light"
     },
     "output_type": "display_data"
    }
   ],
   "source": [
    "plt.scatter(range(len(episode_reward_history)), episode_reward_history)"
   ]
  },
  {
   "cell_type": "code",
   "execution_count": 37,
   "metadata": {},
   "outputs": [
    {
     "data": {
      "text/plain": [
       "(array([ 6., 15., 21.,  8.,  0.,  0.,  0.,  0.,  0.,  0.,  0.,  0.,  0.,\n",
       "         0.,  0.,  0.,  0.,  0.,  0.,  0.,  0.,  0.,  0.,  0.,  0.,  0.,\n",
       "         0., 18., 19., 13.]),\n",
       " array([-14. ,  -9.8,  -5.6,  -1.4,   2.8,   7. ,  11.2,  15.4,  19.6,\n",
       "         23.8,  28. ,  32.2,  36.4,  40.6,  44.8,  49. ,  53.2,  57.4,\n",
       "         61.6,  65.8,  70. ,  74.2,  78.4,  82.6,  86.8,  91. ,  95.2,\n",
       "         99.4, 103.6, 107.8, 112. ]),\n",
       " <BarContainer object of 30 artists>)"
      ]
     },
     "execution_count": 37,
     "metadata": {},
     "output_type": "execute_result"
    },
    {
     "data": {
      "image/png": "[encoded data removed]",
      "text/plain": [
       "<Figure size 432x288 with 1 Axes>"
      ]
     },
     "metadata": {
      "needs_background": "light"
     },
     "output_type": "display_data"
    }
   ],
   "source": [
    "plt.hist(episode_reward_history[:100], bins=30, alpha=0.5, label='init')\n",
    "plt.hist(episode_reward_history[-100:], bins=30, alpha=0.5, label='last')"
   ]
  },
  {
   "cell_type": "code",
   "execution_count": 38,
   "metadata": {
    "scrolled": true
   },
   "outputs": [
    {
     "data": {
      "text/plain": [
       "[<matplotlib.lines.Line2D at 0x1a77b2f09d0>]"
      ]
     },
     "execution_count": 38,
     "metadata": {},
     "output_type": "execute_result"
    },
    {
     "data": {
      "image/png": "[encoded data removed]",
      "text/plain": [
       "<Figure size 432x288 with 1 Axes>"
      ]
     },
     "metadata": {
      "needs_background": "light"
     },
     "output_type": "display_data"
    }
   ],
   "source": [
    "plt.plot(monitor_reward_history)"
   ]
  },
  {
   "cell_type": "code",
   "execution_count": 42,
   "metadata": {},
   "outputs": [
    {
     "data": {
      "text/plain": [
       "[<matplotlib.lines.Line2D at 0x1a77b403fa0>]"
      ]
     },
     "execution_count": 42,
     "metadata": {},
     "output_type": "execute_result"
    },
    {
     "data": {
      "image/png": "[encoded data removed]",
      "text/plain": [
       "<Figure size 432x288 with 1 Axes>"
      ]
     },
     "metadata": {
      "needs_background": "light"
     },
     "output_type": "display_data"
    }
   ],
   "source": [
    "from scipy.optimize import curve_fit\n",
    "import matplotlib.pyplot as plt \n",
    "import pickle as pkl\n",
    "\n",
    "def linear(x, y_intercept, slope):\n",
    "    return y_intercept + (x * slope)\n",
    "\n",
    "def third_poly(x, a, b, c, d):\n",
    "    return a + b * x + c * x**2 + d * x**3\n",
    "data_len = len(monitor_reward_history)\n",
    "x = np.arange(data_len)\n",
    "popt, pcov = curve_fit(linear, x, monitor_reward_history)\n",
    "plt.plot(linear(x, popt[0], popt[1]))\n",
    "plt.plot(monitor_reward_history)\n"
   ]
  },
  {
   "cell_type": "code",
   "execution_count": 49,
   "metadata": {},
   "outputs": [
    {
     "data": {
      "image/png": "[encoded data removed]",
      "text/plain": [
       "<Figure size 432x288 with 1 Axes>"
      ]
     },
     "metadata": {
      "needs_background": "light"
     },
     "output_type": "display_data"
    }
   ],
   "source": [
    "plt.figure()\n",
    "x = np.arange(data_len)\n",
    "popt, pcov = curve_fit(third_poly, x, monitor_reward_history)\n",
    "plt.plot(third_poly(x, *popt), 'b-', linewidth=3)\n",
    "plt.plot(monitor_reward_history, 'go', alpha=0.5)\n",
    "plt.axhline(50, c='r', label='random_agent')\n",
    "plt.legend()\n",
    "plt.savefig('softmax.png')"
   ]
  },
  {
   "cell_type": "code",
   "execution_count": 50,
   "metadata": {},
   "outputs": [
    {
     "name": "stderr",
     "output_type": "stream",
     "text": [
      "No handles with labels found to put in legend.\n"
     ]
    },
    {
     "data": {
      "image/png": "[encoded data removed]",
      "text/plain": [
       "<Figure size 432x288 with 1 Axes>"
      ]
     },
     "metadata": {
      "needs_background": "light"
     },
     "output_type": "display_data"
    }
   ],
   "source": [
    "plt.figure()\n",
    "x = np.arange(data_len)\n",
    "popt, pcov = curve_fit(third_poly, x, monitor_reward_history)\n",
    "plt.plot(third_poly(x, *popt), 'b-', linewidth=3)\n",
    "plt.plot(monitor_reward_history, 'go', alpha=0.5)\n",
    "plt.legend()\n",
    "plt.savefig('softmax2.png')"
   ]
  },
  {
   "cell_type": "code",
   "execution_count": 51,
   "metadata": {},
   "outputs": [],
   "source": [
    "import pickle\n",
    "\n",
    "with open(\"softmax_universal_encoding_result.pkl\", \"wb\") as f:\n",
    "    pickle.dump(monitor_reward_history, f)"
   ]
  },
  {
   "cell_type": "code",
   "execution_count": null,
   "metadata": {},
   "outputs": [],
   "source": []
  },
  {
   "cell_type": "code",
   "execution_count": null,
   "metadata": {},
   "outputs": [],
   "source": []
  }
 ],
 "metadata": {
  "colab": {
   "authorship_tag": "ABX9TyNE3QY8UA5xCDFR4Ht9tSPe",
   "collapsed_sections": [
    "ksJVcTLxzskm",
    "jySdpQf_zuiE",
    "MIKgmnTWM8yz",
    "eLm2LW4zBqPo"
   ],
   "name": "QuantumCircuitLearning.ipynb",
   "provenance": []
  },
  "kernelspec": {
   "display_name": "Python 3",
   "language": "python",
   "name": "python3"
  },
  "language_info": {
   "codemirror_mode": {
    "name": "ipython",
    "version": 3
   },
   "file_extension": ".py",
   "mimetype": "text/x-python",
   "name": "python",
   "nbconvert_exporter": "python",
   "pygments_lexer": "ipython3",
   "version": "3.8.8"
  },
  "widgets": {
   "application/vnd.jupyter.widget-state+json": {
    "1b23efbb8db748a2af8554186cf2a3d8": {
     "model_module": "@jupyter-widgets/base",
     "model_module_version": "1.2.0",
     "model_name": "LayoutModel",
     "state": {
      "_model_module": "@jupyter-widgets/base",
      "_model_module_version": "1.2.0",
      "_model_name": "LayoutModel",
      "_view_count": null,
      "_view_module": "@jupyter-widgets/base",
      "_view_module_version": "1.2.0",
      "_view_name": "LayoutView",
      "align_content": null,
      "align_items": null,
      "align_self": null,
      "border": null,
      "bottom": null,
      "display": null,
      "flex": null,
      "flex_flow": null,
      "grid_area": null,
      "grid_auto_columns": null,
      "grid_auto_flow": null,
      "grid_auto_rows": null,
      "grid_column": null,
      "grid_gap": null,
      "grid_row": null,
      "grid_template_areas": null,
      "grid_template_columns": null,
      "grid_template_rows": null,
      "height": null,
      "justify_content": null,
      "justify_items": null,
      "left": null,
      "margin": null,
      "max_height": null,
      "max_width": null,
      "min_height": null,
      "min_width": null,
      "object_fit": null,
      "object_position": null,
      "order": null,
      "overflow": null,
      "overflow_x": null,
      "overflow_y": null,
      "padding": null,
      "right": null,
      "top": null,
      "visibility": null,
      "width": null
     }
    },
    "235d4532e52e4aadbc6c049c0c7369b3": {
     "model_module": "@jupyter-widgets/base",
     "model_module_version": "1.2.0",
     "model_name": "LayoutModel",
     "state": {
      "_model_module": "@jupyter-widgets/base",
      "_model_module_version": "1.2.0",
      "_model_name": "LayoutModel",
      "_view_count": null,
      "_view_module": "@jupyter-widgets/base",
      "_view_module_version": "1.2.0",
      "_view_name": "LayoutView",
      "align_content": null,
      "align_items": null,
      "align_self": null,
      "border": null,
      "bottom": null,
      "display": null,
      "flex": null,
      "flex_flow": null,
      "grid_area": null,
      "grid_auto_columns": null,
      "grid_auto_flow": null,
      "grid_auto_rows": null,
      "grid_column": null,
      "grid_gap": null,
      "grid_row": null,
      "grid_template_areas": null,
      "grid_template_columns": null,
      "grid_template_rows": null,
      "height": null,
      "justify_content": null,
      "justify_items": null,
      "left": null,
      "margin": null,
      "max_height": null,
      "max_width": null,
      "min_height": null,
      "min_width": null,
      "object_fit": null,
      "object_position": null,
      "order": null,
      "overflow": null,
      "overflow_x": null,
      "overflow_y": null,
      "padding": null,
      "right": null,
      "top": null,
      "visibility": null,
      "width": null
     }
    },
    "25885ff5cc014bafa5442805d676c0be": {
     "model_module": "@jupyter-widgets/controls",
     "model_module_version": "1.5.0",
     "model_name": "FloatProgressModel",
     "state": {
      "_dom_classes": [],
      "_model_module": "@jupyter-widgets/controls",
      "_model_module_version": "1.5.0",
      "_model_name": "FloatProgressModel",
      "_view_count": null,
      "_view_module": "@jupyter-widgets/controls",
      "_view_module_version": "1.5.0",
      "_view_name": "ProgressView",
      "bar_style": "success",
      "description": "100%",
      "description_tooltip": null,
      "layout": "IPY_MODEL_235d4532e52e4aadbc6c049c0c7369b3",
      "max": 50,
      "min": 0,
      "orientation": "horizontal",
      "style": "IPY_MODEL_4ede1074ee2f496ab3d864be52157d03",
      "value": 50
     }
    },
    "40ae390ed75a46f292ffc969fdd0509e": {
     "model_module": "@jupyter-widgets/controls",
     "model_module_version": "1.5.0",
     "model_name": "DescriptionStyleModel",
     "state": {
      "_model_module": "@jupyter-widgets/controls",
      "_model_module_version": "1.5.0",
      "_model_name": "DescriptionStyleModel",
      "_view_count": null,
      "_view_module": "@jupyter-widgets/base",
      "_view_module_version": "1.2.0",
      "_view_name": "StyleView",
      "description_width": ""
     }
    },
    "4ede1074ee2f496ab3d864be52157d03": {
     "model_module": "@jupyter-widgets/controls",
     "model_module_version": "1.5.0",
     "model_name": "ProgressStyleModel",
     "state": {
      "_model_module": "@jupyter-widgets/controls",
      "_model_module_version": "1.5.0",
      "_model_name": "ProgressStyleModel",
      "_view_count": null,
      "_view_module": "@jupyter-widgets/base",
      "_view_module_version": "1.2.0",
      "_view_name": "StyleView",
      "bar_color": null,
      "description_width": "initial"
     }
    },
    "68c55b17e042416c91105f585c6f622a": {
     "model_module": "@jupyter-widgets/controls",
     "model_module_version": "1.5.0",
     "model_name": "HTMLModel",
     "state": {
      "_dom_classes": [],
      "_model_module": "@jupyter-widgets/controls",
      "_model_module_version": "1.5.0",
      "_model_name": "HTMLModel",
      "_view_count": null,
      "_view_module": "@jupyter-widgets/controls",
      "_view_module_version": "1.5.0",
      "_view_name": "HTMLView",
      "description": "",
      "description_tooltip": null,
      "layout": "IPY_MODEL_ec14bbc210b743f085734c3bf858fd72",
      "placeholder": "​",
      "style": "IPY_MODEL_40ae390ed75a46f292ffc969fdd0509e",
      "value": " 50/50 [11:53&lt;00:00, 14.28s/it]"
     }
    },
    "cc511557b8a54d408c9d2ddcaa7aa7dc": {
     "model_module": "@jupyter-widgets/controls",
     "model_module_version": "1.5.0",
     "model_name": "HBoxModel",
     "state": {
      "_dom_classes": [],
      "_model_module": "@jupyter-widgets/controls",
      "_model_module_version": "1.5.0",
      "_model_name": "HBoxModel",
      "_view_count": null,
      "_view_module": "@jupyter-widgets/controls",
      "_view_module_version": "1.5.0",
      "_view_name": "HBoxView",
      "box_style": "",
      "children": [
       "IPY_MODEL_25885ff5cc014bafa5442805d676c0be",
       "IPY_MODEL_68c55b17e042416c91105f585c6f622a"
      ],
      "layout": "IPY_MODEL_1b23efbb8db748a2af8554186cf2a3d8"
     }
    },
    "ec14bbc210b743f085734c3bf858fd72": {
     "model_module": "@jupyter-widgets/base",
     "model_module_version": "1.2.0",
     "model_name": "LayoutModel",
     "state": {
      "_model_module": "@jupyter-widgets/base",
      "_model_module_version": "1.2.0",
      "_model_name": "LayoutModel",
      "_view_count": null,
      "_view_module": "@jupyter-widgets/base",
      "_view_module_version": "1.2.0",
      "_view_name": "LayoutView",
      "align_content": null,
      "align_items": null,
      "align_self": null,
      "border": null,
      "bottom": null,
      "display": null,
      "flex": null,
      "flex_flow": null,
      "grid_area": null,
      "grid_auto_columns": null,
      "grid_auto_flow": null,
      "grid_auto_rows": null,
      "grid_column": null,
      "grid_gap": null,
      "grid_row": null,
      "grid_template_areas": null,
      "grid_template_columns": null,
      "grid_template_rows": null,
      "height": null,
      "justify_content": null,
      "justify_items": null,
      "left": null,
      "margin": null,
      "max_height": null,
      "max_width": null,
      "min_height": null,
      "min_width": null,
      "object_fit": null,
      "object_position": null,
      "order": null,
      "overflow": null,
      "overflow_x": null,
      "overflow_y": null,
      "padding": null,
      "right": null,
      "top": null,
      "visibility": null,
      "width": null
     }
    }
   }
  }
 },
 "nbformat": 4,
 "nbformat_minor": 1
}
