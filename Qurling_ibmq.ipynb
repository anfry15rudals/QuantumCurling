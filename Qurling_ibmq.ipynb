{
 "cells": [
  {
   "cell_type": "markdown",
   "metadata": {
    "id": "ksJVcTLxzskm"
   },
   "source": [
    "# Import modules"
   ]
  },
  {
   "cell_type": "code",
   "execution_count": 1,
   "metadata": {
    "id": "N8fPchWjlyM1"
   },
   "outputs": [
    {
     "ename": "ModuleNotFoundError",
     "evalue": "No module named 'torch'",
     "output_type": "error",
     "traceback": [
      "\u001b[1;31m---------------------------------------------------------------------------\u001b[0m",
      "\u001b[1;31mModuleNotFoundError\u001b[0m                       Traceback (most recent call last)",
      "\u001b[1;32m<ipython-input-1-166417221ae0>\u001b[0m in \u001b[0;36m<module>\u001b[1;34m\u001b[0m\n\u001b[0;32m      1\u001b[0m \u001b[1;32mimport\u001b[0m \u001b[0mqiskit\u001b[0m\u001b[1;33m\u001b[0m\u001b[1;33m\u001b[0m\u001b[0m\n\u001b[0;32m      2\u001b[0m \u001b[1;32mimport\u001b[0m \u001b[0mpylatexenc\u001b[0m\u001b[1;33m\u001b[0m\u001b[1;33m\u001b[0m\u001b[0m\n\u001b[1;32m----> 3\u001b[1;33m \u001b[1;32mimport\u001b[0m \u001b[0mtorch\u001b[0m\u001b[1;33m\u001b[0m\u001b[1;33m\u001b[0m\u001b[0m\n\u001b[0m\u001b[0;32m      4\u001b[0m \u001b[1;32mimport\u001b[0m \u001b[0mtorch\u001b[0m\u001b[1;33m.\u001b[0m\u001b[0mnn\u001b[0m \u001b[1;32mas\u001b[0m \u001b[0mnn\u001b[0m\u001b[1;33m\u001b[0m\u001b[1;33m\u001b[0m\u001b[0m\n\u001b[0;32m      5\u001b[0m \u001b[1;32mimport\u001b[0m \u001b[0mtorch\u001b[0m\u001b[1;33m.\u001b[0m\u001b[0mnn\u001b[0m\u001b[1;33m.\u001b[0m\u001b[0mfunctional\u001b[0m \u001b[1;32mas\u001b[0m \u001b[0mF\u001b[0m\u001b[1;33m\u001b[0m\u001b[1;33m\u001b[0m\u001b[0m\n",
      "\u001b[1;31mModuleNotFoundError\u001b[0m: No module named 'torch'"
     ]
    }
   ],
   "source": [
    "import qiskit\n",
    "import pylatexenc\n",
    "import torch\n",
    "import torch.nn as nn\n",
    "import torch.nn.functional as F"
   ]
  },
  {
   "cell_type": "code",
   "execution_count": 2,
   "metadata": {},
   "outputs": [],
   "source": [
    "import gym\n",
    "from functools import reduce\n",
    "from collections import deque, defaultdict"
   ]
  },
  {
   "cell_type": "code",
   "execution_count": 1,
   "metadata": {
    "id": "GfudJfnDmH06"
   },
   "outputs": [],
   "source": [
    "import qiskit\n",
    "import numpy as np\n",
    "import matplotlib.pyplot as plt\n",
    "import math, random, time, itertools\n",
    "from qiskit import QuantumCircuit, QuantumRegister, ClassicalRegister, Aer\n",
    "from qiskit.quantum_info.operators import Operator\n",
    "from qiskit.circuit import Parameter, ParameterVector\n",
    "from tqdm.notebook import tqdm\n",
    "from qiskit.opflow import Z, X, I, StateFn, CircuitStateFn, SummedOp, CircuitOp, AerPauliExpectation\n",
    "from qiskit.opflow.gradients import Gradient, NaturalGradient, QFI, Hessian\n",
    "from qiskit_machine_learning.connectors import TorchConnector\n",
    "from qiskit_machine_learning.neural_networks import OpflowQNN\n",
    "from qiskit.utils import QuantumInstance, algorithm_globals"
   ]
  },
  {
   "cell_type": "code",
   "execution_count": 4,
   "metadata": {},
   "outputs": [],
   "source": [
    "from Curling import Curling"
   ]
  },
  {
   "cell_type": "markdown",
   "metadata": {
    "id": "jySdpQf_zuiE"
   },
   "source": [
    "# Build CIrucit"
   ]
  },
  {
   "cell_type": "code",
   "execution_count": 12,
   "metadata": {},
   "outputs": [],
   "source": [
    "def add_hadamard(circuit, n_qubits):\n",
    "    for i in range(n_qubits):\n",
    "        circuit.h(i)\n",
    "\n",
    "def add_single_qubit_rotation_base(circuit, Paramvector, n_qubits):\n",
    "    for i in range(n_qubits):\n",
    "        circuit.rx(Paramvector[i*3], i)\n",
    "        circuit.ry(Paramvector[i*3+1], i)\n",
    "        circuit.rz(Paramvector[i*3+2], i)\n",
    "\n",
    "def add_encoding_layer_base(circuit, Paramvector, n_qubits):\n",
    "    for i in range(n_qubits):\n",
    "        circuit.rx(Paramvector[i], i)\n",
    "\n",
    "def add_single_qubit_rotation_hw_eff(circuit, Paramvector, n_qubits):\n",
    "    for i in range(n_qubits):\n",
    "        circuit.rz(Paramvector[i*2], i)\n",
    "        circuit.ry(Paramvector[i*2+1], i)\n",
    "\n",
    "def add_encoding_layer_hw_eff(circuit, Paramvector, n_qubits):\n",
    "    for i in range(n_qubits):\n",
    "        circuit.ry(Paramvector[i*2], i)\n",
    "        circuit.rz(Paramvector[i*2+1], i)\n",
    "\n",
    "def add_entangling_layer(circuit, n_qubits):\n",
    "    qubits = [i for i in range(n_qubits)]\n",
    "    for c in itertools.combinations(qubits, 2):\n",
    "        circuit.cz(c[0], c[1])\n",
    "        \n",
    "def single_qubit_gate_1(circuit, Paramvector, n_qubits=2):\n",
    "    for i in range(n_qubits):\n",
    "        circuit.ry(Paramvector[i*3+1], i)\n",
    "        circuit.rz(Paramvector[i*3+2], i)\n",
    "\n",
    "def single_qubit_gate_2(circuit, Paramvector, n_qubits=2):\n",
    "    for i in range(n_qubits):\n",
    "        circuit.rz(Paramvector[i*3], i)\n",
    "        circuit.ry(Paramvector[i*3+1], i)\n",
    "        circuit.rz(Paramvector[i*3+2], i)\n",
    "\n",
    "def entangled_gate(circuit, Paramvector):\n",
    "    circuit.cnot(0, 1)\n",
    "    circuit.rx(Paramvector[0], 0)\n",
    "    circuit.rz(Paramvector[1], 1)\n",
    "    circuit.h(0)\n",
    "    circuit.cnot(0, 1)\n",
    "    circuit.h(0)\n",
    "    circuit.rz(Paramvector[2], 1)\n",
    "    circuit.cnot(0, 1)\n",
    "\n",
    "def encoding_layer(circuit, Paramvector, n_qubit=2):\n",
    "    for i in range(n_qubit):\n",
    "        circuit.ry(Paramvector[i], i)\n",
    "        circuit.rz(Paramvector[i], i)"
   ]
  },
  {
   "cell_type": "code",
   "execution_count": 13,
   "metadata": {},
   "outputs": [],
   "source": [
    "def build_circuit(n_qubits, n_layers, opt=None):\n",
    "    qr = QuantumRegister(n_qubits)\n",
    "    qc = QuantumCircuit(qr)\n",
    "    \n",
    "    if opt == 'base' or opt == None:\n",
    "        param_rot = ParameterVector('Rot', 3*n_qubits*(n_layers+1))\n",
    "        param_enc = ParameterVector('Enc', n_qubits*n_layers)\n",
    "        \n",
    "        print(len(param_rot))\n",
    "        \n",
    "    #     add_hadamard(qc, n_qubits)\n",
    "        for l in range(n_layers):\n",
    "            # Variational + Encoding Layer\n",
    "            add_single_qubit_rotation_base(qc, param_rot[l*(3*n_qubits):(l+1)*(3*n_qubits)], n_qubits)\n",
    "            qc.barrier()\n",
    "            add_entangling_layer(qc, n_qubits)\n",
    "            qc.barrier()\n",
    "            # Encoding Layer\n",
    "            add_encoding_layer_base(qc, param_enc[l*n_qubits:(l+1)*n_qubits], n_qubits)\n",
    "            qc.barrier()\n",
    "        # Last Variational Layer\n",
    "        add_single_qubit_rotation_base(qc, param_rot[n_layers*(3*n_qubits):(n_layers+1)*(3*n_qubits)], n_qubits)\n",
    "        \n",
    "        return qc, param_rot, param_enc\n",
    "\n",
    "    elif opt == 'hw_eff':\n",
    "        param_rot = ParameterVector('Rot', 2*n_qubits*(n_layers+1))\n",
    "        param_enc = ParameterVector('Enc', 2*n_qubits*n_layers)\n",
    "\n",
    "        add_hadamard(qc, n_qubits)\n",
    "        for l in range(n_layers):\n",
    "            # Variational + Encoding Layer\n",
    "            add_single_qubit_rotation_hw_eff(qc, param_rot[l*(2*n_qubits):(l+1)*(2*n_qubits)], n_qubits)\n",
    "            qc.barrier()\n",
    "            add_entangling_layer(qc, n_qubits)\n",
    "            qc.barrier()\n",
    "            # Encoding Layer\n",
    "            add_encoding_layer_hw_eff(qc, param_enc[l*(2*n_qubits):(l+1)*(2*n_qubits)], n_qubits)\n",
    "            qc.barrier()\n",
    "        # Last Variational Layer\n",
    "        add_single_qubit_rotation_hw_eff(qc, param_rot[n_layers*(2*n_qubits):(n_layers+1)*(2*n_qubits)], n_qubits)\n",
    "        \n",
    "        return qc, param_rot, param_enc\n",
    "    \n",
    "    elif opt == 'universal':\n",
    "        param_single = ParameterVector('Rot', 12)\n",
    "        param_entangle = ParameterVector('Enc', 3)\n",
    "\n",
    "        single_qubit_gate_1(qc, param_single[0:6], 2)\n",
    "        qc.barrier()\n",
    "        entangled_gate(qc, param_entangle)\n",
    "        qc.barrier()\n",
    "        single_qubit_gate_2(qc, param_single[6:12], 2)\n",
    "\n",
    "        return qc, param_single, param_entangle\n",
    "\n",
    "    elif opt == 'universal_encoding':\n",
    "        param_universal = ParameterVector('Univ', 15)\n",
    "        param_enc = ParameterVector('Enc', 2)\n",
    "\n",
    "        single_qubit_gate_1(qc, param_universal[0:6], 2)\n",
    "        qc.barrier()\n",
    "        entangled_gate(qc, param_universal[6:9])\n",
    "        qc.barrier()\n",
    "        single_qubit_gate_2(qc, param_universal[9:15], 2)\n",
    "\n",
    "        qc.barrier()\n",
    "        encoding_layer(qc, param_enc, 2)\n",
    "\n",
    "        return qc, param_universal, param_enc\n",
    "\n",
    "    else:\n",
    "        return qc, 0, 0"
   ]
  },
  {
   "cell_type": "code",
   "execution_count": 17,
   "metadata": {},
   "outputs": [
    {
     "data": {
      "image/png": "[encoded data removed]",
      "text/plain": [
       "<Figure size 1062.92x144.48 with 1 Axes>"
      ]
     },
     "execution_count": 17,
     "metadata": {},
     "output_type": "execute_result"
    }
   ],
   "source": [
    "def draw_example():\n",
    "    quantum_circuit, param_rot, param_enc = build_circuit(n_qubits=2, n_layers=1, opt='universal_encoding')\n",
    "    return quantum_circuit\n",
    "draw_example().draw('mpl')"
   ]
  },
  {
   "cell_type": "code",
   "execution_count": 8,
   "metadata": {},
   "outputs": [
    {
     "name": "stdout",
     "output_type": "stream",
     "text": [
      "18\n"
     ]
    }
   ],
   "source": [
    "circuit, rot_params, enc_params = build_circuit(n_qubits=3, n_layers=1)"
   ]
  },
  {
   "cell_type": "code",
   "execution_count": 20,
   "metadata": {},
   "outputs": [],
   "source": [
    "class PQC_with_DataReuploading(nn.Module):\n",
    "    def __init__(self, n_qubits, n_layers, output_dim, observables=None, activation='linear'):\n",
    "        super().__init__()\n",
    "        \n",
    "        self.n_qubits = n_qubits\n",
    "        self.n_layers = n_layers\n",
    "        self.output_dim = output_dim\n",
    "        self.activation = activation\n",
    "        \n",
    "        if observables == None:\n",
    "            self.observables = Z^n_qubits\n",
    "        else:\n",
    "            self.observables = observables\n",
    "        \n",
    "        # Build circuits / Parameter Vectors\n",
    "        self.circuit, self.rot_params, self.enc_params = build_circuit(self.n_qubits, self.n_layers, 'base')\n",
    "        self.len_rot_params = len(self.rot_params)\n",
    "        self.len_enc_params = len(self.enc_params)\n",
    "        \n",
    "        self.psi = CircuitStateFn(primitive=self.circuit, coeff=1.)\n",
    "        self.Op = ~StateFn(self.observables) @ self.psi\n",
    "        \n",
    "        backend = self.ibmq_get_backend()\n",
    "        \n",
    "        # set method to calculcate expected values\n",
    "        expval = AerPauliExpectation()\n",
    "        # define gradient method\n",
    "        gradient = Gradient()\n",
    "        # define quantum instances (statevector and sample based)\n",
    "        # qi_sv = QuantumInstance(Aer.get_backend(\"aer_simulator_statevector\"))\n",
    "        qi_sv = QuantumInstance(backend)\n",
    "        # we set shots to 10 as this will determine the number of samples later on.\n",
    "        qi_qasm = QuantumInstance(Aer.get_backend(\"aer_simulator\"), shots=1000)\n",
    "        \n",
    "        self.qnn = OpflowQNN(operator=self.Op, input_params=self.enc_params, weight_params=self.rot_params, \n",
    "                             exp_val=expval, gradient=gradient, quantum_instance=qi_sv, input_gradients=True)\n",
    "        \n",
    "        self.total_params = []\n",
    "        for p in self.rot_params:\n",
    "            self.total_params.append(p)\n",
    "        for p in self.enc_params:\n",
    "            self.total_params.append(p)\n",
    "        \n",
    "        # Initial Parameters for circuit\n",
    "        self.rot_param_vals = nn.Parameter(np.pi * torch.rand(len(self.rot_params)))\n",
    "        self.enc_param_vals = nn.Parameter(torch.ones(len(self.enc_params)))\n",
    "        \n",
    "        # Parameter for circuit output\n",
    "        self.w = nn.Parameter(nn.Parameter(torch.rand(self.output_dim)))\n",
    "\n",
    "    def ibmq_get_backend(self):\n",
    "        IBMQ.save_account('187e96796190bb36b1c4a73b2d7f1b18d5c46a76babb4cf665b97057d2bfb661ab6983099b10f19d357e256d2b2a5136501a594bc3806c7e20088b79c84d94c3')\n",
    "        IBMQ.load_account()\n",
    "        provider = IBMQ.get_provider(hub='ibm-q')\n",
    "\n",
    "        backend = provider.get_backend('ibmq_quito')\n",
    "        return backend\n",
    "        \n",
    "    def forward(self, inputs):\n",
    "        # Input: State values -> Need to insert into Encoding gates with scaling parameters(encoding params)\n",
    "        input_tiled = inputs.tile(self.n_layers)\n",
    "        input_scaled = self.enc_param_vals * input_tiled\n",
    "        input_params = input_scaled\n",
    "    \n",
    "        expectation = self.qnn.forward(input_params.detach(), self.rot_param_vals.detach())\n",
    "        \n",
    "        action_exp = torch.tensor(expectation) * self.w\n",
    "        action_prob = F.softmax(action_exp, dim=1)\n",
    "        \n",
    "        return action_prob\n",
    "\n",
    "    def backward(self, inputs):\n",
    "        input_tiled = inputs.tile(self.n_layers)\n",
    "        input_scaled = self.enc_param_vals * input_tiled\n",
    "        input_params = input_scaled\n",
    "        expectation = self.qnn.forward(input_params.detach(), self.rot_param_vals.detach())\n",
    "        enc_grad, rot_grad = self.qnn.backward(input_params.detach(), self.rot_param_vals.detach())\n",
    "        w_grad = torch.tensor(expectation).tile(self.output_dim)\n",
    "        return torch.tensor(rot_grad.squeeze()), torch.tensor(enc_grad.squeeze()), w_grad\n",
    "        \n",
    "#     def get_grad(self, inputs):\n",
    "#         input_tiled = inputs.tile(self.n_layers)\n",
    "#         input_scaled = self.enc_param_vals * input_tiled\n",
    "#         input_params = input_scaled\n",
    "        \n",
    "#         value_dict = {}\n",
    "#         for i, p in enumerate(self.rot_params):\n",
    "#             value_dict[p] = self.rot_param_vals[i].item()\n",
    "#         for i, p in enumerate(self.enc_params):\n",
    "#             value_dict[p] = input_params[i].detach().item()\n",
    "        \n",
    "#         psi = CircuitStateFn(primitive=self.circuit, coeff=1.)\n",
    "#         op = ~StateFn(self.observables) @ psi\n",
    "#         grad = Gradient(grad_method='param_shift').convert(operator=op, params=self.total_params)\n",
    "# #         grad = Gradient(grad_method='fin_diff').convert(operator=op, params=self.total_params)\n",
    "#         grad_val = grad.assign_parameters(value_dict).eval()\n",
    "#         rot_grad = torch.tensor([grad_val[i].real for i in range(self.len_rot_params)])\n",
    "#         enc_grad = torch.tensor([grad_val[self.len_rot_params + i].real for i in range(self.len_enc_params)])\n",
    "        \n",
    "#         expectation = ~ psi @ self.observables @ psi\n",
    "#         expectation_val = expectation.assign_parameters(value_dict).eval().real\n",
    "#         w_grad = torch.tensor([float(expectation_val)*self.w[i] for i in range(len(self.w))])\n",
    "#         return rot_grad, enc_grad, w_grad\n",
    "    \n",
    "#     def get_grad2(self, inputs):\n",
    "#         input_tiled = inputs.tile(self.n_layers)\n",
    "#         input_scaled = self.enc_param_vals * input_tiled\n",
    "#         input_params = input_scaled\n",
    "            \n",
    "#         circ_psi = CircuitStateFn(primitive=self.circuit, coeff=1.)\n",
    "#         expectation = ~ circ_psi @ self.observables @ circ_psi\n",
    "                \n",
    "#         value_dict = {}\n",
    "#         for i, p in enumerate(self.rot_params):\n",
    "#             value_dict[p] = self.rot_param_vals[i].item()\n",
    "#         for i, p in enumerate(self.enc_params):\n",
    "#             value_dict[p] = input_params[i].detach().item()\n",
    "        \n",
    "#         rot_grad = []\n",
    "#         for idx in range(self.len_rot_params):\n",
    "\n",
    "#             value_dict[self.rot_params[idx]] += np.pi/2\n",
    "#             expectation_plus = expectation.assign_parameters(value_dict).eval().real\n",
    "#             value_dict[self.rot_params[idx]] -= np.pi\n",
    "#             expectation_minus = expectation.assign_parameters(value_dict).eval().real\n",
    "#             rot_grad.append(0.5*(expectation_plus - expectation_minus))\n",
    "        \n",
    "#         value_dict[self.rot_params[idx]] += np.pi/2\n",
    "        \n",
    "#         enc_grad = []\n",
    "#         for idx in range(self.len_enc_params):\n",
    "#             value_dict = {}\n",
    "#             for i, p in enumerate(self.rot_params):\n",
    "#                 value_dict[p] = self.rot_param_vals[i].item()\n",
    "#             for i, p in enumerate(self.enc_params):\n",
    "#                 value_dict[p] = input_params[i].detach().item()\n",
    "\n",
    "#             value_dict[self.enc_params[idx]] += np.pi/2\n",
    "#             expectation_plus = expectation.assign_parameters(value_dict).eval().real\n",
    "#             value_dict[self.enc_params[idx]] -= np.pi\n",
    "#             expectation_minus = expectation.assign_parameters(value_dict).eval().real\n",
    "#             enc_grad.append(0.5*(expectation_plus - expectation_minus))\n",
    "        \n",
    "#         value_dict[self.enc_params[idx]] += np.pi/2\n",
    "        \n",
    "#         expectation = expectation.assign_parameters(value_dict).eval().real\n",
    "#         w_grad = torch.tensor([float(expectation)*self.w[i] for i in range(len(self.w))])\n",
    "        \n",
    "#         return torch.tensor(rot_grad), torch.tensor(enc_grad), w_grad"
   ]
  },
  {
   "cell_type": "code",
   "execution_count": 21,
   "metadata": {},
   "outputs": [
    {
     "name": "stdout",
     "output_type": "stream",
     "text": [
      "12\n"
     ]
    }
   ],
   "source": [
    "policy = PQC_with_DataReuploading(n_qubits=2, n_layers=1, output_dim=2)"
   ]
  },
  {
   "cell_type": "code",
   "execution_count": 22,
   "metadata": {},
   "outputs": [
    {
     "data": {
      "image/png": "[encoded data removed]",
      "text/plain": [
       "<Figure size 761.923x144.48 with 1 Axes>"
      ]
     },
     "execution_count": 22,
     "metadata": {},
     "output_type": "execute_result"
    }
   ],
   "source": [
    "policy.circuit.draw('mpl')"
   ]
  },
  {
   "cell_type": "code",
   "execution_count": 23,
   "metadata": {},
   "outputs": [],
   "source": [
    "inputs = torch.rand((10,2))"
   ]
  },
  {
   "cell_type": "code",
   "execution_count": 24,
   "metadata": {},
   "outputs": [
    {
     "data": {
      "text/plain": [
       "tensor([[0.4469, 0.5531],\n",
       "        [0.4411, 0.5589],\n",
       "        [0.4527, 0.5473],\n",
       "        [0.4561, 0.5439],\n",
       "        [0.4565, 0.5435],\n",
       "        [0.4323, 0.5677],\n",
       "        [0.4400, 0.5600],\n",
       "        [0.4308, 0.5692],\n",
       "        [0.4534, 0.5466],\n",
       "        [0.4588, 0.5412]], dtype=torch.float64, grad_fn=<SoftmaxBackward0>)"
      ]
     },
     "execution_count": 24,
     "metadata": {},
     "output_type": "execute_result"
    }
   ],
   "source": [
    "policy.forward(inputs)"
   ]
  },
  {
   "cell_type": "code",
   "execution_count": 25,
   "metadata": {},
   "outputs": [
    {
     "name": "stdout",
     "output_type": "stream",
     "text": [
      "0.9681932926177979\n"
     ]
    }
   ],
   "source": [
    "s = time.time()\n",
    "a,b,c = policy.backward(inputs)\n",
    "print(time.time()-s)"
   ]
  },
  {
   "cell_type": "code",
   "execution_count": 26,
   "metadata": {},
   "outputs": [
    {
     "data": {
      "text/plain": [
       "torch.Size([10, 12])"
      ]
     },
     "execution_count": 26,
     "metadata": {},
     "output_type": "execute_result"
    }
   ],
   "source": [
    "a.shape"
   ]
  },
  {
   "cell_type": "markdown",
   "metadata": {},
   "source": [
    "# Make Quantum Agent"
   ]
  },
  {
   "cell_type": "code",
   "execution_count": 27,
   "metadata": {},
   "outputs": [],
   "source": [
    "class QuantumAgent():\n",
    "    def __init__(self, input_state_dim, n_actions, n_layers=1):\n",
    "        self.policy = PQC_with_DataReuploading(n_qubits=input_state_dim, n_layers=n_layers, \n",
    "                                               output_dim=n_actions, observables=None,\n",
    "                                               activation='linear')\n",
    "        self.n_layers = n_layers\n",
    "        self.variational_optim = torch.optim.Adam([self.policy.rot_param_vals], lr=1)\n",
    "        self.encoding_optim = torch.optim.Adam([self.policy.enc_param_vals], lr=1)\n",
    "        self.weight_optim = torch.optim.Adam([self.policy.w], lr=1)\n",
    "        \n",
    "        self.optims = [self.variational_optim, self.encoding_optim, self.weight_optim]\n",
    "        \n",
    "    def get_actions(self, input_state):\n",
    "        return self.policy.forward(input_state)\n",
    "    \n",
    "    def update_policy(self, states, id_action_pairs, returns, action_probs, batch_size):\n",
    "        r_grad, e_grad, w_grad = self.policy.backward(states)\n",
    "        \n",
    "        p_actions = torch.tensor([action_probs[id_action_pairs[i][0], id_action_pairs[i][1]] for i in range(action_probs.shape[0])])\n",
    "        p_actions = p_actions.reshape(p_actions.shape[0], -1)\n",
    "        action_idxs = id_action_pairs[:,1]\n",
    "        \n",
    "        returns = returns.reshape(returns.shape[0], -1)\n",
    "        action_weights = agent.policy.w.detach().numpy()[id_action_pairs[:,1]]\n",
    "        action_weights = action_weights[:,np.newaxis]\n",
    "        \n",
    "        w = agent.policy.w.tile(len(states)).reshape(len(states),-1)\n",
    "        \n",
    "        rot_grad = returns * ( r_grad * torch.tensor(action_weights) - torch.sum(p_actions * w) * r_grad)\n",
    "        input_scaled = self.policy.enc_param_vals * states.tile(self.n_layers)\n",
    "        \n",
    "        enc_grad = returns * ( e_grad * torch.tensor(action_weights) - input_scaled * torch.sum(p_actions * w) * e_grad)\n",
    "        weight_grad = returns * ( w_grad * torch.tensor(action_weights) - torch.sum(p_actions * w) * w_grad)\n",
    "        \n",
    "        for opt in self.optims:\n",
    "            opt.zero_grad()\n",
    "        \n",
    "        rot_update = (torch.sum(rot_grad.detach(), dim=0) / batch_size).type(torch.float32)\n",
    "        enc_update = (torch.sum(enc_grad, dim=0).detach() / batch_size).type(torch.float32)\n",
    "        w_update = (torch.sum(weight_grad, dim=0).detach() / batch_size).type(torch.float32)\n",
    "                \n",
    "        self.policy.rot_param_vals.grad = rot_update\n",
    "        self.policy.enc_param_vals.grad = enc_update\n",
    "        self.policy.w.grad = w_update\n",
    "                \n",
    "        self.variational_optim.step()\n",
    "        self.encoding_optim.step()\n",
    "        self.weight_optim.step()\n",
    "        \n",
    "#         for i in range(len(states)):\n",
    "#             r_grad += returns[i] * (rot_gradient[i]*self.policy.w[action_idxs[i]] \n",
    "#                                     - torch.sum(p_actions[i]*self.policy.w)*rot_gradient[i])\n",
    "   \n",
    "#             input_scaled = self.policy.enc_param_vals * states[i].tile(self.n_layers)\n",
    "#             e_grad +=  returns[i] * (enc_gradient[i]*self.policy.w[action_idxs[i]] \n",
    "#                                      - input_scaled * torch.sum(p_actions[i]*self.policy.w)*enc_gradient[i])\n",
    "            \n",
    "#             w_grad += returns[i] * (w_gradient[i]*self.policy.w[action_idxs[i]] \n",
    "#                                     - torch.sum(p_actions[i]*self.policy.w)*w_gradient[i])\n",
    "        \n",
    "#     def update_policy(self, states, id_action_pairs, returns, action_probs, batch_size):\n",
    "#         rot_gradient, enc_gradient, w_gradient = [], [], []\n",
    "#         for s in states:\n",
    "#             r_grad, e_grad, w_grad = self.policy.get_grad(s)\n",
    "#             rot_gradient.append(np.array(r_grad))\n",
    "#             enc_gradient.append(np.array(e_grad))\n",
    "#             w_gradient.append(np.array(w_grad))\n",
    "#         rot_gradient = torch.mean(torch.from_numpy(np.array(rot_gradient)), dim=0)\n",
    "#         enc_gradient = torch.mean(torch.from_numpy(np.array(enc_gradient)), dim=0)\n",
    "#         w_gradient = torch.mean(torch.from_numpy(np.array(w_gradient)), dim=0)\n",
    "        \n",
    "#         p_actions = torch.tensor([action_probs[id_action_pairs[i][0], id_action_pairs[i][1]] for i in range(action_probs.shape[0])])\n",
    "#         log_probs = torch.log(p_actions)\n",
    "#         loss = torch.sum(-log_probs * returns) / batch_size\n",
    "        \n",
    "#         for opt in self.optims:\n",
    "#             opt.zero_grad()\n",
    "        \n",
    "#         self.policy.rot_param_vals.grad = loss * rot_gradient\n",
    "#         self.policy.enc_param_vals.grad = loss * enc_gradient\n",
    "#         self.policy.w.grad = loss * w_gradient\n",
    "                \n",
    "#         self.variational_optim.step()\n",
    "#         self.encoding_optim.step()\n",
    "#         self.weight_optim.step()"
   ]
  },
  {
   "cell_type": "code",
   "execution_count": 28,
   "metadata": {},
   "outputs": [
    {
     "name": "stdout",
     "output_type": "stream",
     "text": [
      "12\n"
     ]
    }
   ],
   "source": [
    "n_qubits = 2 # Dimension of the state vectors in CartPole\n",
    "n_layers = 1\n",
    "n_actions = 2 # Number of actions in CartPole\n",
    "agent = QuantumAgent(input_state_dim = n_qubits, n_actions=n_actions, n_layers=n_layers)"
   ]
  },
  {
   "cell_type": "markdown",
   "metadata": {},
   "source": [
    "# Run Episodes and Update Policy"
   ]
  },
  {
   "cell_type": "code",
   "execution_count": 29,
   "metadata": {},
   "outputs": [],
   "source": [
    "def gather_episodes(state_bounds, n_actions, agent, n_episodes, env_name):\n",
    "    \"\"\"Interact with environment in batched fashion.\"\"\"\n",
    "\n",
    "    trajectories = [defaultdict(list) for _ in range(n_episodes)]\n",
    "    envs = [Curling() for _ in range(n_episodes)]\n",
    "#     envs = [gym.make(env_name) for _ in range(n_episodes)]\n",
    "\n",
    "    done = [False for _ in range(n_episodes)]\n",
    "    states = [e.reset() for e in envs]\n",
    "\n",
    "    while not all(done):\n",
    "        unfinished_ids = [i for i in range(n_episodes) if not done[i]]\n",
    "        normalized_states = [s/state_bounds for i, s in enumerate(states) if not done[i]]\n",
    "\n",
    "        for i, state in zip(unfinished_ids, normalized_states):\n",
    "            trajectories[i]['states'].append(state)\n",
    "\n",
    "        states = torch.from_numpy(np.array(normalized_states))\n",
    "        action_probs = agent.get_actions(states)\n",
    "\n",
    "        # Store action and transition all environments to the next state\n",
    "        states = [None for i in range(n_episodes)]\n",
    "        for i, action_prob in zip(unfinished_ids, action_probs.detach().numpy()):\n",
    "            action = np.random.choice(n_actions, p=action_prob)\n",
    "            states[i], reward, done[i], _ = envs[i].step(action)\n",
    "            trajectories[i]['actions'].append(action)\n",
    "            trajectories[i]['rewards'].append(reward)\n",
    "            trajectories[i]['action probs'].append(action_prob)\n",
    "\n",
    "    return trajectories\n",
    "\n",
    "def compute_returns(rewards_history, gamma):\n",
    "    \"\"\"Compute discounted returns with discount factor `gamma`.\"\"\"\n",
    "    returns = []\n",
    "    discounted_sum = 0\n",
    "    for r in rewards_history[::-1]:\n",
    "        discounted_sum = r + gamma * discounted_sum\n",
    "        returns.insert(0, discounted_sum)\n",
    "\n",
    "    # Normalize them for faster and more stable learning\n",
    "    returns = np.array(returns)\n",
    "    returns = (returns - np.mean(returns)) / (np.std(returns) + 1e-8)\n",
    "    returns = returns.tolist()\n",
    "\n",
    "    return returns"
   ]
  },
  {
   "cell_type": "code",
   "execution_count": 34,
   "metadata": {},
   "outputs": [],
   "source": [
    "env_name = \"CartPole-v1\"\n",
    "state_bounds = np.array([3, 1])\n",
    "gamma = 1\n",
    "batch_size = 10\n",
    "n_episodes = 1000"
   ]
  },
  {
   "cell_type": "code",
   "execution_count": 39,
   "metadata": {},
   "outputs": [
    {
     "data": {
      "text/plain": [
       "0"
      ]
     },
     "execution_count": 39,
     "metadata": {},
     "output_type": "execute_result"
    }
   ],
   "source": [
    "100%5"
   ]
  },
  {
   "cell_type": "code",
   "execution_count": null,
   "metadata": {
    "scrolled": false
   },
   "outputs": [
    {
     "data": {
      "application/vnd.jupyter.widget-view+json": {
       "model_id": "eada1a4380a14283a60a1e7b30a1d3d3",
       "version_major": 2,
       "version_minor": 0
      },
      "text/plain": [
       "  0%|          | 0/100 [00:00<?, ?it/s]"
      ]
     },
     "metadata": {},
     "output_type": "display_data"
    },
    {
     "name": "stdout",
     "output_type": "stream",
     "text": [
      "Monitored episode 50 Average Monitored rewards:  0.44\n",
      "Finished episode 10 Average rewards:  0.4\n",
      "Finished episode 20 Average rewards:  0.5\n",
      "Finished episode 30 Average rewards:  0.4\n",
      "Finished episode 40 Average rewards:  0.5\n",
      "Finished episode 50 Average rewards:  0.6\n",
      "Monitored episode 50 Average Monitored rewards:  0.38\n",
      "Finished episode 60 Average rewards:  0.4\n",
      "Finished episode 70 Average rewards:  0.4\n",
      "Finished episode 80 Average rewards:  0.6\n",
      "Finished episode 90 Average rewards:  0.4\n",
      "Finished episode 100 Average rewards:  0.4\n",
      "Monitored episode 50 Average Monitored rewards:  0.56\n",
      "Finished episode 110 Average rewards:  0.7\n",
      "Finished episode 120 Average rewards:  0.5\n",
      "Finished episode 130 Average rewards:  0.5\n",
      "Finished episode 140 Average rewards:  0.5\n",
      "Finished episode 150 Average rewards:  0.8\n",
      "Monitored episode 50 Average Monitored rewards:  0.5\n",
      "Finished episode 160 Average rewards:  0.4\n",
      "Finished episode 170 Average rewards:  0.4\n",
      "Finished episode 180 Average rewards:  0.2\n",
      "Finished episode 190 Average rewards:  0.8\n",
      "Finished episode 200 Average rewards:  0.4\n",
      "Monitored episode 50 Average Monitored rewards:  0.6\n",
      "Finished episode 210 Average rewards:  0.4\n",
      "Finished episode 220 Average rewards:  0.4\n",
      "Finished episode 230 Average rewards:  0.6\n"
     ]
    }
   ],
   "source": [
    "# Start training the agent\n",
    "episode_reward_history = []\n",
    "# Monitoring reward\n",
    "monitor_reward_history = []\n",
    "for batch in tqdm(range(n_episodes // batch_size)):\n",
    "    # Gather episodes\n",
    "    episodes = gather_episodes(state_bounds, n_actions, agent, batch_size, env_name)\n",
    "\n",
    "    # Group states, actions and returns in numpy arrays\n",
    "    states = torch.from_numpy(np.concatenate([ep['states'] for ep in episodes]))\n",
    "    actions = torch.from_numpy(np.concatenate([ep['actions'] for ep in episodes]))\n",
    "    action_probs = torch.from_numpy(np.concatenate([ep['action probs'] for ep in episodes]))\n",
    "    rewards = [ep['rewards'] for ep in episodes]\n",
    "    returns = np.concatenate([compute_returns(ep_rwds, gamma) for ep_rwds in rewards])\n",
    "    returns = torch.from_numpy(np.array(returns))\n",
    "\n",
    "    id_action_pairs = torch.from_numpy(np.array([[i, a] for i, a in enumerate(actions)]))\n",
    "\n",
    "    # Update model parameters.\n",
    "    agent.update_policy(states, id_action_pairs, returns, action_probs, batch_size)\n",
    "#     print(action_probs)\n",
    "\n",
    "    if batch % 5 == 0:\n",
    "        # Gather episodes\n",
    "        episodes = gather_episodes(state_bounds, n_actions, agent, 50, env_name)\n",
    "\n",
    "        # Group states, actions and returns in numpy arrays\n",
    "        states = torch.from_numpy(np.concatenate([ep['states'] for ep in episodes]))\n",
    "        actions = torch.from_numpy(np.concatenate([ep['actions'] for ep in episodes]))\n",
    "        action_probs = torch.from_numpy(np.concatenate([ep['action probs'] for ep in episodes]))\n",
    "        rewards = [ep['rewards'] for ep in episodes]\n",
    "        # Store collected rewards\n",
    "        temp_hist = []\n",
    "        for ep_rwds in rewards:\n",
    "            temp_hist.append(np.sum(ep_rwds))\n",
    "        avg_rewards = np.mean(temp_hist)\n",
    "        monitor_reward_history.append(np.sum(ep_rwds))\n",
    "        \n",
    "        print('Monitored episode', 50,\n",
    "              'Average Monitored rewards: ', avg_rewards)\n",
    "\n",
    "    # Store collected rewards\n",
    "    for ep_rwds in rewards:\n",
    "        episode_reward_history.append(np.sum(ep_rwds))\n",
    "\n",
    "    avg_rewards = np.mean(episode_reward_history[-batch_size:])\n",
    "\n",
    "    print('Finished episode', (batch + 1) * batch_size,\n",
    "          'Average rewards: ', avg_rewards)\n",
    "\n",
    "    if avg_rewards >= 500.0:\n",
    "        break"
   ]
  },
  {
   "cell_type": "code",
   "execution_count": 36,
   "metadata": {},
   "outputs": [
    {
     "data": {
      "text/plain": [
       "[<matplotlib.lines.Line2D at 0x183fcff8760>]"
      ]
     },
     "execution_count": 36,
     "metadata": {},
     "output_type": "execute_result"
    },
    {
     "data": {
      "image/png": "[encoded data removed]",
      "text/plain": [
       "<Figure size 432x288 with 1 Axes>"
      ]
     },
     "metadata": {
      "needs_background": "light"
     },
     "output_type": "display_data"
    }
   ],
   "source": [
    "plt.plot(episode_reward_history)"
   ]
  },
  {
   "cell_type": "code",
   "execution_count": 46,
   "metadata": {},
   "outputs": [
    {
     "data": {
      "text/plain": [
       "(array([114.,   0.,   0.,   0.,   0.,   0.,   0.,   0.,   0.,   0.,   0.,\n",
       "          0.,   0.,   0.,   0.,   0.,   0.,   0.,   0.,   0.,   0.,   0.,\n",
       "          0.,   0.,   0.,   0.,   0.,   0.,   0.,  86.]),\n",
       " array([0.        , 0.03333333, 0.06666667, 0.1       , 0.13333333,\n",
       "        0.16666667, 0.2       , 0.23333333, 0.26666667, 0.3       ,\n",
       "        0.33333333, 0.36666667, 0.4       , 0.43333333, 0.46666667,\n",
       "        0.5       , 0.53333333, 0.56666667, 0.6       , 0.63333333,\n",
       "        0.66666667, 0.7       , 0.73333333, 0.76666667, 0.8       ,\n",
       "        0.83333333, 0.86666667, 0.9       , 0.93333333, 0.96666667,\n",
       "        1.        ]),\n",
       " <BarContainer object of 30 artists>)"
      ]
     },
     "execution_count": 46,
     "metadata": {},
     "output_type": "execute_result"
    },
    {
     "data": {
      "image/png": "[encoded data removed]",
      "text/plain": [
       "<Figure size 432x288 with 1 Axes>"
      ]
     },
     "metadata": {
      "needs_background": "light"
     },
     "output_type": "display_data"
    }
   ],
   "source": [
    "plt.hist(episode_reward_history[:200], bins=30)"
   ]
  },
  {
   "cell_type": "code",
   "execution_count": 47,
   "metadata": {},
   "outputs": [
    {
     "data": {
      "text/plain": [
       "(array([193.,   0.,   0.,   0.,   0.,   0.,   0.,   0.,   0.,   0.,   0.,\n",
       "          0.,   0.,   0.,   0.,   0.,   0.,   0.,   0.,   0.,   0.,   0.,\n",
       "          0.,   0.,   0.,   0.,   0.,   0.,   0., 207.]),\n",
       " array([0.        , 0.03333333, 0.06666667, 0.1       , 0.13333333,\n",
       "        0.16666667, 0.2       , 0.23333333, 0.26666667, 0.3       ,\n",
       "        0.33333333, 0.36666667, 0.4       , 0.43333333, 0.46666667,\n",
       "        0.5       , 0.53333333, 0.56666667, 0.6       , 0.63333333,\n",
       "        0.66666667, 0.7       , 0.73333333, 0.76666667, 0.8       ,\n",
       "        0.83333333, 0.86666667, 0.9       , 0.93333333, 0.96666667,\n",
       "        1.        ]),\n",
       " <BarContainer object of 30 artists>)"
      ]
     },
     "execution_count": 47,
     "metadata": {},
     "output_type": "execute_result"
    },
    {
     "data": {
      "image/png": "[encoded data removed]",
      "text/plain": [
       "<Figure size 432x288 with 1 Axes>"
      ]
     },
     "metadata": {
      "needs_background": "light"
     },
     "output_type": "display_data"
    }
   ],
   "source": [
    "plt.hist(episode_reward_history[800:], bins=30)"
   ]
  },
  {
   "cell_type": "code",
   "execution_count": 37,
   "metadata": {},
   "outputs": [
    {
     "data": {
      "text/plain": [
       "[<matplotlib.lines.Line2D at 0x183fe9ee280>]"
      ]
     },
     "execution_count": 37,
     "metadata": {},
     "output_type": "execute_result"
    },
    {
     "data": {
      "image/png": "[encoded data removed]",
      "text/plain": [
       "<Figure size 432x288 with 1 Axes>"
      ]
     },
     "metadata": {
      "needs_background": "light"
     },
     "output_type": "display_data"
    }
   ],
   "source": [
    "plt.plot(monitor_reward_history)"
   ]
  },
  {
   "cell_type": "code",
   "execution_count": null,
   "metadata": {},
   "outputs": [],
   "source": []
  }
 ],
 "metadata": {
  "colab": {
   "authorship_tag": "ABX9TyNE3QY8UA5xCDFR4Ht9tSPe",
   "collapsed_sections": [
    "ksJVcTLxzskm",
    "jySdpQf_zuiE",
    "MIKgmnTWM8yz",
    "eLm2LW4zBqPo"
   ],
   "name": "QuantumCircuitLearning.ipynb",
   "provenance": []
  },
  "kernelspec": {
   "display_name": "Python 3",
   "language": "python",
   "name": "python3"
  },
  "language_info": {
   "codemirror_mode": {
    "name": "ipython",
    "version": 3
   },
   "file_extension": ".py",
   "mimetype": "text/x-python",
   "name": "python",
   "nbconvert_exporter": "python",
   "pygments_lexer": "ipython3",
   "version": "3.8.8"
  },
  "widgets": {
   "application/vnd.jupyter.widget-state+json": {
    "1b23efbb8db748a2af8554186cf2a3d8": {
     "model_module": "@jupyter-widgets/base",
     "model_module_version": "1.2.0",
     "model_name": "LayoutModel",
     "state": {
      "_model_module": "@jupyter-widgets/base",
      "_model_module_version": "1.2.0",
      "_model_name": "LayoutModel",
      "_view_count": null,
      "_view_module": "@jupyter-widgets/base",
      "_view_module_version": "1.2.0",
      "_view_name": "LayoutView",
      "align_content": null,
      "align_items": null,
      "align_self": null,
      "border": null,
      "bottom": null,
      "display": null,
      "flex": null,
      "flex_flow": null,
      "grid_area": null,
      "grid_auto_columns": null,
      "grid_auto_flow": null,
      "grid_auto_rows": null,
      "grid_column": null,
      "grid_gap": null,
      "grid_row": null,
      "grid_template_areas": null,
      "grid_template_columns": null,
      "grid_template_rows": null,
      "height": null,
      "justify_content": null,
      "justify_items": null,
      "left": null,
      "margin": null,
      "max_height": null,
      "max_width": null,
      "min_height": null,
      "min_width": null,
      "object_fit": null,
      "object_position": null,
      "order": null,
      "overflow": null,
      "overflow_x": null,
      "overflow_y": null,
      "padding": null,
      "right": null,
      "top": null,
      "visibility": null,
      "width": null
     }
    },
    "235d4532e52e4aadbc6c049c0c7369b3": {
     "model_module": "@jupyter-widgets/base",
     "model_module_version": "1.2.0",
     "model_name": "LayoutModel",
     "state": {
      "_model_module": "@jupyter-widgets/base",
      "_model_module_version": "1.2.0",
      "_model_name": "LayoutModel",
      "_view_count": null,
      "_view_module": "@jupyter-widgets/base",
      "_view_module_version": "1.2.0",
      "_view_name": "LayoutView",
      "align_content": null,
      "align_items": null,
      "align_self": null,
      "border": null,
      "bottom": null,
      "display": null,
      "flex": null,
      "flex_flow": null,
      "grid_area": null,
      "grid_auto_columns": null,
      "grid_auto_flow": null,
      "grid_auto_rows": null,
      "grid_column": null,
      "grid_gap": null,
      "grid_row": null,
      "grid_template_areas": null,
      "grid_template_columns": null,
      "grid_template_rows": null,
      "height": null,
      "justify_content": null,
      "justify_items": null,
      "left": null,
      "margin": null,
      "max_height": null,
      "max_width": null,
      "min_height": null,
      "min_width": null,
      "object_fit": null,
      "object_position": null,
      "order": null,
      "overflow": null,
      "overflow_x": null,
      "overflow_y": null,
      "padding": null,
      "right": null,
      "top": null,
      "visibility": null,
      "width": null
     }
    },
    "25885ff5cc014bafa5442805d676c0be": {
     "model_module": "@jupyter-widgets/controls",
     "model_module_version": "1.5.0",
     "model_name": "FloatProgressModel",
     "state": {
      "_dom_classes": [],
      "_model_module": "@jupyter-widgets/controls",
      "_model_module_version": "1.5.0",
      "_model_name": "FloatProgressModel",
      "_view_count": null,
      "_view_module": "@jupyter-widgets/controls",
      "_view_module_version": "1.5.0",
      "_view_name": "ProgressView",
      "bar_style": "success",
      "description": "100%",
      "description_tooltip": null,
      "layout": "IPY_MODEL_235d4532e52e4aadbc6c049c0c7369b3",
      "max": 50,
      "min": 0,
      "orientation": "horizontal",
      "style": "IPY_MODEL_4ede1074ee2f496ab3d864be52157d03",
      "value": 50
     }
    },
    "40ae390ed75a46f292ffc969fdd0509e": {
     "model_module": "@jupyter-widgets/controls",
     "model_module_version": "1.5.0",
     "model_name": "DescriptionStyleModel",
     "state": {
      "_model_module": "@jupyter-widgets/controls",
      "_model_module_version": "1.5.0",
      "_model_name": "DescriptionStyleModel",
      "_view_count": null,
      "_view_module": "@jupyter-widgets/base",
      "_view_module_version": "1.2.0",
      "_view_name": "StyleView",
      "description_width": ""
     }
    },
    "4ede1074ee2f496ab3d864be52157d03": {
     "model_module": "@jupyter-widgets/controls",
     "model_module_version": "1.5.0",
     "model_name": "ProgressStyleModel",
     "state": {
      "_model_module": "@jupyter-widgets/controls",
      "_model_module_version": "1.5.0",
      "_model_name": "ProgressStyleModel",
      "_view_count": null,
      "_view_module": "@jupyter-widgets/base",
      "_view_module_version": "1.2.0",
      "_view_name": "StyleView",
      "bar_color": null,
      "description_width": "initial"
     }
    },
    "68c55b17e042416c91105f585c6f622a": {
     "model_module": "@jupyter-widgets/controls",
     "model_module_version": "1.5.0",
     "model_name": "HTMLModel",
     "state": {
      "_dom_classes": [],
      "_model_module": "@jupyter-widgets/controls",
      "_model_module_version": "1.5.0",
      "_model_name": "HTMLModel",
      "_view_count": null,
      "_view_module": "@jupyter-widgets/controls",
      "_view_module_version": "1.5.0",
      "_view_name": "HTMLView",
      "description": "",
      "description_tooltip": null,
      "layout": "IPY_MODEL_ec14bbc210b743f085734c3bf858fd72",
      "placeholder": "​",
      "style": "IPY_MODEL_40ae390ed75a46f292ffc969fdd0509e",
      "value": " 50/50 [11:53&lt;00:00, 14.28s/it]"
     }
    },
    "cc511557b8a54d408c9d2ddcaa7aa7dc": {
     "model_module": "@jupyter-widgets/controls",
     "model_module_version": "1.5.0",
     "model_name": "HBoxModel",
     "state": {
      "_dom_classes": [],
      "_model_module": "@jupyter-widgets/controls",
      "_model_module_version": "1.5.0",
      "_model_name": "HBoxModel",
      "_view_count": null,
      "_view_module": "@jupyter-widgets/controls",
      "_view_module_version": "1.5.0",
      "_view_name": "HBoxView",
      "box_style": "",
      "children": [
       "IPY_MODEL_25885ff5cc014bafa5442805d676c0be",
       "IPY_MODEL_68c55b17e042416c91105f585c6f622a"
      ],
      "layout": "IPY_MODEL_1b23efbb8db748a2af8554186cf2a3d8"
     }
    },
    "ec14bbc210b743f085734c3bf858fd72": {
     "model_module": "@jupyter-widgets/base",
     "model_module_version": "1.2.0",
     "model_name": "LayoutModel",
     "state": {
      "_model_module": "@jupyter-widgets/base",
      "_model_module_version": "1.2.0",
      "_model_name": "LayoutModel",
      "_view_count": null,
      "_view_module": "@jupyter-widgets/base",
      "_view_module_version": "1.2.0",
      "_view_name": "LayoutView",
      "align_content": null,
      "align_items": null,
      "align_self": null,
      "border": null,
      "bottom": null,
      "display": null,
      "flex": null,
      "flex_flow": null,
      "grid_area": null,
      "grid_auto_columns": null,
      "grid_auto_flow": null,
      "grid_auto_rows": null,
      "grid_column": null,
      "grid_gap": null,
      "grid_row": null,
      "grid_template_areas": null,
      "grid_template_columns": null,
      "grid_template_rows": null,
      "height": null,
      "justify_content": null,
      "justify_items": null,
      "left": null,
      "margin": null,
      "max_height": null,
      "max_width": null,
      "min_height": null,
      "min_width": null,
      "object_fit": null,
      "object_position": null,
      "order": null,
      "overflow": null,
      "overflow_x": null,
      "overflow_y": null,
      "padding": null,
      "right": null,
      "top": null,
      "visibility": null,
      "width": null
     }
    }
   }
  }
 },
 "nbformat": 4,
 "nbformat_minor": 1
}
