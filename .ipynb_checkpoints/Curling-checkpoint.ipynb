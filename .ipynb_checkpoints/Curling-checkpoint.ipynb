{
 "cells": [
  {
   "cell_type": "code",
   "execution_count": 68,
   "id": "11a43a7a",
   "metadata": {},
   "outputs": [],
   "source": [
    "import gym\n",
    "import numpy as np\n",
    "from numpy import random\n",
    "from gym import spaces"
   ]
  },
  {
   "cell_type": "code",
   "execution_count": 69,
   "id": "7d3363ea",
   "metadata": {},
   "outputs": [],
   "source": [
    "MAX_SCORE = 3"
   ]
  },
  {
   "cell_type": "code",
   "execution_count": 72,
   "id": "54b0f77d",
   "metadata": {},
   "outputs": [],
   "source": [
    "class Curling(gym.Env):\n",
    "    def __init__(self):\n",
    "#     super(Curling, self).__init__()\n",
    "        self.action_space = gym.spaces.Discrete(2)  # [0, 1]. 0: conservative, 1: aggressive\n",
    "        self.observation_space = gym.spaces.Box(low=np.array([-1*MAX_SCORE, 0]), high=np.array([MAX_SCORE, 1]), dtype=np.int8)\n",
    "        \n",
    "        # inner variables\n",
    "        self.num_ends = 0\n",
    "        self.score_range = np.arange(-1*MAX_SCORE, MAX_SCORE+1)\n",
    "        self.agressive_with_hammer_stat = (0.02867, 0.10338, 0.22606, 0.16606, 0.06996, 0.28462, 0.12121)\n",
    "        self.agressive_without_hammer_stat = (0.12121, 0.28462, 0.06996, 0.16606, 0.22606, 0.10338, 0.02867)\n",
    "        self.conservative_with_hammer_stat = (0, 0, 0.1, 0.2, 0.6, 0.1, 0)\n",
    "        self.conservative_without_hammer_stat = (0, 0.1, 0.6, 0.2, 0.1, 0, 0)\n",
    "        self.current_state = np.array([0, random.randint(2)])  # (score, hammer)\n",
    "        \n",
    "    def step(self, action):\n",
    "        # calculate this end's result\n",
    "        if self.current_state[1]:  # with hammer\n",
    "            if action:  # aggressive\n",
    "                this_end_result = random.choices(self.score_range, weights=self.agressive_with_hammer_stat, k=1)\n",
    "            else:  # conservative\n",
    "                this_end_result = random.choices(self.score_range, weights=self.conservative_with_hammer_stat, k=1)\n",
    "        else:\n",
    "            if action:  # aggressive\n",
    "                this_end_result = random.choices(self.score_range, weights=self.agressive_without_hammer_stat, k=1)\n",
    "            else:  # conservative\n",
    "                this_end_result = random.choices(self.score_range, weights=self.conservative_without_hammer_stat, k=1)\n",
    "        \n",
    "        # decide if we'll be with the hammer for the next end\n",
    "        if this_end_result > 0:\n",
    "            hammer = 1\n",
    "        if this_end_result == 0:\n",
    "            hammer = self.current_state[1]  # keep the current stance\n",
    "        if this_end_result < 0:\n",
    "            hammer = 0\n",
    "        \n",
    "        # determine the next state\n",
    "        score_after_this_end = self.current_state[0] + this_end_result\n",
    "        state = np.array([score_after_this_end, hammer])\n",
    "        self.current_state = state\n",
    "        \n",
    "        # update game status\n",
    "        self.num_ends = self.num_ends + 1\n",
    "        done = True if (self.num_ends == 10) else False\n",
    "        \n",
    "        # calculate reward\n",
    "        if done and (self.score_gap > 0):\n",
    "            reward = 1\n",
    "        else:\n",
    "            reward = 0\n",
    "        \n",
    "        info = None  # placeholder for debug messages\n",
    "        \n",
    "        return state, reward, done, info\n",
    "    \n",
    "    def reset(self):\n",
    "        self.num_ends = 0\n",
    "        self.current_state = np.array([0, random.randint(2)])  # (score, hammer)\n",
    "        return self.current_state      "
   ]
  },
  {
   "cell_type": "code",
   "execution_count": null,
   "id": "c7db8e52",
   "metadata": {},
   "outputs": [],
   "source": []
  },
  {
   "cell_type": "code",
   "execution_count": null,
   "id": "89439a80",
   "metadata": {},
   "outputs": [],
   "source": []
  }
 ],
 "metadata": {
  "kernelspec": {
   "display_name": "Python 3",
   "language": "python",
   "name": "python3"
  },
  "language_info": {
   "codemirror_mode": {
    "name": "ipython",
    "version": 3
   },
   "file_extension": ".py",
   "mimetype": "text/x-python",
   "name": "python",
   "nbconvert_exporter": "python",
   "pygments_lexer": "ipython3",
   "version": "3.8.8"
  }
 },
 "nbformat": 4,
 "nbformat_minor": 5
}
