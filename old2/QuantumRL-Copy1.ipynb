{
 "cells": [
  {
   "cell_type": "markdown",
   "metadata": {
    "id": "ksJVcTLxzskm"
   },
   "source": [
    "# Import modules"
   ]
  },
  {
   "cell_type": "code",
   "execution_count": 1,
   "metadata": {
    "id": "N8fPchWjlyM1"
   },
   "outputs": [],
   "source": [
    "import qiskit\n",
    "import pylatexenc\n",
    "import torch\n",
    "import torch.nn as nn\n",
    "import torch.nn.functional as F\n",
    "import tensorflow as tf"
   ]
  },
  {
   "cell_type": "code",
   "execution_count": 2,
   "metadata": {},
   "outputs": [],
   "source": [
    "import gym\n",
    "from functools import reduce\n",
    "from collections import deque, defaultdict"
   ]
  },
  {
   "cell_type": "code",
   "execution_count": 3,
   "metadata": {
    "id": "GfudJfnDmH06"
   },
   "outputs": [],
   "source": [
    "import qiskit\n",
    "import numpy as np\n",
    "import matplotlib.pyplot as plt\n",
    "import math, random, time, itertools\n",
    "from qiskit import QuantumCircuit, QuantumRegister, ClassicalRegister\n",
    "from qiskit.quantum_info.operators import Operator\n",
    "from qiskit.circuit import Parameter, ParameterVector\n",
    "from tqdm.notebook import tqdm\n",
    "from qiskit.opflow import Z, X, I, StateFn, CircuitStateFn, SummedOp, CircuitOp\n",
    "from qiskit.opflow.gradients import Gradient, NaturalGradient, QFI, Hessian"
   ]
  },
  {
   "cell_type": "markdown",
   "metadata": {
    "id": "jySdpQf_zuiE"
   },
   "source": [
    "# Build CIrucit"
   ]
  },
  {
   "cell_type": "code",
   "execution_count": 4,
   "metadata": {},
   "outputs": [],
   "source": [
    "def add_single_qubit_rotation(circuit, Paramvector, n_qubits):\n",
    "    for i in range(n_qubits):\n",
    "        circuit.rx(Paramvector[i], i)\n",
    "        circuit.ry(Paramvector[i], i)\n",
    "        circuit.rz(Paramvector[i], i)\n",
    "def add_encoding_layer(circuit, Paramvector, n_qubits):\n",
    "    for i in range(n_qubits):\n",
    "        circuit.rx(Paramvector[i], i)\n",
    "def add_entangling_layer(circuit, n_qubits):\n",
    "    qubits = [i for i in range(n_qubits)]\n",
    "    for c in itertools.combinations(qubits, 2):\n",
    "        circuit.cz(c[0], c[1])"
   ]
  },
  {
   "cell_type": "code",
   "execution_count": 5,
   "metadata": {},
   "outputs": [],
   "source": [
    "def build_circuit(n_qubits, n_layers):\n",
    "    qr = QuantumRegister(n_qubits)\n",
    "    qc = QuantumCircuit(qr)\n",
    "    \n",
    "    param_rot = ParameterVector('Rot', 3*n_qubits*(n_layers+1))\n",
    "    param_enc = ParameterVector('Enc', n_qubits*n_layers)\n",
    "    \n",
    "    for l in range(n_layers):\n",
    "        # Variational + Encoding Layer\n",
    "        add_single_qubit_rotation(qc, param_rot[l*(3*n_qubits):(l+1)*(3*n_qubits)], n_qubits)\n",
    "        qc.barrier()\n",
    "        add_entangling_layer(qc, n_qubits)\n",
    "        qc.barrier()\n",
    "        # Encoding Layer\n",
    "        add_encoding_layer(qc, param_enc[l*n_qubits:(l+1)*n_qubits], n_qubits)\n",
    "        qc.barrier()\n",
    "    # Last Variational Layer\n",
    "    add_single_qubit_rotation(qc, param_rot[n_layers*(3*n_qubits):(n_layers+1)*(3*n_qubits)], n_qubits)\n",
    "    \n",
    "    return qc, param_rot, param_enc"
   ]
  },
  {
   "cell_type": "code",
   "execution_count": 6,
   "metadata": {},
   "outputs": [
    {
     "data": {
      "image/png": "[encoded data removed]",
      "text/plain": [
       "<Figure size 882.178x204.68 with 1 Axes>"
      ]
     },
     "execution_count": 6,
     "metadata": {},
     "output_type": "execute_result"
    }
   ],
   "source": [
    "def draw_example():\n",
    "    quantum_circuit, param_rot, param_enc = build_circuit(n_qubits=3, n_layers=1)\n",
    "    return quantum_circuit\n",
    "draw_example().draw('mpl')"
   ]
  },
  {
   "cell_type": "code",
   "execution_count": 30,
   "metadata": {},
   "outputs": [],
   "source": [
    "class PQC_with_DataReuploading(nn.Module):\n",
    "    def __init__(self, n_qubits, n_layers, output_dim, observables=None, activation='linear'):\n",
    "        super().__init__()\n",
    "        \n",
    "        self.n_qubits = n_qubits\n",
    "        self.n_layers = n_layers\n",
    "        self.output_dim = output_dim\n",
    "        self.activation = activation\n",
    "        \n",
    "        if observables == None:\n",
    "            self.observables = Z^n_qubits\n",
    "        else:\n",
    "            self.observables = observables\n",
    "        \n",
    "        # Build circuits / Parameter Vectors\n",
    "        self.circuit, self.rot_params, self.enc_params = build_circuit(self.n_qubits, self.n_layers)\n",
    "        self.len_rot_params = len(self.rot_params)\n",
    "        self.len_enc_params = len(self.enc_params)\n",
    "        \n",
    "        self.total_params = []\n",
    "        for p in self.rot_params:\n",
    "            self.total_params.append(p)\n",
    "        for p in self.enc_params:\n",
    "            self.total_params.append(p)\n",
    "        \n",
    "        # Initial Parameters for circuit\n",
    "        self.rot_param_vals = nn.Parameter(np.pi * torch.rand(len(self.rot_params)))\n",
    "        self.enc_param_vals = nn.Parameter(torch.ones(len(self.enc_params)))\n",
    "        \n",
    "        # Parameter for circuit output\n",
    "        self.w = nn.Parameter(nn.Parameter(torch.rand(self.output_dim)))\n",
    "        \n",
    "    def forward(self, inputs):\n",
    "        # Input: State values -> Need to insert into Encoding gates with scaling parameters(encoding params)\n",
    "        input_tiled = inputs.tile(self.n_layers)\n",
    "#         print(input_tiled)\n",
    "        input_scaled = self.enc_param_vals * input_tiled\n",
    "        input_params = input_scaled\n",
    "    \n",
    "        \n",
    "        # Make state fucntion & Get expectation value of observable\n",
    "        circ_psi = CircuitStateFn(primitive=self.circuit, coeff=1.)\n",
    "        expectation = ~ circ_psi @ self.observables @ circ_psi\n",
    "        \n",
    "        # Assignn Parameter values\n",
    "        value_dict = {}\n",
    "        for i, p in enumerate(self.rot_params):\n",
    "            value_dict[p] = self.rot_param_vals[i].item()\n",
    "        for i, p in enumerate(self.enc_params):\n",
    "            value_dict[p] = input_params[i].detach().item()\n",
    "            \n",
    "        # Final expectation value\n",
    "        expectation_val = expectation.assign_parameters(value_dict).eval().real\n",
    "        action_exp = torch.tensor(expectation_val) * self.w\n",
    "        action_prob = F.softmax(action_exp, dim=0)\n",
    "        \n",
    "        return action_prob\n",
    "    \n",
    "    def get_grad(self, inputs):\n",
    "        input_tiled = inputs.tile(self.n_layers)\n",
    "        input_scaled = self.enc_param_vals * input_tiled\n",
    "        input_params = input_scaled\n",
    "        \n",
    "        value_dict = {}\n",
    "        for i, p in enumerate(self.rot_params):\n",
    "            value_dict[p] = self.rot_param_vals[i].item()\n",
    "        for i, p in enumerate(self.enc_params):\n",
    "            value_dict[p] = input_params[i].detach().item()\n",
    "        \n",
    "        psi = CircuitStateFn(primitive=self.circuit, coeff=1.)\n",
    "        op = ~StateFn(self.observables) @ psi\n",
    "        grad = Gradient(grad_method='param_shift').convert(operator=op, params=self.total_params)\n",
    "#         grad = Gradient(grad_method='fin_diff').convert(operator=op, params=self.total_params)\n",
    "        grad_val = grad.assign_parameters(value_dict).eval()\n",
    "        rot_grad = torch.tensor([grad_val[i].real for i in range(self.len_rot_params)])\n",
    "        enc_grad = torch.tensor([grad_val[self.len_rot_params + i].real for i in range(self.len_enc_params)])\n",
    "        \n",
    "        expectation = ~ psi @ self.observables @ psi\n",
    "        expectation_val = expectation.assign_parameters(value_dict).eval().real\n",
    "        w_grad = torch.tensor([float(expectation_val)*self.w[i] for i in range(len(self.w))])\n",
    "        return rot_grad, enc_grad, w_grad\n",
    "    \n",
    "    \n",
    "    def get_grad2(self, inputs):\n",
    "        input_tiled = inputs.tile(self.n_layers)\n",
    "        input_scaled = self.enc_param_vals * input_tiled\n",
    "        input_params = input_scaled\n",
    "            \n",
    "        circ_psi = CircuitStateFn(primitive=self.circuit, coeff=1.)\n",
    "        expectation = ~ circ_psi @ self.observables @ circ_psi\n",
    "                \n",
    "        value_dict = {}\n",
    "        for i, p in enumerate(self.rot_params):\n",
    "            value_dict[p] = self.rot_param_vals[i].item()\n",
    "        for i, p in enumerate(self.enc_params):\n",
    "            value_dict[p] = input_params[i].detach().item()\n",
    "        \n",
    "        rot_grad = []\n",
    "        for idx in range(self.len_rot_params):\n",
    "\n",
    "            value_dict[self.rot_params[idx]] += np.pi/2\n",
    "            expectation_plus = expectation.assign_parameters(value_dict).eval().real\n",
    "            value_dict[self.rot_params[idx]] -= np.pi\n",
    "            expectation_minus = expectation.assign_parameters(value_dict).eval().real\n",
    "            rot_grad.append(0.5*(expectation_plus - expectation_minus))\n",
    "        \n",
    "        value_dict[self.rot_params[idx]] += np.pi/2\n",
    "        \n",
    "        enc_grad = []\n",
    "        for idx in range(self.len_enc_params):\n",
    "            value_dict = {}\n",
    "            for i, p in enumerate(self.rot_params):\n",
    "                value_dict[p] = self.rot_param_vals[i].item()\n",
    "            for i, p in enumerate(self.enc_params):\n",
    "                value_dict[p] = input_params[i].detach().item()\n",
    "\n",
    "            value_dict[self.enc_params[idx]] += np.pi/2\n",
    "            expectation_plus = expectation.assign_parameters(value_dict).eval().real\n",
    "            value_dict[self.enc_params[idx]] -= np.pi\n",
    "            expectation_minus = expectation.assign_parameters(value_dict).eval().real\n",
    "            enc_grad.append(0.5*(expectation_plus - expectation_minus))\n",
    "        \n",
    "        value_dict[self.enc_params[idx]] += np.pi/2\n",
    "        \n",
    "        expectation = expectation.assign_parameters(value_dict).eval().real\n",
    "        w_grad = torch.tensor([float(expectation)*self.w[i] for i in range(len(self.w))])\n",
    "        \n",
    "        return torch.tensor(rot_grad), torch.tensor(enc_grad), w_grad"
   ]
  },
  {
   "cell_type": "code",
   "execution_count": 31,
   "metadata": {},
   "outputs": [],
   "source": [
    "policy = PQC_with_DataReuploading(n_qubits=4, n_layers=1, output_dim=2)"
   ]
  },
  {
   "cell_type": "code",
   "execution_count": 32,
   "metadata": {},
   "outputs": [
    {
     "data": {
      "image/png": "[encoded data removed]",
      "text/plain": [
       "<Figure size 1102.74x264.88 with 1 Axes>"
      ]
     },
     "execution_count": 32,
     "metadata": {},
     "output_type": "execute_result"
    }
   ],
   "source": [
    "policy.circuit.draw('mpl')"
   ]
  },
  {
   "cell_type": "code",
   "execution_count": 33,
   "metadata": {},
   "outputs": [],
   "source": [
    "inputs = torch.tensor([0.5,0.5,0.5,0.5])"
   ]
  },
  {
   "cell_type": "code",
   "execution_count": 36,
   "metadata": {},
   "outputs": [
    {
     "data": {
      "text/plain": [
       "(tensor([ 0.1495, -0.1413, -0.6071, -0.0181,  0.0000,  0.0000,  0.0000,  0.0000,\n",
       "          0.0000,  0.0000,  0.0000,  0.0000,  0.3320,  0.2735,  0.2708,  0.0703,\n",
       "          0.0000,  0.0000,  0.0000,  0.0000,  0.0000,  0.0000,  0.0000,  0.0000]),\n",
       " tensor([ 0.1202,  0.0711,  0.0139, -0.0292]),\n",
       " tensor([0.0928, 0.0277]))"
      ]
     },
     "execution_count": 36,
     "metadata": {},
     "output_type": "execute_result"
    }
   ],
   "source": [
    "policy.get_grad(inputs)"
   ]
  },
  {
   "cell_type": "code",
   "execution_count": 37,
   "metadata": {},
   "outputs": [
    {
     "data": {
      "text/plain": [
       "(tensor([ 0.0347, -0.0909, -0.0730, -0.1204,  0.0000,  0.0000,  0.0000,  0.0000,\n",
       "          0.0000,  0.0000,  0.0000,  0.0000, -0.0118, -0.0760, -0.0010, -0.0352,\n",
       "          0.0000,  0.0000,  0.0000,  0.0000,  0.0000,  0.0000,  0.0000,  0.0000],\n",
       "        dtype=torch.float64),\n",
       " tensor([ 0.1202,  0.0711,  0.0139, -0.0292], dtype=torch.float64),\n",
       " tensor([0.0928, 0.0277]))"
      ]
     },
     "execution_count": 37,
     "metadata": {},
     "output_type": "execute_result"
    }
   ],
   "source": [
    "policy.get_grad2(inputs)"
   ]
  },
  {
   "cell_type": "markdown",
   "metadata": {},
   "source": [
    "# Make Quantum Agent"
   ]
  },
  {
   "cell_type": "code",
   "execution_count": 38,
   "metadata": {},
   "outputs": [],
   "source": [
    "class QuantumAgent():\n",
    "    def __init__(self, input_state_dim, n_actions, n_layers=1):\n",
    "        self.policy = PQC_with_DataReuploading(n_qubits=input_state_dim, n_layers=n_layers, \n",
    "                                               output_dim=n_actions, observables=None,\n",
    "                                               activation='linear')\n",
    "        self.n_layers = n_layers\n",
    "        self.variational_optim = torch.optim.Adam([self.policy.rot_param_vals], lr=0.01)\n",
    "        self.encoding_optim = torch.optim.Adam([self.policy.enc_param_vals], lr=0.01)\n",
    "        self.weight_optim = torch.optim.Adam([self.policy.w], lr=0.001)\n",
    "        \n",
    "        self.optims = [self.variational_optim, self.encoding_optim, self.weight_optim]\n",
    "        \n",
    "    def get_actions(self, input_state):\n",
    "        return self.policy.forward(input_state)\n",
    "    \n",
    "    def update_policy(self, states, id_action_pairs, returns, action_probs, batch_size):\n",
    "        rot_gradient, enc_gradient, w_gradient = [], [], []\n",
    "        for s in states:\n",
    "            r_grad, e_grad, w_grad = self.policy.get_grad2(s)\n",
    "            rot_gradient.append(np.array(r_grad))\n",
    "            enc_gradient.append(np.array(e_grad))\n",
    "            w_gradient.append(np.array(w_grad))\n",
    "        \n",
    "        rot_gradient = torch.from_numpy(np.array(rot_gradient))\n",
    "        enc_gradient = torch.from_numpy(np.array(enc_gradient))\n",
    "        w_gradient = torch.from_numpy(np.array(w_gradient))\n",
    "        \n",
    "        p_actions = torch.tensor([action_probs[id_action_pairs[i][0], id_action_pairs[i][1]] for i in range(action_probs.shape[0])])\n",
    "        action_idxs = id_action_pairs[:,1]\n",
    "        \n",
    "        r_grad, e_grad, w_grad = torch.zeros(rot_gradient.shape[1]), torch.zeros(enc_gradient.shape[1]), torch.zeros(w_gradient.shape[1])\n",
    "        for i in range(len(states)):\n",
    "            r_grad += returns[i] * (rot_gradient[i]*self.policy.w[action_idxs[i]] \n",
    "                                    - torch.sum(p_actions[i]*self.policy.w)*rot_gradient[i])\n",
    "   \n",
    "            input_scaled = self.policy.enc_param_vals * states[i].tile(self.n_layers)\n",
    "            e_grad +=  returns[i] * (enc_gradient[i]*self.policy.w[action_idxs[i]] \n",
    "                                     - input_scaled * torch.sum(p_actions[i]*self.policy.w)*enc_gradient[i])\n",
    "            \n",
    "            w_grad += returns[i] * (w_gradient[i]*self.policy.w[action_idxs[i]] \n",
    "                                    - torch.sum(p_actions[i]*self.policy.w)*w_gradient[i])\n",
    "        \n",
    "        for opt in self.optims:\n",
    "            opt.zero_grad()\n",
    "        \n",
    "        self.policy.rot_param_vals.grad = r_grad / batch_size\n",
    "        self.policy.enc_param_vals.grad = e_grad / batch_size\n",
    "        self.policy.w.grad = w_grad / batch_size\n",
    "                \n",
    "        self.variational_optim.step()\n",
    "        self.encoding_optim.step()\n",
    "        self.weight_optim.step()\n",
    "        \n",
    "#     def update_policy(self, states, id_action_pairs, returns, action_probs, batch_size):\n",
    "#         rot_gradient, enc_gradient, w_gradient = [], [], []\n",
    "#         for s in states:\n",
    "#             r_grad, e_grad, w_grad = self.policy.get_grad(s)\n",
    "#             rot_gradient.append(np.array(r_grad))\n",
    "#             enc_gradient.append(np.array(e_grad))\n",
    "#             w_gradient.append(np.array(w_grad))\n",
    "#         rot_gradient = torch.mean(torch.from_numpy(np.array(rot_gradient)), dim=0)\n",
    "#         enc_gradient = torch.mean(torch.from_numpy(np.array(enc_gradient)), dim=0)\n",
    "#         w_gradient = torch.mean(torch.from_numpy(np.array(w_gradient)), dim=0)\n",
    "        \n",
    "#         p_actions = torch.tensor([action_probs[id_action_pairs[i][0], id_action_pairs[i][1]] for i in range(action_probs.shape[0])])\n",
    "#         log_probs = torch.log(p_actions)\n",
    "#         loss = torch.sum(-log_probs * returns) / batch_size\n",
    "        \n",
    "#         for opt in self.optims:\n",
    "#             opt.zero_grad()\n",
    "        \n",
    "#         self.policy.rot_param_vals.grad = loss * rot_gradient\n",
    "#         self.policy.enc_param_vals.grad = loss * enc_gradient\n",
    "#         self.policy.w.grad = loss * w_gradient\n",
    "                \n",
    "#         self.variational_optim.step()\n",
    "#         self.encoding_optim.step()\n",
    "#         self.weight_optim.step()"
   ]
  },
  {
   "cell_type": "code",
   "execution_count": 41,
   "metadata": {},
   "outputs": [],
   "source": [
    "n_qubits = 4 # Dimension of the state vectors in CartPole\n",
    "n_layers = 1\n",
    "n_actions = 2 # Number of actions in CartPole\n",
    "agent = QuantumAgent(input_state_dim = n_qubits, n_actions=n_actions, n_layers=n_layers)"
   ]
  },
  {
   "cell_type": "markdown",
   "metadata": {},
   "source": [
    "# Run Episodes and Update Policy"
   ]
  },
  {
   "cell_type": "code",
   "execution_count": 42,
   "metadata": {},
   "outputs": [],
   "source": [
    "def gather_episodes(state_bounds, n_actions, agent, n_episodes, env_name):\n",
    "    \"\"\"Interact with environment in batched fashion.\"\"\"\n",
    "\n",
    "    trajectories = [defaultdict(list) for _ in range(n_episodes)]\n",
    "    envs = [gym.make(env_name) for _ in range(n_episodes)]\n",
    "\n",
    "    done = [False for _ in range(n_episodes)]\n",
    "    states = [e.reset() for e in envs]\n",
    "\n",
    "    while not all(done):\n",
    "        unfinished_ids = [i for i in range(n_episodes) if not done[i]]\n",
    "        normalized_states = [s/state_bounds for i, s in enumerate(states) if not done[i]]\n",
    "\n",
    "        for i, state in zip(unfinished_ids, normalized_states):\n",
    "            trajectories[i]['states'].append(state)\n",
    "\n",
    "        states = torch.from_numpy(np.array(normalized_states))\n",
    "        action_probs = torch.from_numpy(np.array([agent.get_actions(states[i]).detach().numpy() for i in range(len(states))]))\n",
    "\n",
    "        # Store action and transition all environments to the next state\n",
    "        states = [None for i in range(n_episodes)]\n",
    "        for i, action_prob in zip(unfinished_ids, action_probs.numpy()):\n",
    "            action = np.random.choice(n_actions, p=action_prob)\n",
    "            states[i], reward, done[i], _ = envs[i].step(action)\n",
    "            trajectories[i]['actions'].append(action)\n",
    "            trajectories[i]['rewards'].append(reward)\n",
    "            trajectories[i]['action probs'].append(action_prob)\n",
    "\n",
    "    return trajectories\n",
    "\n",
    "def compute_returns(rewards_history, gamma):\n",
    "    \"\"\"Compute discounted returns with discount factor `gamma`.\"\"\"\n",
    "    returns = []\n",
    "    discounted_sum = 0\n",
    "    for r in rewards_history[::-1]:\n",
    "        discounted_sum = r + gamma * discounted_sum\n",
    "        returns.insert(0, discounted_sum)\n",
    "\n",
    "    # Normalize them for faster and more stable learning\n",
    "    returns = np.array(returns)\n",
    "    returns = (returns - np.mean(returns)) / (np.std(returns) + 1e-8)\n",
    "    returns = returns.tolist()\n",
    "\n",
    "    return returns"
   ]
  },
  {
   "cell_type": "code",
   "execution_count": 43,
   "metadata": {},
   "outputs": [],
   "source": [
    "env_name = \"CartPole-v1\"\n",
    "state_bounds = np.array([2.4, 2.5, 0.21, 2.5])\n",
    "gamma = 1\n",
    "batch_size = 1\n",
    "n_episodes = 200"
   ]
  },
  {
   "cell_type": "code",
   "execution_count": null,
   "metadata": {},
   "outputs": [
    {
     "data": {
      "application/vnd.jupyter.widget-view+json": {
       "model_id": "925c70e8c7864bc79ae5586ffc20497d",
       "version_major": 2,
       "version_minor": 0
      },
      "text/plain": [
       "  0%|          | 0/200 [00:00<?, ?it/s]"
      ]
     },
     "metadata": {},
     "output_type": "display_data"
    },
    {
     "name": "stdout",
     "output_type": "stream",
     "text": [
      "Finished episode 1 Average rewards:  22.0\n",
      "Finished episode 2 Average rewards:  32.0\n"
     ]
    }
   ],
   "source": [
    "# Start training the agent\n",
    "episode_reward_history = []\n",
    "for batch in tqdm(range(n_episodes // batch_size)):\n",
    "    # Gather episodes\n",
    "    episodes = gather_episodes(state_bounds, n_actions, agent, batch_size, env_name)\n",
    "\n",
    "    # Group states, actions and returns in numpy arrays\n",
    "    states = torch.from_numpy(np.concatenate([ep['states'] for ep in episodes]))\n",
    "    actions = torch.from_numpy(np.concatenate([ep['actions'] for ep in episodes]))\n",
    "    action_probs = torch.from_numpy(np.concatenate([ep['action probs'] for ep in episodes]))\n",
    "    rewards = [ep['rewards'] for ep in episodes]\n",
    "    returns = np.concatenate([compute_returns(ep_rwds, gamma) for ep_rwds in rewards])\n",
    "    returns = torch.from_numpy(np.array(returns, dtype=np.float32))\n",
    "\n",
    "    id_action_pairs = torch.from_numpy(np.array([[i, a] for i, a in enumerate(actions)]))\n",
    "\n",
    "    # Update model parameters.\n",
    "    agent.update_policy(states, id_action_pairs, returns, action_probs, batch_size)\n",
    "\n",
    "    # Store collected rewards\n",
    "    for ep_rwds in rewards:\n",
    "        episode_reward_history.append(np.sum(ep_rwds))\n",
    "\n",
    "    avg_rewards = np.mean(episode_reward_history[-batch_size:])\n",
    "\n",
    "    print('Finished episode', (batch + 1) * batch_size,\n",
    "          'Average rewards: ', avg_rewards)\n",
    "\n",
    "    if avg_rewards >= 500.0:\n",
    "        break"
   ]
  },
  {
   "cell_type": "code",
   "execution_count": null,
   "metadata": {},
   "outputs": [],
   "source": []
  }
 ],
 "metadata": {
  "colab": {
   "authorship_tag": "ABX9TyNE3QY8UA5xCDFR4Ht9tSPe",
   "collapsed_sections": [
    "ksJVcTLxzskm",
    "jySdpQf_zuiE",
    "MIKgmnTWM8yz",
    "eLm2LW4zBqPo"
   ],
   "name": "QuantumCircuitLearning.ipynb",
   "provenance": []
  },
  "kernelspec": {
   "display_name": "Python 3",
   "language": "python",
   "name": "python3"
  },
  "language_info": {
   "codemirror_mode": {
    "name": "ipython",
    "version": 3
   },
   "file_extension": ".py",
   "mimetype": "text/x-python",
   "name": "python",
   "nbconvert_exporter": "python",
   "pygments_lexer": "ipython3",
   "version": "3.8.8"
  },
  "widgets": {
   "application/vnd.jupyter.widget-state+json": {
    "1b23efbb8db748a2af8554186cf2a3d8": {
     "model_module": "@jupyter-widgets/base",
     "model_module_version": "1.2.0",
     "model_name": "LayoutModel",
     "state": {
      "_model_module": "@jupyter-widgets/base",
      "_model_module_version": "1.2.0",
      "_model_name": "LayoutModel",
      "_view_count": null,
      "_view_module": "@jupyter-widgets/base",
      "_view_module_version": "1.2.0",
      "_view_name": "LayoutView",
      "align_content": null,
      "align_items": null,
      "align_self": null,
      "border": null,
      "bottom": null,
      "display": null,
      "flex": null,
      "flex_flow": null,
      "grid_area": null,
      "grid_auto_columns": null,
      "grid_auto_flow": null,
      "grid_auto_rows": null,
      "grid_column": null,
      "grid_gap": null,
      "grid_row": null,
      "grid_template_areas": null,
      "grid_template_columns": null,
      "grid_template_rows": null,
      "height": null,
      "justify_content": null,
      "justify_items": null,
      "left": null,
      "margin": null,
      "max_height": null,
      "max_width": null,
      "min_height": null,
      "min_width": null,
      "object_fit": null,
      "object_position": null,
      "order": null,
      "overflow": null,
      "overflow_x": null,
      "overflow_y": null,
      "padding": null,
      "right": null,
      "top": null,
      "visibility": null,
      "width": null
     }
    },
    "235d4532e52e4aadbc6c049c0c7369b3": {
     "model_module": "@jupyter-widgets/base",
     "model_module_version": "1.2.0",
     "model_name": "LayoutModel",
     "state": {
      "_model_module": "@jupyter-widgets/base",
      "_model_module_version": "1.2.0",
      "_model_name": "LayoutModel",
      "_view_count": null,
      "_view_module": "@jupyter-widgets/base",
      "_view_module_version": "1.2.0",
      "_view_name": "LayoutView",
      "align_content": null,
      "align_items": null,
      "align_self": null,
      "border": null,
      "bottom": null,
      "display": null,
      "flex": null,
      "flex_flow": null,
      "grid_area": null,
      "grid_auto_columns": null,
      "grid_auto_flow": null,
      "grid_auto_rows": null,
      "grid_column": null,
      "grid_gap": null,
      "grid_row": null,
      "grid_template_areas": null,
      "grid_template_columns": null,
      "grid_template_rows": null,
      "height": null,
      "justify_content": null,
      "justify_items": null,
      "left": null,
      "margin": null,
      "max_height": null,
      "max_width": null,
      "min_height": null,
      "min_width": null,
      "object_fit": null,
      "object_position": null,
      "order": null,
      "overflow": null,
      "overflow_x": null,
      "overflow_y": null,
      "padding": null,
      "right": null,
      "top": null,
      "visibility": null,
      "width": null
     }
    },
    "25885ff5cc014bafa5442805d676c0be": {
     "model_module": "@jupyter-widgets/controls",
     "model_module_version": "1.5.0",
     "model_name": "FloatProgressModel",
     "state": {
      "_dom_classes": [],
      "_model_module": "@jupyter-widgets/controls",
      "_model_module_version": "1.5.0",
      "_model_name": "FloatProgressModel",
      "_view_count": null,
      "_view_module": "@jupyter-widgets/controls",
      "_view_module_version": "1.5.0",
      "_view_name": "ProgressView",
      "bar_style": "success",
      "description": "100%",
      "description_tooltip": null,
      "layout": "IPY_MODEL_235d4532e52e4aadbc6c049c0c7369b3",
      "max": 50,
      "min": 0,
      "orientation": "horizontal",
      "style": "IPY_MODEL_4ede1074ee2f496ab3d864be52157d03",
      "value": 50
     }
    },
    "40ae390ed75a46f292ffc969fdd0509e": {
     "model_module": "@jupyter-widgets/controls",
     "model_module_version": "1.5.0",
     "model_name": "DescriptionStyleModel",
     "state": {
      "_model_module": "@jupyter-widgets/controls",
      "_model_module_version": "1.5.0",
      "_model_name": "DescriptionStyleModel",
      "_view_count": null,
      "_view_module": "@jupyter-widgets/base",
      "_view_module_version": "1.2.0",
      "_view_name": "StyleView",
      "description_width": ""
     }
    },
    "4ede1074ee2f496ab3d864be52157d03": {
     "model_module": "@jupyter-widgets/controls",
     "model_module_version": "1.5.0",
     "model_name": "ProgressStyleModel",
     "state": {
      "_model_module": "@jupyter-widgets/controls",
      "_model_module_version": "1.5.0",
      "_model_name": "ProgressStyleModel",
      "_view_count": null,
      "_view_module": "@jupyter-widgets/base",
      "_view_module_version": "1.2.0",
      "_view_name": "StyleView",
      "bar_color": null,
      "description_width": "initial"
     }
    },
    "68c55b17e042416c91105f585c6f622a": {
     "model_module": "@jupyter-widgets/controls",
     "model_module_version": "1.5.0",
     "model_name": "HTMLModel",
     "state": {
      "_dom_classes": [],
      "_model_module": "@jupyter-widgets/controls",
      "_model_module_version": "1.5.0",
      "_model_name": "HTMLModel",
      "_view_count": null,
      "_view_module": "@jupyter-widgets/controls",
      "_view_module_version": "1.5.0",
      "_view_name": "HTMLView",
      "description": "",
      "description_tooltip": null,
      "layout": "IPY_MODEL_ec14bbc210b743f085734c3bf858fd72",
      "placeholder": "​",
      "style": "IPY_MODEL_40ae390ed75a46f292ffc969fdd0509e",
      "value": " 50/50 [11:53&lt;00:00, 14.28s/it]"
     }
    },
    "cc511557b8a54d408c9d2ddcaa7aa7dc": {
     "model_module": "@jupyter-widgets/controls",
     "model_module_version": "1.5.0",
     "model_name": "HBoxModel",
     "state": {
      "_dom_classes": [],
      "_model_module": "@jupyter-widgets/controls",
      "_model_module_version": "1.5.0",
      "_model_name": "HBoxModel",
      "_view_count": null,
      "_view_module": "@jupyter-widgets/controls",
      "_view_module_version": "1.5.0",
      "_view_name": "HBoxView",
      "box_style": "",
      "children": [
       "IPY_MODEL_25885ff5cc014bafa5442805d676c0be",
       "IPY_MODEL_68c55b17e042416c91105f585c6f622a"
      ],
      "layout": "IPY_MODEL_1b23efbb8db748a2af8554186cf2a3d8"
     }
    },
    "ec14bbc210b743f085734c3bf858fd72": {
     "model_module": "@jupyter-widgets/base",
     "model_module_version": "1.2.0",
     "model_name": "LayoutModel",
     "state": {
      "_model_module": "@jupyter-widgets/base",
      "_model_module_version": "1.2.0",
      "_model_name": "LayoutModel",
      "_view_count": null,
      "_view_module": "@jupyter-widgets/base",
      "_view_module_version": "1.2.0",
      "_view_name": "LayoutView",
      "align_content": null,
      "align_items": null,
      "align_self": null,
      "border": null,
      "bottom": null,
      "display": null,
      "flex": null,
      "flex_flow": null,
      "grid_area": null,
      "grid_auto_columns": null,
      "grid_auto_flow": null,
      "grid_auto_rows": null,
      "grid_column": null,
      "grid_gap": null,
      "grid_row": null,
      "grid_template_areas": null,
      "grid_template_columns": null,
      "grid_template_rows": null,
      "height": null,
      "justify_content": null,
      "justify_items": null,
      "left": null,
      "margin": null,
      "max_height": null,
      "max_width": null,
      "min_height": null,
      "min_width": null,
      "object_fit": null,
      "object_position": null,
      "order": null,
      "overflow": null,
      "overflow_x": null,
      "overflow_y": null,
      "padding": null,
      "right": null,
      "top": null,
      "visibility": null,
      "width": null
     }
    }
   }
  }
 },
 "nbformat": 4,
 "nbformat_minor": 1
}
