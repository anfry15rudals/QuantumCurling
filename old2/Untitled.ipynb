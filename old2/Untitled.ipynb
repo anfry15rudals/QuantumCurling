{
 "cells": [
  {
   "cell_type": "code",
   "execution_count": 1,
   "id": "e3c829bc",
   "metadata": {},
   "outputs": [],
   "source": [
    "#General imports\n",
    "import numpy as np\n",
    "\n",
    "#Operator Imports\n",
    "from qiskit.opflow import Z, X, I, StateFn, CircuitStateFn, SummedOp\n",
    "from qiskit.opflow.gradients import Gradient, NaturalGradient, QFI, Hessian\n",
    "\n",
    "#Circuit imports\n",
    "from qiskit.circuit import QuantumCircuit, QuantumRegister, Parameter, ParameterVector, ParameterExpression\n",
    "from qiskit.circuit.library import EfficientSU2"
   ]
  },
  {
   "cell_type": "code",
   "execution_count": 2,
   "id": "9c31b32e",
   "metadata": {
    "scrolled": true
   },
   "outputs": [
    {
     "name": "stdout",
     "output_type": "stream",
     "text": [
      "ComposedOp([\n",
      "  OperatorMeasurement(2.0 * X\n",
      "  + 1.0 * Z),\n",
      "  CircuitStateFn(\n",
      "        ┌───┐┌───────┐┌───────┐\n",
      "  q0_0: ┤ H ├┤ Rz(a) ├┤ Rx(b) ├\n",
      "        └───┘└───────┘└───────┘\n",
      "  )\n",
      "])\n"
     ]
    }
   ],
   "source": [
    "# Instantiate the quantum state\n",
    "a = Parameter('a')\n",
    "b = Parameter('b')\n",
    "q = QuantumRegister(1)\n",
    "qc = QuantumCircuit(q)\n",
    "qc.h(q)\n",
    "qc.rz(a, q[0])\n",
    "qc.rx(b, q[0])\n",
    "\n",
    "# Instantiate the Hamiltonian observable\n",
    "H = (2 * X) + Z\n",
    "\n",
    "# Combine the Hamiltonian observable and the state\n",
    "op = ~StateFn(H) @ CircuitStateFn(primitive=qc, coeff=1.)\n",
    "\n",
    "# Print the operator corresponding to the expectation value\n",
    "print(op)"
   ]
  },
  {
   "cell_type": "code",
   "execution_count": 19,
   "id": "d48d0942",
   "metadata": {},
   "outputs": [
    {
     "name": "stdout",
     "output_type": "stream",
     "text": [
      "ZZZZ\n"
     ]
    }
   ],
   "source": [
    "print(H)"
   ]
  },
  {
   "cell_type": "code",
   "execution_count": 17,
   "id": "2911f1b0",
   "metadata": {},
   "outputs": [],
   "source": [
    "H = Z^Z^Z^Z"
   ]
  },
  {
   "cell_type": "code",
   "execution_count": null,
   "id": "802a7939",
   "metadata": {},
   "outputs": [],
   "source": [
    "op = ~StateFn(H) @ CircuitStateFn(primitive=qc, coeff=1.)"
   ]
  },
  {
   "cell_type": "code",
   "execution_count": 15,
   "id": "12baa3b1",
   "metadata": {},
   "outputs": [
    {
     "name": "stdout",
     "output_type": "stream",
     "text": [
      "ComposedOp([\n",
      "  OperatorMeasurement(ZZZZ),\n",
      "  CircuitStateFn(\n",
      "                              \n",
      "  q_0: ───────────────────────\n",
      "                              \n",
      "  q_1: ───────────────────────\n",
      "                              \n",
      "  q_2: ───────────────────────\n",
      "       ┌───┐┌───────┐┌───────┐\n",
      "  q_3: ┤ H ├┤ Rz(a) ├┤ Rx(b) ├\n",
      "       └───┘└───────┘└───────┘\n",
      "  )\n",
      "])\n"
     ]
    }
   ],
   "source": [
    "print(op)"
   ]
  },
  {
   "cell_type": "code",
   "execution_count": 8,
   "id": "3da09de9",
   "metadata": {},
   "outputs": [
    {
     "name": "stdout",
     "output_type": "stream",
     "text": [
      "ListOp([\n",
      "  SummedOp([\n",
      "    ComposedOp([\n",
      "      OperatorMeasurement(Z),\n",
      "      CircuitStateFn(\n",
      "            ┌───┐┌─────────────────────────┐┌───────┐┌───┐\n",
      "      q0_0: ┤ H ├┤ Rz(a + 1.5707963267949) ├┤ Rx(b) ├┤ H ├\n",
      "            └───┘└─────────────────────────┘└───────┘└───┘\n",
      "      )\n",
      "    ]),\n",
      "    -1.0 * ComposedOp([\n",
      "      OperatorMeasurement(Z),\n",
      "      CircuitStateFn(\n",
      "            ┌───┐┌─────────────────────────┐┌───────┐┌───┐\n",
      "      q0_0: ┤ H ├┤ Rz(a - 1.5707963267949) ├┤ Rx(b) ├┤ H ├\n",
      "            └───┘└─────────────────────────┘└───────┘└───┘\n",
      "      )\n",
      "    ]),\n",
      "    0.5 * ComposedOp([\n",
      "      OperatorMeasurement(Z),\n",
      "      CircuitStateFn(\n",
      "            ┌───┐┌─────────────────────────┐┌───────┐\n",
      "      q0_0: ┤ H ├┤ Rz(a + 1.5707963267949) ├┤ Rx(b) ├\n",
      "            └───┘└─────────────────────────┘└───────┘\n",
      "      )\n",
      "    ]),\n",
      "    -0.5 * ComposedOp([\n",
      "      OperatorMeasurement(Z),\n",
      "      CircuitStateFn(\n",
      "            ┌───┐┌─────────────────────────┐┌───────┐\n",
      "      q0_0: ┤ H ├┤ Rz(a - 1.5707963267949) ├┤ Rx(b) ├\n",
      "            └───┘└─────────────────────────┘└───────┘\n",
      "      )\n",
      "    ])\n",
      "  ]),\n",
      "  SummedOp([\n",
      "    ComposedOp([\n",
      "      OperatorMeasurement(Z),\n",
      "      CircuitStateFn(\n",
      "            ┌───┐┌───────┐┌─────────────────────────┐┌───┐\n",
      "      q0_0: ┤ H ├┤ Rz(a) ├┤ Rx(b + 1.5707963267949) ├┤ H ├\n",
      "            └───┘└───────┘└─────────────────────────┘└───┘\n",
      "      )\n",
      "    ]),\n",
      "    -1.0 * ComposedOp([\n",
      "      OperatorMeasurement(Z),\n",
      "      CircuitStateFn(\n",
      "            ┌───┐┌───────┐┌─────────────────────────┐┌───┐\n",
      "      q0_0: ┤ H ├┤ Rz(a) ├┤ Rx(b - 1.5707963267949) ├┤ H ├\n",
      "            └───┘└───────┘└─────────────────────────┘└───┘\n",
      "      )\n",
      "    ]),\n",
      "    0.5 * ComposedOp([\n",
      "      OperatorMeasurement(Z),\n",
      "      CircuitStateFn(\n",
      "            ┌───┐┌───────┐┌─────────────────────────┐\n",
      "      q0_0: ┤ H ├┤ Rz(a) ├┤ Rx(b + 1.5707963267949) ├\n",
      "            └───┘└───────┘└─────────────────────────┘\n",
      "      )\n",
      "    ]),\n",
      "    -0.5 * ComposedOp([\n",
      "      OperatorMeasurement(Z),\n",
      "      CircuitStateFn(\n",
      "            ┌───┐┌───────┐┌─────────────────────────┐\n",
      "      q0_0: ┤ H ├┤ Rz(a) ├┤ Rx(b - 1.5707963267949) ├\n",
      "            └───┘└───────┘└─────────────────────────┘\n",
      "      )\n",
      "    ])\n",
      "  ])\n",
      "])\n"
     ]
    }
   ],
   "source": [
    "params = [a, b]\n",
    "\n",
    "# Define the values to be assigned to the parameters\n",
    "value_dict = {a: np.pi / 4, b: np.pi}\n",
    "\n",
    "# Convert the operator and the gradient target params into the respective operator\n",
    "grad = Gradient().convert(operator = op, params = params)\n",
    "\n",
    "# Print the operator corresponding to the Gradient\n",
    "print(grad)"
   ]
  },
  {
   "cell_type": "code",
   "execution_count": 9,
   "id": "d70f2c39",
   "metadata": {},
   "outputs": [
    {
     "name": "stdout",
     "output_type": "stream",
     "text": [
      "Gradient [(-1.414213562373094+0j), (-0.7071067811865476+0j)]\n"
     ]
    }
   ],
   "source": [
    "# Assign the parameters and evaluate the gradient\n",
    "grad_result = grad.assign_parameters(value_dict).eval()\n",
    "print('Gradient', grad_result)"
   ]
  },
  {
   "cell_type": "code",
   "execution_count": 10,
   "id": "f2fef4f5",
   "metadata": {},
   "outputs": [
    {
     "name": "stdout",
     "output_type": "stream",
     "text": [
      "ListOp([\n",
      "  SummedOp([\n",
      "    ComposedOp([\n",
      "      OperatorMeasurement(Z),\n",
      "      CircuitStateFn(\n",
      "            ┌───┐┌─────────────────────────┐┌───────┐┌───┐\n",
      "      q0_0: ┤ H ├┤ Rz(a + 1.5707963267949) ├┤ Rx(b) ├┤ H ├\n",
      "            └───┘└─────────────────────────┘└───────┘└───┘\n",
      "      )\n",
      "    ]),\n",
      "    -1.0 * ComposedOp([\n",
      "      OperatorMeasurement(Z),\n",
      "      CircuitStateFn(\n",
      "            ┌───┐┌─────────────────────────┐┌───────┐┌───┐\n",
      "      q0_0: ┤ H ├┤ Rz(a - 1.5707963267949) ├┤ Rx(b) ├┤ H ├\n",
      "            └───┘└─────────────────────────┘└───────┘└───┘\n",
      "      )\n",
      "    ]),\n",
      "    0.5 * ComposedOp([\n",
      "      OperatorMeasurement(Z),\n",
      "      CircuitStateFn(\n",
      "            ┌───┐┌─────────────────────────┐┌───────┐\n",
      "      q0_0: ┤ H ├┤ Rz(a + 1.5707963267949) ├┤ Rx(b) ├\n",
      "            └───┘└─────────────────────────┘└───────┘\n",
      "      )\n",
      "    ]),\n",
      "    -0.5 * ComposedOp([\n",
      "      OperatorMeasurement(Z),\n",
      "      CircuitStateFn(\n",
      "            ┌───┐┌─────────────────────────┐┌───────┐\n",
      "      q0_0: ┤ H ├┤ Rz(a - 1.5707963267949) ├┤ Rx(b) ├\n",
      "            └───┘└─────────────────────────┘└───────┘\n",
      "      )\n",
      "    ])\n",
      "  ]),\n",
      "  SummedOp([\n",
      "    ComposedOp([\n",
      "      OperatorMeasurement(Z),\n",
      "      CircuitStateFn(\n",
      "            ┌───┐┌───────┐┌─────────────────────────┐┌───┐\n",
      "      q0_0: ┤ H ├┤ Rz(a) ├┤ Rx(b + 1.5707963267949) ├┤ H ├\n",
      "            └───┘└───────┘└─────────────────────────┘└───┘\n",
      "      )\n",
      "    ]),\n",
      "    -1.0 * ComposedOp([\n",
      "      OperatorMeasurement(Z),\n",
      "      CircuitStateFn(\n",
      "            ┌───┐┌───────┐┌─────────────────────────┐┌───┐\n",
      "      q0_0: ┤ H ├┤ Rz(a) ├┤ Rx(b - 1.5707963267949) ├┤ H ├\n",
      "            └───┘└───────┘└─────────────────────────┘└───┘\n",
      "      )\n",
      "    ]),\n",
      "    0.5 * ComposedOp([\n",
      "      OperatorMeasurement(Z),\n",
      "      CircuitStateFn(\n",
      "            ┌───┐┌───────┐┌─────────────────────────┐\n",
      "      q0_0: ┤ H ├┤ Rz(a) ├┤ Rx(b + 1.5707963267949) ├\n",
      "            └───┘└───────┘└─────────────────────────┘\n",
      "      )\n",
      "    ]),\n",
      "    -0.5 * ComposedOp([\n",
      "      OperatorMeasurement(Z),\n",
      "      CircuitStateFn(\n",
      "            ┌───┐┌───────┐┌─────────────────────────┐\n",
      "      q0_0: ┤ H ├┤ Rz(a) ├┤ Rx(b - 1.5707963267949) ├\n",
      "            └───┘└───────┘└─────────────────────────┘\n",
      "      )\n",
      "    ])\n",
      "  ])\n",
      "])\n",
      "State gradient computed with parameter shift [(-1.414213562373094+0j), (-0.7071067811865476+0j)]\n"
     ]
    }
   ],
   "source": [
    "# Convert the expectation value into an operator corresponding to the gradient w.r.t. the state parameters using \n",
    "# the parameter shift method.\n",
    "state_grad = Gradient(grad_method='param_shift').convert(operator=op, params=params)\n",
    "# Print the operator corresponding to the gradient\n",
    "print(state_grad)\n",
    "# Assign the parameters and evaluate the gradient\n",
    "state_grad_result = state_grad.assign_parameters(value_dict).eval()\n",
    "print('State gradient computed with parameter shift', state_grad_result)"
   ]
  },
  {
   "cell_type": "code",
   "execution_count": null,
   "id": "72d952c2",
   "metadata": {},
   "outputs": [],
   "source": []
  }
 ],
 "metadata": {
  "kernelspec": {
   "display_name": "Python 3",
   "language": "python",
   "name": "python3"
  },
  "language_info": {
   "codemirror_mode": {
    "name": "ipython",
    "version": 3
   },
   "file_extension": ".py",
   "mimetype": "text/x-python",
   "name": "python",
   "nbconvert_exporter": "python",
   "pygments_lexer": "ipython3",
   "version": "3.8.8"
  }
 },
 "nbformat": 4,
 "nbformat_minor": 5
}
