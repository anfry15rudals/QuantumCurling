{
 "cells": [
  {
   "cell_type": "markdown",
   "metadata": {
    "id": "ksJVcTLxzskm"
   },
   "source": [
    "# Import modules"
   ]
  },
  {
   "cell_type": "code",
   "execution_count": 1,
   "metadata": {},
   "outputs": [],
   "source": [
    "# import os\n",
    "# os.environ['KMP_DUPLICATE_LIB_OK']='True'"
   ]
  },
  {
   "cell_type": "code",
   "execution_count": 2,
   "metadata": {
    "id": "N8fPchWjlyM1"
   },
   "outputs": [],
   "source": [
    "import qiskit\n",
    "import pylatexenc\n",
    "import torch\n",
    "import torch.nn as nn\n",
    "import torch.nn.functional as F"
   ]
  },
  {
   "cell_type": "code",
   "execution_count": 3,
   "metadata": {},
   "outputs": [],
   "source": [
    "import gym\n",
    "from functools import reduce\n",
    "from collections import deque, defaultdict"
   ]
  },
  {
   "cell_type": "code",
   "execution_count": 4,
   "metadata": {
    "id": "GfudJfnDmH06"
   },
   "outputs": [],
   "source": [
    "import qiskit\n",
    "import numpy as np\n",
    "import matplotlib.pyplot as plt\n",
    "import math, random, time, itertools\n",
    "from qiskit import QuantumCircuit, QuantumRegister, ClassicalRegister, Aer\n",
    "from qiskit.quantum_info.operators import Operator\n",
    "from qiskit.circuit import Parameter, ParameterVector\n",
    "from tqdm.notebook import tqdm\n",
    "from qiskit.opflow import Z, X, I, StateFn, CircuitStateFn, SummedOp, CircuitOp, AerPauliExpectation\n",
    "from qiskit.opflow.gradients import Gradient, NaturalGradient, QFI, Hessian\n",
    "from qiskit_machine_learning.connectors import TorchConnector\n",
    "from qiskit_machine_learning.neural_networks import OpflowQNN\n",
    "from qiskit.utils import QuantumInstance, algorithm_globals"
   ]
  },
  {
   "cell_type": "code",
   "execution_count": 5,
   "metadata": {},
   "outputs": [],
   "source": [
    "from Curling import Curling\n",
    "from ansatz import build_circuit"
   ]
  },
  {
   "cell_type": "markdown",
   "metadata": {
    "id": "jySdpQf_zuiE"
   },
   "source": [
    "# Build CIrucit"
   ]
  },
  {
   "cell_type": "markdown",
   "metadata": {},
   "source": [
    "### Ansatz list\n",
    "- 'base'\n",
    "- 'hw_eff'\n",
    "- 'universal'\n",
    "- 'universal_encoding'"
   ]
  },
  {
   "cell_type": "code",
   "execution_count": 6,
   "metadata": {},
   "outputs": [
    {
     "data": {
      "image/png": "[encoded data removed]",
      "text/plain": [
       "<Figure size 1062.63x144.48 with 1 Axes>"
      ]
     },
     "execution_count": 6,
     "metadata": {},
     "output_type": "execute_result"
    }
   ],
   "source": [
    "def draw_example():\n",
    "    quantum_circuit, param_rot, param_enc = build_circuit(n_qubits=2, n_layers=1, opt='universal_encoding')\n",
    "    return quantum_circuit\n",
    "draw_example().draw('mpl')"
   ]
  },
  {
   "cell_type": "code",
   "execution_count": 7,
   "metadata": {},
   "outputs": [],
   "source": [
    "# circuit, rot_params, enc_params = build_circuit(n_qubits=2, n_layers=1)"
   ]
  },
  {
   "cell_type": "code",
   "execution_count": 8,
   "metadata": {},
   "outputs": [],
   "source": [
    "class PQC_with_DataReuploading(nn.Module):\n",
    "    def __init__(self, n_qubits, n_layers, output_dim, observables=None, ansatz='base', activation='linear'):\n",
    "        super().__init__()\n",
    "        \n",
    "        self.n_qubits = n_qubits\n",
    "        self.n_layers = n_layers\n",
    "        self.output_dim = output_dim\n",
    "        self.activation = activation\n",
    "        self.ansatz = ansatz\n",
    "        \n",
    "        if observables == None:\n",
    "            self.observables = Z^n_qubits\n",
    "        else:\n",
    "            self.observables = observables\n",
    "        \n",
    "        # Build circuits / Parameter Vectors\n",
    "        self.circuit, self.rot_params, self.enc_params = build_circuit(self.n_qubits, self.n_layers, ansatz)\n",
    "        self.len_rot_params = len(self.rot_params)\n",
    "        self.len_enc_params = len(self.enc_params)\n",
    "        \n",
    "        self.psi = CircuitStateFn(primitive=self.circuit, coeff=1.)\n",
    "        self.Op = ~StateFn(self.observables) @ self.psi\n",
    "        \n",
    "        # set method to calculcate expected values\n",
    "        expval = AerPauliExpectation()\n",
    "        # define gradient method\n",
    "        gradient = Gradient()\n",
    "        # define quantum instances (statevector and sample based)\n",
    "        qi_sv = QuantumInstance(Aer.get_backend(\"aer_simulator_statevector\"))\n",
    "        # we set shots to 10 as this will determine the number of samples later on.\n",
    "        qi_qasm = QuantumInstance(Aer.get_backend(\"aer_simulator\"), shots=1000)\n",
    "        \n",
    "        self.qnn = OpflowQNN(operator=self.Op, input_params=self.enc_params, weight_params=self.rot_params, \n",
    "                             exp_val=expval, gradient=gradient, quantum_instance=qi_sv, input_gradients=True)\n",
    "        \n",
    "        self.total_params = []\n",
    "        for p in self.rot_params:\n",
    "            self.total_params.append(p)\n",
    "        for p in self.enc_params:\n",
    "            self.total_params.append(p)\n",
    "        \n",
    "        # Initial Parameters for circuit\n",
    "#         self.rot_param_vals = nn.Parameter(2*np.pi * torch.rand(len(self.rot_params)))\n",
    "        self.rot_param_vals = nn.Parameter(2*np.pi * torch.rand(len(self.rot_params)))\n",
    "#         self.enc_param_vals = nn.Parameter(torch.ones(len(self.enc_params)))\n",
    "#         self.enc_param_vals  = nn.Parameter(nn.Parameter(torch.rand(len(self.enc_params))))\n",
    "        self.enc_param_vals  = nn.Parameter(torch.rand(len(self.enc_params)))\n",
    "        \n",
    "        # Parameter for circuit output\n",
    "#         self.w = nn.Parameter(nn.Parameter(torch.rand(self.output_dim)))\n",
    "        self.w = nn.Parameter(torch.tensor([-3,3], dtype=torch.float32))\n",
    "        \n",
    "    def forward(self, inputs):\n",
    "        input_tiled = self.get_input_tiled(inputs)\n",
    "        input_scaled = self.enc_param_vals * input_tiled\n",
    "        input_params = input_scaled\n",
    "    \n",
    "        expectation = self.qnn.forward(input_params.detach(), self.rot_param_vals.detach())\n",
    "        \n",
    "        action_exp = torch.tensor(expectation) * self.w\n",
    "        action_prob = F.softmax(action_exp, dim=1)\n",
    "        \n",
    "        return action_prob\n",
    "\n",
    "    def backward(self, inputs):\n",
    "        input_tiled = self.get_input_tiled(inputs)\n",
    "        input_scaled = self.enc_param_vals * input_tiled\n",
    "        input_params = input_scaled\n",
    "        expectation = self.qnn.forward(input_params.detach(), self.rot_param_vals.detach())\n",
    "        enc_grad, rot_grad = self.qnn.backward(input_params.detach(), self.rot_param_vals.detach())\n",
    "        w_grad = torch.tensor(expectation).tile(self.output_dim)\n",
    "        return torch.tensor(rot_grad.squeeze()), torch.tensor(enc_grad.squeeze()), w_grad\n",
    "    \n",
    "    def get_input_tiled(self, inputs):\n",
    "        # Input: State values -> Need to insert into Encoding gates with scaling parameters(encoding params)\n",
    "        if self.ansatz == 'universal_encoding' or self.ansatz == 'hw_eff':\n",
    "            input_tiled = inputs.tile(2)\n",
    "            input_tiled = input_tiled.tile(self.n_layers)\n",
    "        elif self.ansatz == 'universal':\n",
    "            input_tiled = torch.zeros((inputs.shape[0], inputs.shape[1]+1))\n",
    "            input_tiled[:,:2] = inputs\n",
    "            input_tiled[:,-1] = inputs[:,-1]\n",
    "        else:\n",
    "            input_tiled = inputs.tile(self.n_layers)\n",
    "        return input_tiled"
   ]
  },
  {
   "cell_type": "code",
   "execution_count": 9,
   "metadata": {},
   "outputs": [],
   "source": [
    "policy = PQC_with_DataReuploading(n_qubits=2, n_layers=1, output_dim=2, ansatz='universal_encoding')"
   ]
  },
  {
   "cell_type": "code",
   "execution_count": 10,
   "metadata": {},
   "outputs": [
    {
     "data": {
      "text/plain": [
       "PauliOp(Pauli('ZZ'), coeff=1.0)"
      ]
     },
     "execution_count": 10,
     "metadata": {},
     "output_type": "execute_result"
    }
   ],
   "source": [
    "policy.observables"
   ]
  },
  {
   "cell_type": "code",
   "execution_count": 11,
   "metadata": {},
   "outputs": [
    {
     "data": {
      "image/png": "[encoded data removed]",
      "text/plain": [
       "<Figure size 1062.78x144.48 with 1 Axes>"
      ]
     },
     "execution_count": 11,
     "metadata": {},
     "output_type": "execute_result"
    }
   ],
   "source": [
    "policy.circuit.draw('mpl')"
   ]
  },
  {
   "cell_type": "code",
   "execution_count": 12,
   "metadata": {},
   "outputs": [],
   "source": [
    "inputs = torch.rand((10,2))"
   ]
  },
  {
   "cell_type": "code",
   "execution_count": 13,
   "metadata": {},
   "outputs": [
    {
     "data": {
      "text/plain": [
       "Parameter containing:\n",
       "tensor([4.8736, 4.9417, 5.2612, 0.9583, 4.7422, 1.5997, 0.5153, 3.9301, 1.8548,\n",
       "        1.3169, 3.2643, 1.3562, 4.7265], requires_grad=True)"
      ]
     },
     "execution_count": 13,
     "metadata": {},
     "output_type": "execute_result"
    }
   ],
   "source": [
    "policy.rot_param_vals"
   ]
  },
  {
   "cell_type": "code",
   "execution_count": 14,
   "metadata": {},
   "outputs": [
    {
     "data": {
      "text/plain": [
       "Parameter containing:\n",
       "tensor([0.7510, 0.7433, 0.1279, 0.0824], requires_grad=True)"
      ]
     },
     "execution_count": 14,
     "metadata": {},
     "output_type": "execute_result"
    }
   ],
   "source": [
    "policy.enc_param_vals"
   ]
  },
  {
   "cell_type": "code",
   "execution_count": 15,
   "metadata": {},
   "outputs": [
    {
     "data": {
      "text/plain": [
       "Parameter containing:\n",
       "tensor([-3.,  3.], requires_grad=True)"
      ]
     },
     "execution_count": 15,
     "metadata": {},
     "output_type": "execute_result"
    }
   ],
   "source": [
    "policy.w"
   ]
  },
  {
   "cell_type": "code",
   "execution_count": 16,
   "metadata": {},
   "outputs": [
    {
     "data": {
      "text/plain": [
       "tensor([[0.9917, 0.0083],\n",
       "        [0.9859, 0.0141],\n",
       "        [0.9744, 0.0256],\n",
       "        [0.9916, 0.0084],\n",
       "        [0.9907, 0.0093],\n",
       "        [0.9835, 0.0165],\n",
       "        [0.9865, 0.0135],\n",
       "        [0.9883, 0.0117],\n",
       "        [0.9899, 0.0101],\n",
       "        [0.9817, 0.0183]], dtype=torch.float64, grad_fn=<SoftmaxBackward0>)"
      ]
     },
     "execution_count": 16,
     "metadata": {},
     "output_type": "execute_result"
    }
   ],
   "source": [
    "policy.forward(inputs)"
   ]
  },
  {
   "cell_type": "code",
   "execution_count": 17,
   "metadata": {},
   "outputs": [
    {
     "name": "stdout",
     "output_type": "stream",
     "text": [
      "1.443849802017212\n"
     ]
    }
   ],
   "source": [
    "s = time.time()\n",
    "a,b,c = policy.backward(inputs)\n",
    "print(time.time()-s)"
   ]
  },
  {
   "cell_type": "markdown",
   "metadata": {},
   "source": [
    "# Make Quantum Agent"
   ]
  },
  {
   "cell_type": "code",
   "execution_count": 72,
   "metadata": {},
   "outputs": [],
   "source": [
    "class QuantumAgent():\n",
    "    def __init__(self, input_state_dim, n_actions, n_layers=1, ansatz='base'):\n",
    "        self.policy = PQC_with_DataReuploading(n_qubits=input_state_dim, n_layers=n_layers, \n",
    "                                               output_dim=n_actions, observables=None, ansatz=ansatz,\n",
    "                                               activation='linear')\n",
    "        self.n_layers = n_layers\n",
    "#         self.variational_optim = torch.optim.Adam([self.policy.rot_param_vals], lr=0.1)\n",
    "#         self.encoding_optim = torch.optim.Adam([self.policy.enc_param_vals], lr=0.1)\n",
    "#         self.weight_optim = torch.optim.Adam([self.policy.w], lr=0.01)\n",
    "        \n",
    "        self.lr = 0.1\n",
    "        \n",
    "#         self.optims = [self.variational_optim, self.encoding_optim, self.weight_optim]\n",
    "        \n",
    "    def get_actions(self, input_state):\n",
    "        return self.policy.forward(input_state)\n",
    "    \n",
    "    def update_policy(self, states, id_action_pairs, returns, action_probs, batch_size):\n",
    "        r_grad, e_grad, w_grad = self.policy.backward(states)\n",
    "        \n",
    "        p_actions = torch.tensor([action_probs[id_action_pairs[i][0], id_action_pairs[i][1]] for i in range(action_probs.shape[0])])\n",
    "        p_actions = p_actions.reshape(p_actions.shape[0], -1)\n",
    "        action_idxs = id_action_pairs[:,1]\n",
    "        \n",
    "        returns = returns.reshape(returns.shape[0], -1)\n",
    "        action_weights = agent.policy.w.detach().numpy()[id_action_pairs[:,1]]\n",
    "        action_weights = action_weights[:,np.newaxis]\n",
    "        action_weights = torch.tensor(action_weights)\n",
    "        \n",
    "        w = agent.policy.w.tile(len(states)).reshape(len(states),-1)\n",
    "        \n",
    "        sum_action_weight = torch.sum((action_probs * w), dim=1)\n",
    "        \n",
    "        rot_grad = np.array([(returns[i] * ( action_weights[i] * r_grad[i] - sum_action_weight[i] * r_grad[i] )).detach().numpy() \n",
    "                    for i in range(len(returns))])\n",
    "        \n",
    "#         input_scaled = self.policy.enc_param_vals * self.policy.get_input_tiled(states)\n",
    "        input_scaled = self.policy.get_input_tiled(states)\n",
    "        enc_grad = returns * ( input_scaled * action_weights * e_grad \n",
    "                              - sum_action_weight.reshape((sum_action_weight.shape[0],-1)) * input_scaled * e_grad)\n",
    "        \n",
    "#         weight_grad = returns * ( w_grad * action_weights - torch.mean(p_actions * w) * w_grad)\n",
    "        \n",
    "        prev = self.policy.rot_param_vals.detach().numpy().copy()\n",
    "        prev1 = self.policy.enc_param_vals.detach().numpy().copy()\n",
    "#         prev2 = self.policy.w.detach().numpy().copy()\n",
    "        \n",
    "#         rot_update = (torch.mean(rot_grad.detach(), dim=0) / batch_size).type(torch.float32)\n",
    "#         enc_update = (torch.mean(enc_grad, dim=0).detach() / batch_size).type(torch.float32)\n",
    "#         w_update = (torch.mean(weight_grad, dim=0).detach() / batch_size).type(torch.float32)\n",
    "\n",
    "        rot_update = torch.sum(torch.from_numpy(rot_grad), dim=0) / batch_size\n",
    "        enc_update = torch.sum(enc_grad, dim=0) / batch_size\n",
    "#         w_update = torch.mean(weight_grad, dim=0) / batch_size\n",
    "        \n",
    "        with torch.no_grad():            \n",
    "            self.policy.rot_param_vals += self.lr*rot_update\n",
    "            self.policy.enc_param_vals += self.lr*enc_update\n",
    "#             self.policy.w += 5 * w_update\n",
    "\n",
    "#         self.policy.rot_param_vals.grad = -1*rot_update\n",
    "#         self.policy.enc_param_vals.grad = -1*enc_update\n",
    "#         self.policy.w.grad = -1*w_update\n",
    "                \n",
    "#         print(rot_update)\n",
    "#         print(enc_update)\n",
    "        \n",
    "#         self.variational_optim.step()\n",
    "#         self.encoding_optim.step()\n",
    "#         self.weight_optim.step()\n",
    "\n",
    "        print('rot updated')\n",
    "        print(self.policy.rot_param_vals.detach() - prev)\n",
    "#         print(rot_update)\n",
    "        print('enc updated')\n",
    "        print(self.policy.enc_param_vals.detach() - prev1)\n",
    "#         print(enc_update)\n",
    "#         print(self.policy.w.detach() - prev2)\n",
    "#         print(w_update)\n",
    "        \n",
    "#         print('w', self.policy.w)\n",
    "        \n",
    "#         with torch.no_grad():\n",
    "#             self.policy.rot_param_vals[self.policy.rot_param_vals > 2*np.pi] = 2*np.pi\n",
    "#             self.policy.enc_param_vals[self.policy.enc_param_vals > 2*np.pi] = 2*np.pi\n",
    "#             self.policy.rot_param_vals[self.policy.rot_param_vals < 0] = 0\n",
    "#             self.policy.enc_param_vals[self.policy.enc_param_vals < 0] = 0\n",
    "        "
   ]
  },
  {
   "cell_type": "code",
   "execution_count": 73,
   "metadata": {},
   "outputs": [
    {
     "name": "stdout",
     "output_type": "stream",
     "text": [
      "36\n"
     ]
    }
   ],
   "source": [
    "n_qubits = 4 # Dimension of Input\n",
    "n_layers = 2\n",
    "n_actions = 2 # Dimention of output\n",
    "agent = QuantumAgent(input_state_dim = n_qubits, n_actions=n_actions, n_layers=n_layers, ansatz='base')"
   ]
  },
  {
   "cell_type": "code",
   "execution_count": 74,
   "metadata": {},
   "outputs": [
    {
     "data": {
      "image/png": "[encoded data removed]",
      "text/plain": [
       "<Figure size 1644.54x565.88 with 1 Axes>"
      ]
     },
     "execution_count": 74,
     "metadata": {},
     "output_type": "execute_result"
    }
   ],
   "source": [
    "agent.policy.circuit.draw('mpl')"
   ]
  },
  {
   "cell_type": "markdown",
   "metadata": {},
   "source": [
    "# Run Episodes and Update Policy"
   ]
  },
  {
   "cell_type": "code",
   "execution_count": 75,
   "metadata": {},
   "outputs": [],
   "source": [
    "def gather_episodes(state_bounds, n_actions, agent, n_episodes, env_name):\n",
    "    \"\"\"Interact with environment in batched fashion.\"\"\"\n",
    "\n",
    "    trajectories = [defaultdict(list) for _ in range(n_episodes)]\n",
    "    if env_name == 'Curling':\n",
    "        envs = [Curling() for _ in range(n_episodes)]\n",
    "    else:\n",
    "        envs = [gym.make(env_name) for _ in range(n_episodes)]\n",
    "\n",
    "    done = [False for _ in range(n_episodes)]\n",
    "    states = [e.reset() for e in envs]\n",
    "\n",
    "    while not all(done):\n",
    "        unfinished_ids = [i for i in range(n_episodes) if not done[i]]\n",
    "        normalized_states = [s/state_bounds for i, s in enumerate(states) if not done[i]]\n",
    "\n",
    "        for i, state in zip(unfinished_ids, normalized_states):\n",
    "            trajectories[i]['states'].append(state)\n",
    "\n",
    "        states = torch.from_numpy(np.array(normalized_states))\n",
    "        action_probs = agent.get_actions(states)\n",
    "\n",
    "        # Store action and transition all environments to the next state\n",
    "        states = [None for i in range(n_episodes)]\n",
    "        for i, action_prob in zip(unfinished_ids, action_probs.detach().numpy()):\n",
    "            action = np.random.choice(n_actions, p=action_prob)\n",
    "            states[i], reward, done[i], _ = envs[i].step(action)\n",
    "            trajectories[i]['actions'].append(action)\n",
    "            trajectories[i]['rewards'].append(reward)\n",
    "            trajectories[i]['action probs'].append(action_prob)\n",
    "\n",
    "    return trajectories\n",
    "\n",
    "def compute_returns(rewards_history, gamma):\n",
    "    \"\"\"Compute discounted returns with discount factor `gamma`.\"\"\"\n",
    "    returns = []\n",
    "    discounted_sum = 0\n",
    "    for r in rewards_history[::-1]:\n",
    "        discounted_sum = r + gamma * discounted_sum\n",
    "        returns.insert(0, discounted_sum)\n",
    "\n",
    "    # Normalize them for faster and more stable learning\n",
    "    returns = np.array(returns)\n",
    "    returns = (returns - np.mean(returns)) / (np.std(returns) + 1e-8)\n",
    "    returns = returns.tolist()\n",
    "\n",
    "    return returns"
   ]
  },
  {
   "cell_type": "code",
   "execution_count": 76,
   "metadata": {},
   "outputs": [],
   "source": [
    "env_name = \"CartPole-v1\"\n",
    "# env_name = \"Curling\"\n",
    "if env_name == \"CartPole-v1\":\n",
    "    state_bounds = np.array([2.4, 2.5, 0.21, 2.5])\n",
    "elif env_name == 'Curling':\n",
    "    state_bounds = np.array([3, 1])\n",
    "gamma = 1\n",
    "batch_size = 2\n",
    "n_episodes = 200"
   ]
  },
  {
   "cell_type": "code",
   "execution_count": null,
   "metadata": {
    "scrolled": true
   },
   "outputs": [
    {
     "data": {
      "application/vnd.jupyter.widget-view+json": {
       "model_id": "03dd76768d2c4635afc7fc9c40bc59e4",
       "version_major": 2,
       "version_minor": 0
      },
      "text/plain": [
       "  0%|          | 0/100 [00:00<?, ?it/s]"
      ]
     },
     "metadata": {},
     "output_type": "display_data"
    },
    {
     "name": "stdout",
     "output_type": "stream",
     "text": [
      "14.0\n",
      "10.0\n",
      "rot updated\n",
      "tensor([-0.1006,  0.0093,  0.0893, -0.0533, -0.0121, -0.0547,  0.0039, -0.0223,\n",
      "        -0.0115, -0.0033, -0.0037,  0.0024, -0.0337, -0.0583, -0.0495, -0.0002,\n",
      "        -0.0684, -0.0014, -0.0636, -0.0073, -0.0474,  0.0016, -0.0498,  0.0564,\n",
      "        -0.0147,  0.0664,  0.0000, -0.0074,  0.0161,  0.0000, -0.0251, -0.0376,\n",
      "         0.0000, -0.0324, -0.1271,  0.0000])\n",
      "enc updated\n",
      "tensor([ 0.0003, -0.0045,  0.0078,  0.0427,  0.0038,  0.0142, -0.0004, -0.0173])\n",
      "[14.0, 10.0]\n",
      "Finished episode 2 Average rewards:  12.0\n",
      "15.0\n",
      "10.0\n",
      "rot updated\n",
      "tensor([ 0.0109,  0.0091, -0.0136, -0.0276, -0.0487, -0.0364,  0.0035, -0.0763,\n",
      "        -0.0294, -0.0197, -0.0254,  0.0140,  0.0101,  0.1250, -0.0521,  0.0124,\n",
      "         0.0023,  0.0243,  0.0580, -0.0091,  0.0648,  0.2742, -0.0225, -0.0559,\n",
      "        -0.1352,  0.0552,  0.0000, -0.0698,  0.0179,  0.0000,  0.0096,  0.0807,\n",
      "         0.0000, -0.0314,  0.0553,  0.0000])\n",
      "enc updated\n",
      "tensor([ 0.0006,  0.0028, -0.0389, -0.1141, -0.0002, -0.0155, -0.0063,  0.0093])\n",
      "[14.0, 10.0, 15.0, 10.0]\n",
      "Finished episode 4 Average rewards:  12.5\n",
      "Monitored episode 50 Average Monitored rewards:  9.94\n",
      "9.0\n",
      "11.0\n",
      "rot updated\n",
      "tensor([ 2.6538e-02, -8.1258e-03, -2.1531e-02,  1.3631e-02,  8.9874e-03,\n",
      "         1.5856e-02,  7.7724e-04,  2.3213e-02,  5.9981e-03, -4.8602e-02,\n",
      "        -8.0027e-03,  3.6451e-02,  2.7409e-02,  1.0262e-02,  1.0761e-02,\n",
      "         8.9469e-03,  2.6698e-02,  1.1861e-02,  4.1521e-02, -1.8253e-02,\n",
      "         2.1064e-02, -8.0294e-02,  1.6843e-02, -4.4096e-02,  4.1404e-02,\n",
      "        -7.7333e-03,  0.0000e+00, -1.9470e-03, -2.1793e-02,  0.0000e+00,\n",
      "         7.1526e-05,  2.6596e-02,  0.0000e+00,  2.7102e-02,  4.1665e-02,\n",
      "         0.0000e+00])\n",
      "enc updated\n",
      "tensor([-3.2604e-05,  7.4273e-04,  1.0495e-02,  3.6813e-02,  1.3514e-03,\n",
      "         1.2742e-03,  5.0183e-03, -7.5538e-03])\n",
      "[14.0, 10.0, 15.0, 10.0, 9.0, 11.0]\n",
      "Finished episode 6 Average rewards:  10.0\n",
      "11.0\n",
      "11.0\n",
      "rot updated\n",
      "tensor([ 1.8495e-02,  6.8516e-03, -1.9497e-02,  1.8029e-03, -4.0045e-03,\n",
      "         7.7605e-04, -4.1656e-03, -2.0012e-02, -2.2936e-03,  1.1070e-02,\n",
      "         6.4396e-03, -8.2877e-03,  2.2400e-02,  1.8360e-02,  3.2119e-03,\n",
      "         5.0259e-04,  1.1169e-02,  2.1687e-03,  1.8299e-02, -4.9114e-05,\n",
      "         1.6266e-02,  4.2064e-02, -7.3228e-03, -3.0429e-03,  6.7267e-03,\n",
      "        -3.3512e-03,  0.0000e+00, -5.8900e-03,  7.2384e-04,  0.0000e+00,\n",
      "         5.9934e-03,  1.4120e-02,  0.0000e+00, -5.5425e-03,  3.1012e-02,\n",
      "         0.0000e+00])\n",
      "enc updated\n",
      "tensor([ 0.0024, -0.0002, -0.0213, -0.0679,  0.0005, -0.0039, -0.0065,  0.0111])\n",
      "[14.0, 10.0, 15.0, 10.0, 9.0, 11.0, 11.0, 11.0]\n",
      "Finished episode 8 Average rewards:  11.0\n",
      "9.0\n",
      "10.0\n",
      "rot updated\n",
      "tensor([ 4.5938e-02,  1.8176e-02, -4.8625e-02, -2.1991e-02, -1.8290e-02,\n",
      "        -2.6331e-02,  6.3848e-04, -6.2083e-02, -1.8815e-02,  9.3651e-02,\n",
      "         1.8496e-02, -7.0489e-02,  4.4170e-02,  7.1636e-02, -6.6280e-05,\n",
      "        -3.2520e-03,  1.8120e-03,  3.8762e-03,  8.6862e-02,  3.7251e-02,\n",
      "         1.0670e-01,  2.1018e-01, -4.7325e-02,  6.7191e-03, -2.7631e-02,\n",
      "        -4.7310e-03,  0.0000e+00, -1.9540e-02,  6.1617e-03,  0.0000e+00,\n",
      "         4.1688e-02,  6.2626e-02,  0.0000e+00, -5.1933e-02,  1.0501e-01,\n",
      "         0.0000e+00])\n",
      "enc updated\n",
      "tensor([-0.0012, -0.0064, -0.0405, -0.1922, -0.0019, -0.0040, -0.0292,  0.0597])\n",
      "[14.0, 10.0, 15.0, 10.0, 9.0, 11.0, 11.0, 11.0, 9.0, 10.0]\n",
      "Finished episode 10 Average rewards:  9.5\n",
      "12.0\n",
      "12.0\n",
      "rot updated\n",
      "tensor([-0.0169, -0.0102,  0.0187,  0.0017,  0.0142,  0.0059, -0.0017,  0.0147,\n",
      "         0.0052, -0.0253, -0.0155,  0.0183, -0.0258, -0.0413,  0.0096, -0.0057,\n",
      "        -0.0031, -0.0105, -0.0611, -0.0216, -0.0612, -0.0624,  0.0327,  0.0176,\n",
      "         0.0201, -0.0109,  0.0000,  0.0254, -0.0033,  0.0000, -0.0145, -0.0510,\n",
      "         0.0000,  0.0260, -0.1069,  0.0000])\n",
      "enc updated\n",
      "tensor([ 0.0015,  0.0076, -0.0347,  0.0084, -0.0003, -0.0083, -0.0025, -0.0525])\n",
      "[14.0, 10.0, 15.0, 10.0, 9.0, 11.0, 11.0, 11.0, 9.0, 10.0, 12.0, 12.0]\n",
      "Finished episode 12 Average rewards:  12.0\n",
      "11.0\n",
      "9.0\n",
      "rot updated\n",
      "tensor([-0.0913,  0.0386,  0.0725, -0.0528,  0.0034, -0.0510,  0.0013, -0.0387,\n",
      "        -0.0113,  0.0873,  0.0084, -0.0656, -0.0914, -0.0870, -0.0075, -0.0205,\n",
      "        -0.1004, -0.0300, -0.1546,  0.0336, -0.1033,  0.0188, -0.0611,  0.1532,\n",
      "        -0.0135,  0.0088,  0.0000,  0.0214,  0.0354,  0.0000, -0.0224, -0.0956,\n",
      "         0.0000, -0.0734, -0.1313,  0.0000])\n",
      "enc updated\n",
      "tensor([-1.3709e-06, -2.3277e-03, -1.9322e-03, -3.1122e-02, -6.1679e-04,\n",
      "        -1.9008e-03, -1.9329e-03,  2.7790e-02])\n",
      "[14.0, 10.0, 15.0, 10.0, 9.0, 11.0, 11.0, 11.0, 9.0, 10.0, 12.0, 12.0, 11.0, 9.0]\n",
      "Finished episode 14 Average rewards:  10.0\n",
      "Monitored episode 50 Average Monitored rewards:  10.22\n",
      "9.0\n",
      "9.0\n",
      "rot updated\n",
      "tensor([-0.0215,  0.0063,  0.0181, -0.0034,  0.0116,  0.0002, -0.0096,  0.0214,\n",
      "         0.0141, -0.0037, -0.0004,  0.0028, -0.0175, -0.0613,  0.0189, -0.0086,\n",
      "        -0.0266, -0.0170, -0.0542,  0.0098, -0.0495, -0.0841, -0.0123,  0.0302,\n",
      "         0.0436, -0.0200,  0.0000,  0.0253,  0.0108,  0.0000, -0.0125, -0.0451,\n",
      "         0.0000,  0.0028, -0.0695,  0.0000])\n",
      "enc updated\n",
      "tensor([-0.0004, -0.0053,  0.0386,  0.0889,  0.0023,  0.0164,  0.0096, -0.0063])\n",
      "[14.0, 10.0, 15.0, 10.0, 9.0, 11.0, 11.0, 11.0, 9.0, 10.0, 12.0, 12.0, 11.0, 9.0, 9.0, 9.0]\n",
      "Finished episode 16 Average rewards:  9.0\n",
      "9.0\n",
      "14.0\n",
      "rot updated\n",
      "tensor([-0.0323,  0.0408,  0.0162, -0.0816,  0.0809, -0.0576, -0.0177,  0.0880,\n",
      "         0.0389,  0.0467,  0.0479, -0.0304, -0.0306, -0.2783,  0.1326, -0.0472,\n",
      "        -0.1531, -0.0821, -0.1707,  0.0638, -0.1348, -0.3870, -0.0440,  0.1651,\n",
      "         0.3199, -0.1420,  0.0000,  0.1187,  0.0475,  0.0000, -0.0284, -0.1365,\n",
      "         0.0000,  0.0174, -0.2009,  0.0000])\n",
      "enc updated\n",
      "tensor([-0.0013, -0.0158,  0.1199,  0.2273,  0.0093,  0.0388,  0.0237, -0.0040])\n",
      "[14.0, 10.0, 15.0, 10.0, 9.0, 11.0, 11.0, 11.0, 9.0, 10.0, 12.0, 12.0, 11.0, 9.0, 9.0, 9.0, 9.0, 14.0]\n",
      "Finished episode 18 Average rewards:  11.5\n",
      "15.0\n",
      "10.0\n",
      "rot updated\n",
      "tensor([ 0.0313,  0.0081, -0.0325, -0.1068,  0.0371, -0.1000, -0.0451,  0.0221,\n",
      "         0.0484,  0.1051,  0.2053, -0.0559,  0.0598, -0.2679,  0.0860, -0.0560,\n",
      "        -0.1525, -0.1105, -0.1672,  0.1005, -0.1355, -0.1979, -0.0276,  0.1813,\n",
      "         0.2598, -0.0971,  0.0000,  0.2290,  0.0339,  0.0000,  0.0078, -0.1785,\n",
      "         0.0000, -0.0071, -0.1618,  0.0000])\n",
      "enc updated\n",
      "tensor([ 0.0004,  0.0154, -0.0570, -0.0592, -0.0007, -0.0466,  0.0016, -0.0047])\n",
      "[14.0, 10.0, 15.0, 10.0, 9.0, 11.0, 11.0, 11.0, 9.0, 10.0, 12.0, 12.0, 11.0, 9.0, 9.0, 9.0, 9.0, 14.0, 15.0, 10.0]\n",
      "Finished episode 20 Average rewards:  12.5\n",
      "9.0\n",
      "12.0\n",
      "rot updated\n",
      "tensor([ 0.0062, -0.0296,  0.0030, -0.0147, -0.0266, -0.0180,  0.0156, -0.0094,\n",
      "        -0.0176, -0.0222,  0.0468,  0.0267,  0.1515, -0.0403, -0.1133,  0.0520,\n",
      "        -0.0126,  0.0631,  0.0580, -0.0096,  0.0585,  0.0156,  0.0125, -0.0702,\n",
      "         0.0283,  0.1163,  0.0000,  0.0403, -0.1191,  0.0000,  0.0019,  0.0378,\n",
      "         0.0000,  0.0229,  0.0309,  0.0000])\n",
      "enc updated\n",
      "tensor([-0.0064, -0.0239,  0.0268,  0.0131, -0.0013, -0.0157,  0.0009,  0.0167])\n",
      "[14.0, 10.0, 15.0, 10.0, 9.0, 11.0, 11.0, 11.0, 9.0, 10.0, 12.0, 12.0, 11.0, 9.0, 9.0, 9.0, 9.0, 14.0, 15.0, 10.0, 9.0, 12.0]\n",
      "Finished episode 22 Average rewards:  10.5\n",
      "8.0\n",
      "8.0\n",
      "rot updated\n",
      "tensor([ 0.0732,  0.0151, -0.0745, -0.0150,  0.0043, -0.0141, -0.0055, -0.0060,\n",
      "         0.0028, -0.0196,  0.0367,  0.0225,  0.0129, -0.0657,  0.0633, -0.0710,\n",
      "        -0.0246, -0.0883, -0.0912,  0.0400, -0.0729, -0.0676, -0.0462,  0.0751,\n",
      "         0.0735, -0.0647,  0.0000,  0.1312,  0.0458,  0.0000,  0.0014, -0.0787,\n",
      "         0.0000, -0.0059, -0.0796,  0.0000])\n",
      "enc updated\n",
      "tensor([-0.0002,  0.0407, -0.0790, -0.0625, -0.0039, -0.0719,  0.0010, -0.0071])\n",
      "[14.0, 10.0, 15.0, 10.0, 9.0, 11.0, 11.0, 11.0, 9.0, 10.0, 12.0, 12.0, 11.0, 9.0, 9.0, 9.0, 9.0, 14.0, 15.0, 10.0, 9.0, 12.0, 8.0, 8.0]\n",
      "Finished episode 24 Average rewards:  8.0\n",
      "Monitored episode 50 Average Monitored rewards:  10.64\n",
      "9.0\n",
      "10.0\n",
      "rot updated\n",
      "tensor([-0.0308, -0.0293,  0.0373, -0.0096, -0.0086, -0.0114,  0.0398, -0.0064,\n",
      "        -0.0385, -0.0099,  0.0220,  0.0115,  0.1056, -0.0129, -0.1099,  0.0598,\n",
      "         0.0067,  0.0869,  0.0900, -0.0347,  0.0896,  0.0504,  0.0666, -0.0536,\n",
      "        -0.0102,  0.1107,  0.0000, -0.0173, -0.0956,  0.0000, -0.0009,  0.0606,\n",
      "         0.0000,  0.0136,  0.0487,  0.0000])\n",
      "enc updated\n",
      "tensor([ 1.2739e-03, -2.4843e-03,  1.2251e-03,  2.9691e-03,  3.8385e-05,\n",
      "         2.8014e-03,  9.7156e-06,  1.4853e-04])\n",
      "[14.0, 10.0, 15.0, 10.0, 9.0, 11.0, 11.0, 11.0, 9.0, 10.0, 12.0, 12.0, 11.0, 9.0, 9.0, 9.0, 9.0, 14.0, 15.0, 10.0, 9.0, 12.0, 8.0, 8.0, 9.0, 10.0]\n",
      "Finished episode 26 Average rewards:  9.5\n",
      "9.0\n",
      "9.0\n"
     ]
    },
    {
     "name": "stdout",
     "output_type": "stream",
     "text": [
      "rot updated\n",
      "tensor([-7.7434e-03, -2.6505e-03,  8.1458e-03,  3.3236e-04, -1.0867e-03,\n",
      "         5.8889e-05,  2.3389e-03, -3.4916e-04, -2.2471e-03,  1.5013e-03,\n",
      "         7.4255e-04, -1.3433e-03,  8.0768e-03,  5.7235e-03, -1.4815e-02,\n",
      "         1.2507e-02,  2.1830e-03,  1.6434e-02,  1.6373e-02, -7.1850e-03,\n",
      "         1.4237e-02,  1.0300e-02,  7.3183e-03, -1.4777e-02, -7.5089e-03,\n",
      "         1.4898e-02,  0.0000e+00, -1.3437e-02, -1.3410e-02,  0.0000e+00,\n",
      "         4.8161e-05,  1.3183e-02,  0.0000e+00,  3.2307e-03,  1.2409e-02,\n",
      "         0.0000e+00])\n",
      "enc updated\n",
      "tensor([-1.8537e-05, -8.0235e-03,  1.2879e-02,  9.6217e-03,  2.0581e-04,\n",
      "         9.7908e-03, -5.9247e-05,  2.2947e-03])\n",
      "[14.0, 10.0, 15.0, 10.0, 9.0, 11.0, 11.0, 11.0, 9.0, 10.0, 12.0, 12.0, 11.0, 9.0, 9.0, 9.0, 9.0, 14.0, 15.0, 10.0, 9.0, 12.0, 8.0, 8.0, 9.0, 10.0, 9.0, 9.0]\n",
      "Finished episode 28 Average rewards:  9.0\n",
      "9.0\n",
      "10.0\n",
      "rot updated\n",
      "tensor([-0.0139, -0.0048,  0.0146,  0.0008, -0.0020,  0.0003,  0.0032, -0.0006,\n",
      "        -0.0032,  0.0031,  0.0001, -0.0029,  0.0138,  0.0115, -0.0262,  0.0227,\n",
      "         0.0037,  0.0294,  0.0291, -0.0124,  0.0247,  0.0183,  0.0122, -0.0269,\n",
      "        -0.0138,  0.0264,  0.0000, -0.0239, -0.0243,  0.0000,  0.0002,  0.0233,\n",
      "         0.0000,  0.0055,  0.0220,  0.0000])\n",
      "enc updated\n",
      "tensor([-6.3491e-04, -1.5882e-02,  2.1410e-02,  1.8182e-02,  8.9699e-04,\n",
      "         1.7834e-02, -8.1658e-06,  4.5040e-03])\n",
      "[14.0, 10.0, 15.0, 10.0, 9.0, 11.0, 11.0, 11.0, 9.0, 10.0, 12.0, 12.0, 11.0, 9.0, 9.0, 9.0, 9.0, 14.0, 15.0, 10.0, 9.0, 12.0, 8.0, 8.0, 9.0, 10.0, 9.0, 9.0, 9.0, 10.0]\n",
      "Finished episode 30 Average rewards:  9.5\n",
      "11.0\n",
      "9.0\n",
      "rot updated\n",
      "tensor([ 0.0033,  0.0093, -0.0062,  0.0008,  0.0048,  0.0020, -0.0020,  0.0004,\n",
      "         0.0020, -0.0067, -0.0194,  0.0044, -0.0279,  0.0140,  0.0192,  0.0048,\n",
      "         0.0004, -0.0052, -0.0139, -0.0070, -0.0212, -0.0026,  0.0121,  0.0179,\n",
      "         0.0081, -0.0196,  0.0000, -0.0090,  0.0125,  0.0000, -0.0011, -0.0129,\n",
      "         0.0000, -0.0102, -0.0052,  0.0000])\n",
      "enc updated\n",
      "tensor([ 0.0023,  0.0193, -0.0253, -0.0247, -0.0017, -0.0175, -0.0007, -0.0072])\n",
      "[14.0, 10.0, 15.0, 10.0, 9.0, 11.0, 11.0, 11.0, 9.0, 10.0, 12.0, 12.0, 11.0, 9.0, 9.0, 9.0, 9.0, 14.0, 15.0, 10.0, 9.0, 12.0, 8.0, 8.0, 9.0, 10.0, 9.0, 9.0, 9.0, 10.0, 11.0, 9.0]\n",
      "Finished episode 32 Average rewards:  10.0\n",
      "11.0\n",
      "12.0\n",
      "rot updated\n",
      "tensor([-0.0254,  0.0207,  0.0173,  0.0097,  0.0093,  0.0119, -0.0113,  0.0021,\n",
      "         0.0110, -0.0036, -0.0767, -0.0041, -0.0762,  0.0730,  0.0166,  0.0583,\n",
      "         0.0069,  0.0348,  0.0034, -0.0428, -0.0312,  0.0201,  0.0456,  0.0004,\n",
      "        -0.0079, -0.0171,  0.0000, -0.0777, -0.0039,  0.0000, -0.0032,  0.0007,\n",
      "         0.0000, -0.0217,  0.0153,  0.0000])\n",
      "enc updated\n",
      "tensor([ 1.7262e-03,  1.5713e-02, -1.7550e-02, -1.9464e-02, -1.1532e-03,\n",
      "        -1.6723e-02, -8.8930e-05, -5.2807e-03])\n",
      "[14.0, 10.0, 15.0, 10.0, 9.0, 11.0, 11.0, 11.0, 9.0, 10.0, 12.0, 12.0, 11.0, 9.0, 9.0, 9.0, 9.0, 14.0, 15.0, 10.0, 9.0, 12.0, 8.0, 8.0, 9.0, 10.0, 9.0, 9.0, 9.0, 10.0, 11.0, 9.0, 11.0, 12.0]\n",
      "Finished episode 34 Average rewards:  11.5\n",
      "Monitored episode 50 Average Monitored rewards:  9.62\n",
      "9.0\n",
      "12.0\n",
      "rot updated\n",
      "tensor([-0.0056,  0.0040,  0.0040,  0.0026,  0.0021,  0.0030,  0.0002, -0.0006,\n",
      "        -0.0004,  0.0021, -0.0153, -0.0036, -0.0132,  0.0140,  0.0006,  0.0122,\n",
      "         0.0021,  0.0083,  0.0014, -0.0103, -0.0061,  0.0049,  0.0101,  0.0002,\n",
      "         0.0003, -0.0006,  0.0000, -0.0155, -0.0016,  0.0000, -0.0004, -0.0006,\n",
      "         0.0000, -0.0039,  0.0014,  0.0000])\n",
      "enc updated\n",
      "tensor([-3.0285e-04,  6.3103e-04, -9.6463e-03, -2.5336e-03, -8.2910e-05,\n",
      "        -1.4120e-04, -1.1563e-05,  4.0454e-04])\n",
      "[14.0, 10.0, 15.0, 10.0, 9.0, 11.0, 11.0, 11.0, 9.0, 10.0, 12.0, 12.0, 11.0, 9.0, 9.0, 9.0, 9.0, 14.0, 15.0, 10.0, 9.0, 12.0, 8.0, 8.0, 9.0, 10.0, 9.0, 9.0, 9.0, 10.0, 11.0, 9.0, 11.0, 12.0, 9.0, 12.0]\n",
      "Finished episode 36 Average rewards:  10.5\n",
      "10.0\n",
      "10.0\n",
      "rot updated\n",
      "tensor([-1.6552e-02, -9.6644e-03,  1.8859e-02,  7.5340e-05, -5.9700e-03,\n",
      "        -1.0972e-03,  5.1646e-03, -4.7421e-04, -4.8661e-03,  6.8188e-03,\n",
      "         5.9605e-03, -5.4092e-03,  3.2537e-02,  6.0625e-03, -4.0587e-02,\n",
      "         2.2450e-02,  4.7455e-03,  3.3249e-02,  3.6405e-02, -9.3975e-03,\n",
      "         3.5792e-02,  1.8560e-02,  6.7978e-03, -3.7977e-02, -2.1302e-02,\n",
      "         4.1203e-02,  0.0000e+00, -2.0087e-02, -3.4267e-02,  0.0000e+00,\n",
      "         2.7227e-04,  3.1294e-02,  0.0000e+00,  9.2348e-03,  3.1577e-02,\n",
      "         0.0000e+00])\n",
      "enc updated\n",
      "tensor([-2.0092e-03, -2.5704e-02,  5.1490e-02,  3.0847e-02,  1.9438e-03,\n",
      "         2.4898e-02,  1.6093e-06,  6.9523e-03])\n",
      "[14.0, 10.0, 15.0, 10.0, 9.0, 11.0, 11.0, 11.0, 9.0, 10.0, 12.0, 12.0, 11.0, 9.0, 9.0, 9.0, 9.0, 14.0, 15.0, 10.0, 9.0, 12.0, 8.0, 8.0, 9.0, 10.0, 9.0, 9.0, 9.0, 10.0, 11.0, 9.0, 11.0, 12.0, 9.0, 12.0, 10.0, 10.0]\n",
      "Finished episode 38 Average rewards:  10.0\n",
      "13.0\n",
      "10.0\n",
      "rot updated\n",
      "tensor([-0.1205, -0.0156,  0.1198, -0.0106, -0.0142, -0.0136,  0.0166, -0.0107,\n",
      "        -0.0186,  0.0152, -0.0650, -0.0216,  0.0964,  0.1267, -0.2276,  0.2188,\n",
      "         0.0334,  0.2528,  0.2219, -0.1137,  0.1550,  0.1567,  0.1564, -0.1794,\n",
      "        -0.0621,  0.2308,  0.0000, -0.1660, -0.2384,  0.0000,  0.0020,  0.1658,\n",
      "         0.0000,  0.0076,  0.1655,  0.0000])\n",
      "enc updated\n",
      "tensor([-0.0054, -0.0604,  0.1256,  0.0733,  0.0029,  0.0447,  0.0019,  0.0139])\n",
      "[14.0, 10.0, 15.0, 10.0, 9.0, 11.0, 11.0, 11.0, 9.0, 10.0, 12.0, 12.0, 11.0, 9.0, 9.0, 9.0, 9.0, 14.0, 15.0, 10.0, 9.0, 12.0, 8.0, 8.0, 9.0, 10.0, 9.0, 9.0, 9.0, 10.0, 11.0, 9.0, 11.0, 12.0, 9.0, 12.0, 10.0, 10.0, 13.0, 10.0]\n",
      "Finished episode 40 Average rewards:  11.5\n",
      "10.0\n",
      "10.0\n",
      "rot updated\n",
      "tensor([-0.0327, -0.0004,  0.0310, -0.0329, -0.0041, -0.0339,  0.0199, -0.0188,\n",
      "        -0.0240,  0.0402,  0.0416, -0.0289,  0.0558,  0.0555, -0.1163,  0.1280,\n",
      "         0.0130,  0.1390,  0.1123, -0.0505,  0.0717,  0.0993,  0.0944,  0.0551,\n",
      "         0.0083,  0.1194,  0.0000, -0.0436, -0.1354,  0.0000,  0.0125,  0.0652,\n",
      "         0.0000,  0.0030, -0.0302,  0.0000])\n",
      "enc updated\n",
      "tensor([ 0.0030,  0.0938, -0.0693, -0.1079,  0.0002, -0.0344, -0.0074, -0.0028])\n",
      "[14.0, 10.0, 15.0, 10.0, 9.0, 11.0, 11.0, 11.0, 9.0, 10.0, 12.0, 12.0, 11.0, 9.0, 9.0, 9.0, 9.0, 14.0, 15.0, 10.0, 9.0, 12.0, 8.0, 8.0, 9.0, 10.0, 9.0, 9.0, 9.0, 10.0, 11.0, 9.0, 11.0, 12.0, 9.0, 12.0, 10.0, 10.0, 13.0, 10.0, 10.0, 10.0]\n",
      "Finished episode 42 Average rewards:  10.0\n",
      "8.0\n",
      "10.0\n",
      "rot updated\n",
      "tensor([ 6.7997e-04, -1.0525e-03, -1.2827e-04, -3.8748e-03, -4.5252e-04,\n",
      "        -4.0071e-03, -6.0463e-04,  2.4359e-03,  1.2469e-03,  1.3585e-03,\n",
      "         8.1584e-03,  5.2929e-05, -3.4040e-03, -9.4490e-03,  1.0508e-02,\n",
      "        -1.4157e-02, -8.4586e-03, -1.3395e-02, -1.5711e-02,  6.0248e-03,\n",
      "        -1.0750e-02, -1.2367e-02, -5.8362e-03,  3.1571e-03,  2.0268e-03,\n",
      "        -1.0527e-02,  0.0000e+00,  6.9341e-03,  6.5398e-03,  0.0000e+00,\n",
      "        -2.0380e-03, -8.8301e-03,  0.0000e+00,  9.0718e-05, -4.0789e-03,\n",
      "         0.0000e+00])\n",
      "enc updated\n",
      "tensor([-6.9320e-05, -1.8331e-03,  1.5135e-03,  1.2844e-03, -8.4043e-06,\n",
      "         5.3972e-04,  4.0257e-04,  9.4533e-05])\n",
      "[14.0, 10.0, 15.0, 10.0, 9.0, 11.0, 11.0, 11.0, 9.0, 10.0, 12.0, 12.0, 11.0, 9.0, 9.0, 9.0, 9.0, 14.0, 15.0, 10.0, 9.0, 12.0, 8.0, 8.0, 9.0, 10.0, 9.0, 9.0, 9.0, 10.0, 11.0, 9.0, 11.0, 12.0, 9.0, 12.0, 10.0, 10.0, 13.0, 10.0, 10.0, 10.0, 8.0, 10.0]\n",
      "Finished episode 44 Average rewards:  9.0\n",
      "Monitored episode 50 Average Monitored rewards:  9.6\n",
      "9.0\n",
      "10.0\n",
      "rot updated\n",
      "tensor([ 0.0008, -0.0009, -0.0003, -0.0029, -0.0005, -0.0030, -0.0012,  0.0024,\n",
      "         0.0018,  0.0011,  0.0071,  0.0001, -0.0028, -0.0090,  0.0095, -0.0136,\n",
      "        -0.0072, -0.0130, -0.0148,  0.0058, -0.0107, -0.0116, -0.0057,  0.0023,\n",
      "         0.0020, -0.0095,  0.0000,  0.0066,  0.0066,  0.0000, -0.0019, -0.0089,\n",
      "         0.0000,  0.0001, -0.0036,  0.0000])\n",
      "enc updated\n",
      "tensor([-7.0333e-06, -1.9102e-03,  1.7694e-04,  1.8447e-03, -7.1168e-05,\n",
      "         4.3911e-04,  2.2608e-04,  1.3453e-04])\n",
      "[14.0, 10.0, 15.0, 10.0, 9.0, 11.0, 11.0, 11.0, 9.0, 10.0, 12.0, 12.0, 11.0, 9.0, 9.0, 9.0, 9.0, 14.0, 15.0, 10.0, 9.0, 12.0, 8.0, 8.0, 9.0, 10.0, 9.0, 9.0, 9.0, 10.0, 11.0, 9.0, 11.0, 12.0, 9.0, 12.0, 10.0, 10.0, 13.0, 10.0, 10.0, 10.0, 8.0, 10.0, 9.0, 10.0]\n",
      "Finished episode 46 Average rewards:  9.5\n",
      "11.0\n",
      "9.0\n"
     ]
    },
    {
     "name": "stdout",
     "output_type": "stream",
     "text": [
      "rot updated\n",
      "tensor([ 7.7295e-04, -8.8477e-04, -2.9612e-04, -2.1386e-03, -4.7922e-04,\n",
      "        -2.2917e-03, -1.7838e-03,  2.2424e-03,  2.2881e-03,  4.7922e-04,\n",
      "         5.3197e-03,  3.7479e-04, -2.9359e-03, -8.3659e-03,  9.3816e-03,\n",
      "        -1.3223e-02, -6.4044e-03, -1.2721e-02, -1.4174e-02,  5.6844e-03,\n",
      "        -1.0469e-02, -1.0881e-02, -5.9745e-03,  1.2627e-03,  1.6170e-03,\n",
      "        -9.4027e-03,  0.0000e+00,  6.1986e-03,  7.0214e-03,  0.0000e+00,\n",
      "        -1.9045e-03, -8.4181e-03,  0.0000e+00,  8.8334e-05, -2.8021e-03,\n",
      "         0.0000e+00])\n",
      "enc updated\n",
      "tensor([-1.1659e-04, -3.2921e-03,  1.1484e-03,  2.8625e-03, -3.6836e-05,\n",
      "         8.6188e-04,  4.3005e-04,  1.8966e-04])\n",
      "[14.0, 10.0, 15.0, 10.0, 9.0, 11.0, 11.0, 11.0, 9.0, 10.0, 12.0, 12.0, 11.0, 9.0, 9.0, 9.0, 9.0, 14.0, 15.0, 10.0, 9.0, 12.0, 8.0, 8.0, 9.0, 10.0, 9.0, 9.0, 9.0, 10.0, 11.0, 9.0, 11.0, 12.0, 9.0, 12.0, 10.0, 10.0, 13.0, 10.0, 10.0, 10.0, 8.0, 10.0, 9.0, 10.0, 11.0, 9.0]\n",
      "Finished episode 48 Average rewards:  10.0\n",
      "10.0\n",
      "8.0\n",
      "rot updated\n",
      "tensor([ 7.2432e-04, -5.1832e-04, -4.3011e-04, -3.3808e-04, -2.4939e-04,\n",
      "        -4.2176e-04, -1.7796e-03,  1.4979e-03,  2.0730e-03, -7.6985e-04,\n",
      "         1.2883e-03,  8.8525e-04, -2.1700e-03, -5.3999e-03,  6.4741e-03,\n",
      "        -8.9579e-03, -3.4847e-03, -8.9149e-03, -9.2015e-03,  4.0941e-03,\n",
      "        -6.7174e-03, -6.9456e-03, -4.8921e-03, -7.8303e-04,  5.1665e-04,\n",
      "        -6.5426e-03,  0.0000e+00,  3.8363e-03,  5.6663e-03,  0.0000e+00,\n",
      "        -1.4572e-03, -4.7698e-03,  0.0000e+00, -3.2067e-05, -6.4135e-04,\n",
      "         0.0000e+00])\n",
      "enc updated\n",
      "tensor([-1.0383e-04, -3.4060e-03,  4.0616e-03,  3.2790e-03, -4.7684e-05,\n",
      "         8.0523e-04,  8.3607e-04,  2.0206e-04])\n",
      "[14.0, 10.0, 15.0, 10.0, 9.0, 11.0, 11.0, 11.0, 9.0, 10.0, 12.0, 12.0, 11.0, 9.0, 9.0, 9.0, 9.0, 14.0, 15.0, 10.0, 9.0, 12.0, 8.0, 8.0, 9.0, 10.0, 9.0, 9.0, 9.0, 10.0, 11.0, 9.0, 11.0, 12.0, 9.0, 12.0, 10.0, 10.0, 13.0, 10.0, 10.0, 10.0, 8.0, 10.0, 9.0, 10.0, 11.0, 9.0, 10.0, 8.0]\n",
      "Finished episode 50 Average rewards:  9.0\n",
      "9.0\n",
      "10.0\n"
     ]
    }
   ],
   "source": [
    "# Start training the agent\n",
    "episode_reward_history = []\n",
    "# Monitoring reward\n",
    "monitor_reward_history = []\n",
    "for batch in tqdm(range(n_episodes // batch_size)):\n",
    "    # Gather episodes\n",
    "    episodes = gather_episodes(state_bounds, n_actions, agent, batch_size, env_name)\n",
    "\n",
    "    # Group states, actions and returns in numpy arrays\n",
    "    states = torch.from_numpy(np.concatenate([ep['states'] for ep in episodes]))\n",
    "    actions = torch.from_numpy(np.concatenate([ep['actions'] for ep in episodes]))\n",
    "    action_probs = torch.from_numpy(np.concatenate([ep['action probs'] for ep in episodes]))\n",
    "    rewards = [ep['rewards'] for ep in episodes]\n",
    "    returns = np.concatenate([compute_returns(ep_rwds, gamma) for ep_rwds in rewards])\n",
    "    returns = torch.from_numpy(np.array(returns))\n",
    "\n",
    "    id_action_pairs = torch.from_numpy(np.array([[i, a] for i, a in enumerate(actions)]))\n",
    "\n",
    "#     print(states)\n",
    "#     print(action_probs)\n",
    "#     print(rewards)\n",
    "    # Store collected rewards\n",
    "    for ep_rwds in rewards:\n",
    "        print(np.sum(ep_rwds))\n",
    "    \n",
    "    # Update model parameters.\n",
    "    agent.update_policy(states, id_action_pairs, returns, action_probs, batch_size)\n",
    "    if batch % 10 == 0 and batch != 0:\n",
    "        agent.lr *= 0.8\n",
    "        \n",
    "    # Store collected rewards\n",
    "    for ep_rwds in rewards:\n",
    "        episode_reward_history.append(np.sum(ep_rwds))\n",
    "    \n",
    "    print(episode_reward_history)\n",
    "\n",
    "    avg_rewards = np.mean(episode_reward_history[-batch_size:])\n",
    "\n",
    "    print('Finished episode', (batch + 1) * batch_size,\n",
    "          'Average rewards: ', avg_rewards)\n",
    "    \n",
    "    if batch % 5 == 1:\n",
    "        # Gather episodes\n",
    "        episodes_monitor = gather_episodes(state_bounds, n_actions, agent, 50, env_name)\n",
    "\n",
    "        # Group states, actions and returns in numpy arrays\n",
    "        states_monitor = torch.from_numpy(np.concatenate([ep['states'] for ep in episodes_monitor]))\n",
    "        actions_monitor = torch.from_numpy(np.concatenate([ep['actions'] for ep in episodes_monitor]))\n",
    "        action_probs_monitor = torch.from_numpy(np.concatenate([ep['action probs'] for ep in episodes_monitor]))\n",
    "        rewards_monitor = [ep['rewards'] for ep in episodes_monitor]\n",
    "        # Store collected rewards\n",
    "        temp_hist = []\n",
    "        for ep_rwds in rewards_monitor:\n",
    "            temp_hist.append(np.sum(ep_rwds))\n",
    "        avg_rewards_monitor = np.mean(temp_hist)\n",
    "        monitor_reward_history.append(avg_rewards_monitor)\n",
    "        \n",
    "        print('Monitored episode', 50,\n",
    "              'Average Monitored rewards: ', avg_rewards_monitor)\n",
    "\n",
    "    if avg_rewards >= 500.0:\n",
    "        break"
   ]
  },
  {
   "cell_type": "code",
   "execution_count": null,
   "metadata": {},
   "outputs": [],
   "source": []
  },
  {
   "cell_type": "code",
   "execution_count": 66,
   "metadata": {},
   "outputs": [
    {
     "data": {
      "text/plain": [
       "[<matplotlib.lines.Line2D at 0x246385c44c0>]"
      ]
     },
     "execution_count": 66,
     "metadata": {},
     "output_type": "execute_result"
    },
    {
     "data": {
      "image/png": "[encoded data removed]",
      "text/plain": [
       "<Figure size 432x288 with 1 Axes>"
      ]
     },
     "metadata": {
      "needs_background": "light"
     },
     "output_type": "display_data"
    }
   ],
   "source": [
    "plt.plot(action_probs[:,0])\n",
    "# plt.savefig('Cartpole_moving.png')"
   ]
  },
  {
   "cell_type": "code",
   "execution_count": 67,
   "metadata": {},
   "outputs": [
    {
     "data": {
      "text/plain": [
       "[<matplotlib.lines.Line2D at 0x246382a05b0>]"
      ]
     },
     "execution_count": 67,
     "metadata": {},
     "output_type": "execute_result"
    },
    {
     "data": {
      "image/png": "[encoded data removed]",
      "text/plain": [
       "<Figure size 432x288 with 1 Axes>"
      ]
     },
     "metadata": {
      "needs_background": "light"
     },
     "output_type": "display_data"
    }
   ],
   "source": [
    "plt.plot(episode_reward_history)\n",
    "# plt.savefig('Cartpole_hist.png')"
   ]
  },
  {
   "cell_type": "code",
   "execution_count": 70,
   "metadata": {},
   "outputs": [
    {
     "data": {
      "text/plain": [
       "(array([64., 39., 14., 22.,  9.,  6.,  4.,  0.,  3.,  2.,  1.,  1.,  1.,\n",
       "         0.,  1.,  1.,  1.,  0.,  0.,  0.,  0.,  0.,  0.,  0.,  0.,  0.,\n",
       "         0.,  1.,  1.,  1.]),\n",
       " array([  8.        ,  15.33333333,  22.66666667,  30.        ,\n",
       "         37.33333333,  44.66666667,  52.        ,  59.33333333,\n",
       "         66.66666667,  74.        ,  81.33333333,  88.66666667,\n",
       "         96.        , 103.33333333, 110.66666667, 118.        ,\n",
       "        125.33333333, 132.66666667, 140.        , 147.33333333,\n",
       "        154.66666667, 162.        , 169.33333333, 176.66666667,\n",
       "        184.        , 191.33333333, 198.66666667, 206.        ,\n",
       "        213.33333333, 220.66666667, 228.        ]),\n",
       " <BarContainer object of 30 artists>)"
      ]
     },
     "execution_count": 70,
     "metadata": {},
     "output_type": "execute_result"
    },
    {
     "data": {
      "image/png": "[encoded data removed]",
      "text/plain": [
       "<Figure size 432x288 with 1 Axes>"
      ]
     },
     "metadata": {
      "needs_background": "light"
     },
     "output_type": "display_data"
    }
   ],
   "source": [
    "plt.hist(episode_reward_history[:200], bins=30)\n",
    "# plt.savefig('Cartpole_hist.png')"
   ]
  },
  {
   "cell_type": "code",
   "execution_count": 71,
   "metadata": {},
   "outputs": [
    {
     "data": {
      "text/plain": [
       "(array([64., 39., 14., 22.,  9.,  6.,  4.,  0.,  3.,  2.,  1.,  1.,  1.,\n",
       "         0.,  1.,  1.,  1.,  0.,  0.,  0.,  0.,  0.,  0.,  0.,  0.,  0.,\n",
       "         0.,  1.,  1.,  1.]),\n",
       " array([  8.        ,  15.33333333,  22.66666667,  30.        ,\n",
       "         37.33333333,  44.66666667,  52.        ,  59.33333333,\n",
       "         66.66666667,  74.        ,  81.33333333,  88.66666667,\n",
       "         96.        , 103.33333333, 110.66666667, 118.        ,\n",
       "        125.33333333, 132.66666667, 140.        , 147.33333333,\n",
       "        154.66666667, 162.        , 169.33333333, 176.66666667,\n",
       "        184.        , 191.33333333, 198.66666667, 206.        ,\n",
       "        213.33333333, 220.66666667, 228.        ]),\n",
       " <BarContainer object of 30 artists>)"
      ]
     },
     "execution_count": 71,
     "metadata": {},
     "output_type": "execute_result"
    },
    {
     "data": {
      "image/png": "[encoded data removed]",
      "text/plain": [
       "<Figure size 432x288 with 1 Axes>"
      ]
     },
     "metadata": {
      "needs_background": "light"
     },
     "output_type": "display_data"
    }
   ],
   "source": [
    "plt.hist(episode_reward_history[-200:], bins=30)"
   ]
  },
  {
   "cell_type": "code",
   "execution_count": 30,
   "metadata": {},
   "outputs": [
    {
     "data": {
      "text/plain": [
       "[<matplotlib.lines.Line2D at 0x246364fd9a0>]"
      ]
     },
     "execution_count": 30,
     "metadata": {},
     "output_type": "execute_result"
    },
    {
     "data": {
      "image/png": "[encoded data removed]",
      "text/plain": [
       "<Figure size 432x288 with 1 Axes>"
      ]
     },
     "metadata": {
      "needs_background": "light"
     },
     "output_type": "display_data"
    }
   ],
   "source": [
    "plt.plot(monitor_reward_history)"
   ]
  },
  {
   "cell_type": "code",
   "execution_count": null,
   "metadata": {},
   "outputs": [],
   "source": []
  },
  {
   "cell_type": "code",
   "execution_count": null,
   "metadata": {},
   "outputs": [],
   "source": []
  }
 ],
 "metadata": {
  "colab": {
   "authorship_tag": "ABX9TyNE3QY8UA5xCDFR4Ht9tSPe",
   "collapsed_sections": [
    "ksJVcTLxzskm",
    "jySdpQf_zuiE",
    "MIKgmnTWM8yz",
    "eLm2LW4zBqPo"
   ],
   "name": "QuantumCircuitLearning.ipynb",
   "provenance": []
  },
  "kernelspec": {
   "display_name": "Python 3",
   "language": "python",
   "name": "python3"
  },
  "language_info": {
   "codemirror_mode": {
    "name": "ipython",
    "version": 3
   },
   "file_extension": ".py",
   "mimetype": "text/x-python",
   "name": "python",
   "nbconvert_exporter": "python",
   "pygments_lexer": "ipython3",
   "version": "3.8.8"
  },
  "widgets": {
   "application/vnd.jupyter.widget-state+json": {
    "1b23efbb8db748a2af8554186cf2a3d8": {
     "model_module": "@jupyter-widgets/base",
     "model_module_version": "1.2.0",
     "model_name": "LayoutModel",
     "state": {
      "_model_module": "@jupyter-widgets/base",
      "_model_module_version": "1.2.0",
      "_model_name": "LayoutModel",
      "_view_count": null,
      "_view_module": "@jupyter-widgets/base",
      "_view_module_version": "1.2.0",
      "_view_name": "LayoutView",
      "align_content": null,
      "align_items": null,
      "align_self": null,
      "border": null,
      "bottom": null,
      "display": null,
      "flex": null,
      "flex_flow": null,
      "grid_area": null,
      "grid_auto_columns": null,
      "grid_auto_flow": null,
      "grid_auto_rows": null,
      "grid_column": null,
      "grid_gap": null,
      "grid_row": null,
      "grid_template_areas": null,
      "grid_template_columns": null,
      "grid_template_rows": null,
      "height": null,
      "justify_content": null,
      "justify_items": null,
      "left": null,
      "margin": null,
      "max_height": null,
      "max_width": null,
      "min_height": null,
      "min_width": null,
      "object_fit": null,
      "object_position": null,
      "order": null,
      "overflow": null,
      "overflow_x": null,
      "overflow_y": null,
      "padding": null,
      "right": null,
      "top": null,
      "visibility": null,
      "width": null
     }
    },
    "235d4532e52e4aadbc6c049c0c7369b3": {
     "model_module": "@jupyter-widgets/base",
     "model_module_version": "1.2.0",
     "model_name": "LayoutModel",
     "state": {
      "_model_module": "@jupyter-widgets/base",
      "_model_module_version": "1.2.0",
      "_model_name": "LayoutModel",
      "_view_count": null,
      "_view_module": "@jupyter-widgets/base",
      "_view_module_version": "1.2.0",
      "_view_name": "LayoutView",
      "align_content": null,
      "align_items": null,
      "align_self": null,
      "border": null,
      "bottom": null,
      "display": null,
      "flex": null,
      "flex_flow": null,
      "grid_area": null,
      "grid_auto_columns": null,
      "grid_auto_flow": null,
      "grid_auto_rows": null,
      "grid_column": null,
      "grid_gap": null,
      "grid_row": null,
      "grid_template_areas": null,
      "grid_template_columns": null,
      "grid_template_rows": null,
      "height": null,
      "justify_content": null,
      "justify_items": null,
      "left": null,
      "margin": null,
      "max_height": null,
      "max_width": null,
      "min_height": null,
      "min_width": null,
      "object_fit": null,
      "object_position": null,
      "order": null,
      "overflow": null,
      "overflow_x": null,
      "overflow_y": null,
      "padding": null,
      "right": null,
      "top": null,
      "visibility": null,
      "width": null
     }
    },
    "25885ff5cc014bafa5442805d676c0be": {
     "model_module": "@jupyter-widgets/controls",
     "model_module_version": "1.5.0",
     "model_name": "FloatProgressModel",
     "state": {
      "_dom_classes": [],
      "_model_module": "@jupyter-widgets/controls",
      "_model_module_version": "1.5.0",
      "_model_name": "FloatProgressModel",
      "_view_count": null,
      "_view_module": "@jupyter-widgets/controls",
      "_view_module_version": "1.5.0",
      "_view_name": "ProgressView",
      "bar_style": "success",
      "description": "100%",
      "description_tooltip": null,
      "layout": "IPY_MODEL_235d4532e52e4aadbc6c049c0c7369b3",
      "max": 50,
      "min": 0,
      "orientation": "horizontal",
      "style": "IPY_MODEL_4ede1074ee2f496ab3d864be52157d03",
      "value": 50
     }
    },
    "40ae390ed75a46f292ffc969fdd0509e": {
     "model_module": "@jupyter-widgets/controls",
     "model_module_version": "1.5.0",
     "model_name": "DescriptionStyleModel",
     "state": {
      "_model_module": "@jupyter-widgets/controls",
      "_model_module_version": "1.5.0",
      "_model_name": "DescriptionStyleModel",
      "_view_count": null,
      "_view_module": "@jupyter-widgets/base",
      "_view_module_version": "1.2.0",
      "_view_name": "StyleView",
      "description_width": ""
     }
    },
    "4ede1074ee2f496ab3d864be52157d03": {
     "model_module": "@jupyter-widgets/controls",
     "model_module_version": "1.5.0",
     "model_name": "ProgressStyleModel",
     "state": {
      "_model_module": "@jupyter-widgets/controls",
      "_model_module_version": "1.5.0",
      "_model_name": "ProgressStyleModel",
      "_view_count": null,
      "_view_module": "@jupyter-widgets/base",
      "_view_module_version": "1.2.0",
      "_view_name": "StyleView",
      "bar_color": null,
      "description_width": "initial"
     }
    },
    "68c55b17e042416c91105f585c6f622a": {
     "model_module": "@jupyter-widgets/controls",
     "model_module_version": "1.5.0",
     "model_name": "HTMLModel",
     "state": {
      "_dom_classes": [],
      "_model_module": "@jupyter-widgets/controls",
      "_model_module_version": "1.5.0",
      "_model_name": "HTMLModel",
      "_view_count": null,
      "_view_module": "@jupyter-widgets/controls",
      "_view_module_version": "1.5.0",
      "_view_name": "HTMLView",
      "description": "",
      "description_tooltip": null,
      "layout": "IPY_MODEL_ec14bbc210b743f085734c3bf858fd72",
      "placeholder": "​",
      "style": "IPY_MODEL_40ae390ed75a46f292ffc969fdd0509e",
      "value": " 50/50 [11:53&lt;00:00, 14.28s/it]"
     }
    },
    "cc511557b8a54d408c9d2ddcaa7aa7dc": {
     "model_module": "@jupyter-widgets/controls",
     "model_module_version": "1.5.0",
     "model_name": "HBoxModel",
     "state": {
      "_dom_classes": [],
      "_model_module": "@jupyter-widgets/controls",
      "_model_module_version": "1.5.0",
      "_model_name": "HBoxModel",
      "_view_count": null,
      "_view_module": "@jupyter-widgets/controls",
      "_view_module_version": "1.5.0",
      "_view_name": "HBoxView",
      "box_style": "",
      "children": [
       "IPY_MODEL_25885ff5cc014bafa5442805d676c0be",
       "IPY_MODEL_68c55b17e042416c91105f585c6f622a"
      ],
      "layout": "IPY_MODEL_1b23efbb8db748a2af8554186cf2a3d8"
     }
    },
    "ec14bbc210b743f085734c3bf858fd72": {
     "model_module": "@jupyter-widgets/base",
     "model_module_version": "1.2.0",
     "model_name": "LayoutModel",
     "state": {
      "_model_module": "@jupyter-widgets/base",
      "_model_module_version": "1.2.0",
      "_model_name": "LayoutModel",
      "_view_count": null,
      "_view_module": "@jupyter-widgets/base",
      "_view_module_version": "1.2.0",
      "_view_name": "LayoutView",
      "align_content": null,
      "align_items": null,
      "align_self": null,
      "border": null,
      "bottom": null,
      "display": null,
      "flex": null,
      "flex_flow": null,
      "grid_area": null,
      "grid_auto_columns": null,
      "grid_auto_flow": null,
      "grid_auto_rows": null,
      "grid_column": null,
      "grid_gap": null,
      "grid_row": null,
      "grid_template_areas": null,
      "grid_template_columns": null,
      "grid_template_rows": null,
      "height": null,
      "justify_content": null,
      "justify_items": null,
      "left": null,
      "margin": null,
      "max_height": null,
      "max_width": null,
      "min_height": null,
      "min_width": null,
      "object_fit": null,
      "object_position": null,
      "order": null,
      "overflow": null,
      "overflow_x": null,
      "overflow_y": null,
      "padding": null,
      "right": null,
      "top": null,
      "visibility": null,
      "width": null
     }
    }
   }
  }
 },
 "nbformat": 4,
 "nbformat_minor": 1
}
