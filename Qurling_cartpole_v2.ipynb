{
 "cells": [
  {
   "cell_type": "markdown",
   "metadata": {
    "id": "ksJVcTLxzskm"
   },
   "source": [
    "# Import modules"
   ]
  },
  {
   "cell_type": "code",
   "execution_count": 1,
   "metadata": {},
   "outputs": [],
   "source": [
    "import os\n",
    "os.environ['KMP_DUPLICATE_LIB_OK']='True'"
   ]
  },
  {
   "cell_type": "code",
   "execution_count": 2,
   "metadata": {
    "id": "N8fPchWjlyM1"
   },
   "outputs": [],
   "source": [
    "import qiskit\n",
    "import pylatexenc\n",
    "import torch\n",
    "import torch.nn as nn\n",
    "import torch.nn.functional as F"
   ]
  },
  {
   "cell_type": "code",
   "execution_count": 3,
   "metadata": {},
   "outputs": [],
   "source": [
    "import gym\n",
    "from functools import reduce\n",
    "from collections import deque, defaultdict"
   ]
  },
  {
   "cell_type": "code",
   "execution_count": 4,
   "metadata": {
    "id": "GfudJfnDmH06"
   },
   "outputs": [],
   "source": [
    "import qiskit\n",
    "import numpy as np\n",
    "import matplotlib.pyplot as plt\n",
    "import math, random, time, itertools\n",
    "from qiskit import QuantumCircuit, QuantumRegister, ClassicalRegister, Aer\n",
    "from qiskit.quantum_info.operators import Operator\n",
    "from qiskit.circuit import Parameter, ParameterVector\n",
    "from tqdm.notebook import tqdm\n",
    "from qiskit.opflow import Z, X, I, StateFn, CircuitStateFn, SummedOp, CircuitOp, AerPauliExpectation\n",
    "from qiskit.opflow.gradients import Gradient, NaturalGradient, QFI, Hessian\n",
    "from qiskit_machine_learning.connectors import TorchConnector\n",
    "from qiskit_machine_learning.neural_networks import OpflowQNN\n",
    "from qiskit.utils import QuantumInstance, algorithm_globals"
   ]
  },
  {
   "cell_type": "code",
   "execution_count": 5,
   "metadata": {},
   "outputs": [],
   "source": [
    "from Curling import Curling\n",
    "from ansatz import build_circuit"
   ]
  },
  {
   "cell_type": "markdown",
   "metadata": {
    "id": "jySdpQf_zuiE"
   },
   "source": [
    "# Build CIrucit"
   ]
  },
  {
   "cell_type": "markdown",
   "metadata": {},
   "source": [
    "### Ansatz list\n",
    "- 'base'\n",
    "- 'hw_eff'\n",
    "- 'universal'\n",
    "- 'universal_encoding'"
   ]
  },
  {
   "cell_type": "code",
   "execution_count": 6,
   "metadata": {},
   "outputs": [
    {
     "data": {
      "image/png": "[encoded data removed]",
      "text/plain": [
       "<Figure size 1062.63x144.48 with 1 Axes>"
      ]
     },
     "execution_count": 6,
     "metadata": {},
     "output_type": "execute_result"
    }
   ],
   "source": [
    "def draw_example():\n",
    "    quantum_circuit, param_rot, param_enc = build_circuit(n_qubits=2, n_layers=1, opt='universal_encoding')\n",
    "    return quantum_circuit\n",
    "draw_example().draw('mpl')"
   ]
  },
  {
   "cell_type": "code",
   "execution_count": 7,
   "metadata": {},
   "outputs": [],
   "source": [
    "# circuit, rot_params, enc_params = build_circuit(n_qubits=2, n_layers=1)"
   ]
  },
  {
   "cell_type": "code",
   "execution_count": 18,
   "metadata": {},
   "outputs": [],
   "source": [
    "class PQC_with_DataReuploading(nn.Module):\n",
    "    def __init__(self, n_qubits, n_layers, output_dim, observables=None, ansatz='base', activation='linear'):\n",
    "        super().__init__()\n",
    "        \n",
    "        self.n_qubits = n_qubits\n",
    "        self.n_layers = n_layers\n",
    "        self.output_dim = output_dim\n",
    "        self.activation = activation\n",
    "        self.ansatz = ansatz\n",
    "        \n",
    "        if observables == None:\n",
    "            self.observables = Z^n_qubits\n",
    "        else:\n",
    "            self.observables = observables\n",
    "        \n",
    "        # Build circuits / Parameter Vectors\n",
    "        self.circuit, self.rot_params, self.enc_params = build_circuit(self.n_qubits, self.n_layers, ansatz)\n",
    "        self.len_rot_params = len(self.rot_params)\n",
    "        self.len_enc_params = len(self.enc_params)\n",
    "        \n",
    "        self.psi = CircuitStateFn(primitive=self.circuit, coeff=1.)\n",
    "        self.Op = ~StateFn(self.observables) @ self.psi\n",
    "        \n",
    "        # set method to calculcate expected values\n",
    "        expval = AerPauliExpectation()\n",
    "        # define gradient method\n",
    "        gradient = Gradient()\n",
    "        # define quantum instances (statevector and sample based)\n",
    "        qi_sv = QuantumInstance(Aer.get_backend(\"aer_simulator_statevector\"))\n",
    "        # we set shots to 10 as this will determine the number of samples later on.\n",
    "        qi_qasm = QuantumInstance(Aer.get_backend(\"aer_simulator\"), shots=1000)\n",
    "        \n",
    "        self.qnn = OpflowQNN(operator=self.Op, input_params=self.enc_params, weight_params=self.rot_params, \n",
    "                             exp_val=expval, gradient=gradient, quantum_instance=qi_sv, input_gradients=True)\n",
    "        \n",
    "        self.total_params = []\n",
    "        for p in self.rot_params:\n",
    "            self.total_params.append(p)\n",
    "        for p in self.enc_params:\n",
    "            self.total_params.append(p)\n",
    "        \n",
    "        # Initial Parameters for circuit\n",
    "#         self.rot_param_vals = nn.Parameter(2*np.pi * torch.rand(len(self.rot_params)))\n",
    "        self.rot_param_vals = nn.Parameter(2*np.pi * torch.rand(len(self.rot_params)))\n",
    "#         self.enc_param_vals = nn.Parameter(torch.ones(len(self.enc_params)))\n",
    "#         self.enc_param_vals  = nn.Parameter(nn.Parameter(torch.rand(len(self.enc_params))))\n",
    "        self.enc_param_vals  = nn.Parameter(torch.rand(len(self.enc_params)))\n",
    "        \n",
    "        # Parameter for circuit output\n",
    "#         self.w = nn.Parameter(nn.Parameter(torch.rand(self.output_dim)))\n",
    "        self.w = nn.Parameter(torch.tensor([-3,3], dtype=torch.float32))\n",
    "        \n",
    "    def forward(self, inputs):\n",
    "        input_tiled = self.get_input_tiled(inputs)\n",
    "        input_scaled = self.enc_param_vals * input_tiled\n",
    "        input_params = input_scaled\n",
    "    \n",
    "        expectation = self.qnn.forward(input_params.detach(), self.rot_param_vals.detach())\n",
    "        \n",
    "        action_exp = torch.tensor(expectation) * self.w\n",
    "        action_prob = F.softmax(action_exp, dim=1)\n",
    "        \n",
    "        return action_prob\n",
    "\n",
    "    def backward(self, inputs):\n",
    "        input_tiled = self.get_input_tiled(inputs)\n",
    "        input_scaled = self.enc_param_vals * input_tiled\n",
    "        input_params = input_scaled\n",
    "        expectation = self.qnn.forward(input_params.detach(), self.rot_param_vals.detach())\n",
    "        enc_grad, rot_grad = self.qnn.backward(input_params.detach(), self.rot_param_vals.detach())\n",
    "        w_grad = torch.tensor(expectation).tile(self.output_dim)\n",
    "        return torch.tensor(rot_grad.squeeze()), torch.tensor(enc_grad.squeeze()), w_grad\n",
    "    \n",
    "    def get_input_tiled(self, inputs):\n",
    "        # Input: State values -> Need to insert into Encoding gates with scaling parameters(encoding params)\n",
    "        if self.ansatz == 'universal_encoding' or self.ansatz == 'hw_eff':\n",
    "            input_tiled = inputs.tile(2)\n",
    "            input_tiled = input_tiled.tile(self.n_layers)\n",
    "        elif self.ansatz == 'universal':\n",
    "            input_tiled = torch.zeros((inputs.shape[0], inputs.shape[1]+1))\n",
    "            input_tiled[:,:2] = inputs\n",
    "            input_tiled[:,-1] = inputs[:,-1]\n",
    "        else:\n",
    "            input_tiled = inputs.tile(self.n_layers)\n",
    "        return input_tiled"
   ]
  },
  {
   "cell_type": "code",
   "execution_count": 19,
   "metadata": {},
   "outputs": [],
   "source": [
    "policy = PQC_with_DataReuploading(n_qubits=2, n_layers=1, output_dim=2, ansatz='universal_encoding')"
   ]
  },
  {
   "cell_type": "code",
   "execution_count": 20,
   "metadata": {},
   "outputs": [
    {
     "data": {
      "text/plain": [
       "PauliOp(Pauli('ZZ'), coeff=1.0)"
      ]
     },
     "execution_count": 20,
     "metadata": {},
     "output_type": "execute_result"
    }
   ],
   "source": [
    "policy.observables"
   ]
  },
  {
   "cell_type": "code",
   "execution_count": 21,
   "metadata": {},
   "outputs": [
    {
     "data": {
      "image/png": "[encoded data removed]",
      "text/plain": [
       "<Figure size 1089.18x144.48 with 1 Axes>"
      ]
     },
     "execution_count": 21,
     "metadata": {},
     "output_type": "execute_result"
    }
   ],
   "source": [
    "policy.circuit.draw('mpl')"
   ]
  },
  {
   "cell_type": "code",
   "execution_count": 22,
   "metadata": {},
   "outputs": [],
   "source": [
    "inputs = torch.rand((10,2))"
   ]
  },
  {
   "cell_type": "code",
   "execution_count": 23,
   "metadata": {},
   "outputs": [
    {
     "data": {
      "text/plain": [
       "Parameter containing:\n",
       "tensor([1.9115, 4.9084, 2.2132, 5.5382, 5.9912, 6.1052, 3.6080, 5.3536, 4.5815,\n",
       "        3.6879, 5.7151, 3.2668, 5.7318], requires_grad=True)"
      ]
     },
     "execution_count": 23,
     "metadata": {},
     "output_type": "execute_result"
    }
   ],
   "source": [
    "policy.rot_param_vals"
   ]
  },
  {
   "cell_type": "code",
   "execution_count": 24,
   "metadata": {},
   "outputs": [
    {
     "data": {
      "text/plain": [
       "Parameter containing:\n",
       "tensor([0.0317, 0.8637, 0.4593, 0.6977], requires_grad=True)"
      ]
     },
     "execution_count": 24,
     "metadata": {},
     "output_type": "execute_result"
    }
   ],
   "source": [
    "policy.enc_param_vals"
   ]
  },
  {
   "cell_type": "code",
   "execution_count": 25,
   "metadata": {},
   "outputs": [
    {
     "data": {
      "text/plain": [
       "Parameter containing:\n",
       "tensor([-3.,  3.], requires_grad=True)"
      ]
     },
     "execution_count": 25,
     "metadata": {},
     "output_type": "execute_result"
    }
   ],
   "source": [
    "policy.w"
   ]
  },
  {
   "cell_type": "code",
   "execution_count": 26,
   "metadata": {},
   "outputs": [
    {
     "data": {
      "text/plain": [
       "tensor([[0.0689, 0.9311],\n",
       "        [0.3568, 0.6432],\n",
       "        [0.2951, 0.7049],\n",
       "        [0.3173, 0.6827],\n",
       "        [0.0562, 0.9438],\n",
       "        [0.3447, 0.6553],\n",
       "        [0.0954, 0.9046],\n",
       "        [0.2232, 0.7768],\n",
       "        [0.1427, 0.8573],\n",
       "        [0.2065, 0.7935]], dtype=torch.float64, grad_fn=<SoftmaxBackward>)"
      ]
     },
     "execution_count": 26,
     "metadata": {},
     "output_type": "execute_result"
    }
   ],
   "source": [
    "policy.forward(inputs)"
   ]
  },
  {
   "cell_type": "code",
   "execution_count": 27,
   "metadata": {},
   "outputs": [
    {
     "name": "stdout",
     "output_type": "stream",
     "text": [
      "0.9639084339141846\n"
     ]
    }
   ],
   "source": [
    "s = time.time()\n",
    "a,b,c = policy.backward(inputs)\n",
    "print(time.time()-s)"
   ]
  },
  {
   "cell_type": "markdown",
   "metadata": {},
   "source": [
    "# Make Quantum Agent"
   ]
  },
  {
   "cell_type": "code",
   "execution_count": 28,
   "metadata": {},
   "outputs": [],
   "source": [
    "class QuantumAgent():\n",
    "    def __init__(self, input_state_dim, n_actions, n_layers=1, ansatz='base'):\n",
    "        self.policy = PQC_with_DataReuploading(n_qubits=input_state_dim, n_layers=n_layers, \n",
    "                                               output_dim=n_actions, observables=None, ansatz=ansatz,\n",
    "                                               activation='linear')\n",
    "        self.n_layers = n_layers\n",
    "#         self.variational_optim = torch.optim.Adam([self.policy.rot_param_vals], lr=0.1)\n",
    "#         self.encoding_optim = torch.optim.Adam([self.policy.enc_param_vals], lr=0.1)\n",
    "#         self.weight_optim = torch.optim.Adam([self.policy.w], lr=0.01)\n",
    "        \n",
    "        self.lr = 2\n",
    "        \n",
    "#         self.optims = [self.variational_optim, self.encoding_optim, self.weight_optim]\n",
    "        \n",
    "    def get_actions(self, input_state):\n",
    "        return self.policy.forward(input_state)\n",
    "    \n",
    "    def update_policy(self, states, id_action_pairs, returns, action_probs, batch_size):\n",
    "        r_grad, e_grad, w_grad = self.policy.backward(states)\n",
    "        \n",
    "        p_actions = torch.tensor([action_probs[id_action_pairs[i][0], id_action_pairs[i][1]] for i in range(action_probs.shape[0])])\n",
    "        p_actions = p_actions.reshape(p_actions.shape[0], -1)\n",
    "        action_idxs = id_action_pairs[:,1]\n",
    "        \n",
    "        returns = returns.reshape(returns.shape[0], -1)\n",
    "        action_weights = agent.policy.w.detach().numpy()[id_action_pairs[:,1]]\n",
    "        action_weights = action_weights[:,np.newaxis]\n",
    "        action_weights = torch.tensor(action_weights)\n",
    "        \n",
    "        w = agent.policy.w.tile(len(states)).reshape(len(states),-1)\n",
    "        \n",
    "        sum_action_weight = torch.sum((action_probs * w), dim=1)\n",
    "        \n",
    "        rot_grad = np.array([(returns[i] * ( action_weights[i] * r_grad[i] - sum_action_weight[i] * r_grad[i] )).detach().numpy() \n",
    "                    for i in range(len(returns))])\n",
    "        \n",
    "#         input_scaled = self.policy.enc_param_vals * self.policy.get_input_tiled(states)\n",
    "        input_scaled = self.policy.get_input_tiled(states)\n",
    "        enc_grad = returns * ( input_scaled * action_weights * e_grad \n",
    "                              - sum_action_weight.reshape((sum_action_weight.shape[0],-1)) * input_scaled * e_grad)\n",
    "        \n",
    "#         weight_grad = returns * ( w_grad * action_weights - torch.mean(p_actions * w) * w_grad)\n",
    "        \n",
    "        prev = self.policy.rot_param_vals.detach().numpy().copy()\n",
    "        prev1 = self.policy.enc_param_vals.detach().numpy().copy()\n",
    "#         prev2 = self.policy.w.detach().numpy().copy()\n",
    "        \n",
    "#         rot_update = (torch.mean(rot_grad.detach(), dim=0) / batch_size).type(torch.float32)\n",
    "#         enc_update = (torch.mean(enc_grad, dim=0).detach() / batch_size).type(torch.float32)\n",
    "#         w_update = (torch.mean(weight_grad, dim=0).detach() / batch_size).type(torch.float32)\n",
    "\n",
    "        rot_update = torch.sum(torch.from_numpy(rot_grad), dim=0) / batch_size\n",
    "        enc_update = torch.sum(enc_grad, dim=0) / batch_size\n",
    "#         w_update = torch.mean(weight_grad, dim=0) / batch_size\n",
    "        \n",
    "        with torch.no_grad():            \n",
    "            self.policy.rot_param_vals += self.lr*rot_update\n",
    "            self.policy.enc_param_vals += self.lr*enc_update\n",
    "#             self.policy.w += 5 * w_update\n",
    "\n",
    "#         self.policy.rot_param_vals.grad = -1*rot_update\n",
    "#         self.policy.enc_param_vals.grad = -1*enc_update\n",
    "#         self.policy.w.grad = -1*w_update\n",
    "                \n",
    "#         print(rot_update)\n",
    "#         print(enc_update)\n",
    "        \n",
    "#         self.variational_optim.step()\n",
    "#         self.encoding_optim.step()\n",
    "#         self.weight_optim.step()\n",
    "\n",
    "        print('rot updated')\n",
    "        print(self.policy.rot_param_vals.detach() - prev)\n",
    "#         print(rot_update)\n",
    "        print('enc updated')\n",
    "        print(self.policy.enc_param_vals.detach() - prev1)\n",
    "#         print(enc_update)\n",
    "#         print(self.policy.w.detach() - prev2)\n",
    "#         print(w_update)\n",
    "        \n",
    "#         print('w', self.policy.w)\n",
    "        \n",
    "#         with torch.no_grad():\n",
    "#             self.policy.rot_param_vals[self.policy.rot_param_vals > 2*np.pi] = 2*np.pi\n",
    "#             self.policy.enc_param_vals[self.policy.enc_param_vals > 2*np.pi] = 2*np.pi\n",
    "#             self.policy.rot_param_vals[self.policy.rot_param_vals < 0] = 0\n",
    "#             self.policy.enc_param_vals[self.policy.enc_param_vals < 0] = 0\n",
    "        "
   ]
  },
  {
   "cell_type": "code",
   "execution_count": 29,
   "metadata": {},
   "outputs": [
    {
     "name": "stdout",
     "output_type": "stream",
     "text": [
      "48\n"
     ]
    }
   ],
   "source": [
    "n_qubits = 4 # Dimension of Input\n",
    "n_layers = 3\n",
    "n_actions = 2 # Dimention of output\n",
    "agent = QuantumAgent(input_state_dim = n_qubits, n_actions=n_actions, n_layers=n_layers, ansatz='base')"
   ]
  },
  {
   "cell_type": "code",
   "execution_count": 30,
   "metadata": {},
   "outputs": [
    {
     "data": {
      "image/png": "[encoded data removed]",
      "text/plain": [
       "<Figure size 1644.1x565.88 with 1 Axes>"
      ]
     },
     "execution_count": 30,
     "metadata": {},
     "output_type": "execute_result"
    }
   ],
   "source": [
    "agent.policy.circuit.draw('mpl')"
   ]
  },
  {
   "cell_type": "markdown",
   "metadata": {},
   "source": [
    "# Run Episodes and Update Policy"
   ]
  },
  {
   "cell_type": "code",
   "execution_count": 31,
   "metadata": {},
   "outputs": [],
   "source": [
    "def gather_episodes(state_bounds, n_actions, agent, n_episodes, env_name):\n",
    "    \"\"\"Interact with environment in batched fashion.\"\"\"\n",
    "\n",
    "    trajectories = [defaultdict(list) for _ in range(n_episodes)]\n",
    "    if env_name == 'Curling':\n",
    "        envs = [Curling() for _ in range(n_episodes)]\n",
    "    else:\n",
    "        envs = [gym.make(env_name) for _ in range(n_episodes)]\n",
    "\n",
    "    done = [False for _ in range(n_episodes)]\n",
    "    states = [e.reset() for e in envs]\n",
    "\n",
    "    while not all(done):\n",
    "        unfinished_ids = [i for i in range(n_episodes) if not done[i]]\n",
    "        normalized_states = [s/state_bounds for i, s in enumerate(states) if not done[i]]\n",
    "\n",
    "        for i, state in zip(unfinished_ids, normalized_states):\n",
    "            trajectories[i]['states'].append(state)\n",
    "\n",
    "        states = torch.from_numpy(np.array(normalized_states))\n",
    "        action_probs = agent.get_actions(states)\n",
    "\n",
    "        # Store action and transition all environments to the next state\n",
    "        states = [None for i in range(n_episodes)]\n",
    "        for i, action_prob in zip(unfinished_ids, action_probs.detach().numpy()):\n",
    "            action = np.random.choice(n_actions, p=action_prob)\n",
    "            states[i], reward, done[i], _ = envs[i].step(action)\n",
    "            trajectories[i]['actions'].append(action)\n",
    "            trajectories[i]['rewards'].append(reward)\n",
    "            trajectories[i]['action probs'].append(action_prob)\n",
    "\n",
    "    return trajectories\n",
    "\n",
    "def compute_returns(rewards_history, gamma):\n",
    "    \"\"\"Compute discounted returns with discount factor `gamma`.\"\"\"\n",
    "    returns = []\n",
    "    discounted_sum = 0\n",
    "    for r in rewards_history[::-1]:\n",
    "        discounted_sum = r + gamma * discounted_sum\n",
    "        returns.insert(0, discounted_sum)\n",
    "\n",
    "    # Normalize them for faster and more stable learning\n",
    "    returns = np.array(returns)\n",
    "    returns = (returns - np.mean(returns)) / (np.std(returns) + 1e-8)\n",
    "    returns = returns.tolist()\n",
    "\n",
    "    return returns"
   ]
  },
  {
   "cell_type": "code",
   "execution_count": 32,
   "metadata": {},
   "outputs": [],
   "source": [
    "env_name = \"CartPole-v1\"\n",
    "# env_name = \"Curling\"\n",
    "if env_name == \"CartPole-v1\":\n",
    "    state_bounds = np.array([2.4, 2.5, 0.21, 2.5])\n",
    "elif env_name == 'Curling':\n",
    "    state_bounds = np.array([3, 1])\n",
    "gamma = 1\n",
    "batch_size = 1\n",
    "n_episodes = 100"
   ]
  },
  {
   "cell_type": "code",
   "execution_count": null,
   "metadata": {
    "scrolled": true
   },
   "outputs": [
    {
     "data": {
      "application/vnd.jupyter.widget-view+json": {
       "model_id": "8af4b034b33047109f520ada525f84a2",
       "version_major": 2,
       "version_minor": 0
      },
      "text/plain": [
       "  0%|          | 0/100 [00:00<?, ?it/s]"
      ]
     },
     "metadata": {},
     "output_type": "display_data"
    },
    {
     "name": "stdout",
     "output_type": "stream",
     "text": [
      "tensor([[0.7728, 0.2272],\n",
      "        [0.7723, 0.2277],\n",
      "        [0.7691, 0.2309],\n",
      "        [0.7553, 0.2447],\n",
      "        [0.7955, 0.2045],\n",
      "        [0.7708, 0.2292],\n",
      "        [0.7308, 0.2692],\n",
      "        [0.6722, 0.3278],\n",
      "        [0.7362, 0.2638],\n",
      "        [0.7954, 0.2046],\n",
      "        [0.7269, 0.2731],\n",
      "        [0.7819, 0.2181],\n",
      "        [0.7022, 0.2978],\n",
      "        [0.6202, 0.3798]], dtype=torch.float64)\n",
      "rot updated\n",
      "tensor([-1.6738, -0.3322, -1.0270, -2.0011, -0.4125, -0.2343, -1.3704,  0.3295,\n",
      "        -2.0674,  0.7341,  1.8306, -1.0747, -2.7697,  0.6763, -2.9568, -1.1738,\n",
      "         1.0565,  2.3590, -2.0373, -0.5833,  2.3935,  1.1579,  0.1799,  1.6780,\n",
      "        -0.4462,  2.1492,  1.6727,  0.3077,  2.8539,  0.8665,  2.9923, -2.8214,\n",
      "        -3.4963,  0.9627,  1.9604, -1.7157, -0.7149, -1.6885,  0.0000,  0.4191,\n",
      "        -2.9534,  0.0000,  1.7543, -1.4392,  0.0000, -0.0671,  1.7756,  0.0000])\n",
      "enc updated\n",
      "tensor([ 0.2109,  0.4835, -2.8725,  0.5406,  0.0993, -0.3141, -1.1433,  0.6326,\n",
      "         0.2066,  0.0801,  1.0794,  0.1677])\n",
      "Finished episode 1 Average rewards:  14.0\n",
      "tensor([[0.7348, 0.2652],\n",
      "        [0.6801, 0.3199],\n",
      "        [0.7022, 0.2978],\n",
      "        [0.6506, 0.3494],\n",
      "        [0.5852, 0.4148],\n",
      "        [0.5383, 0.4617],\n",
      "        [0.5486, 0.4514],\n",
      "        [0.6367, 0.3633],\n",
      "        [0.7605, 0.2395],\n",
      "        [0.8406, 0.1594]], dtype=torch.float64)\n",
      "rot updated\n",
      "tensor([-5.5795e-01, -3.3657e-01, -2.8464e+00,  6.4099e-01, -2.1828e+00,\n",
      "        -8.0211e-01, -3.1722e+00, -2.0016e+00, -1.2163e+00, -1.5365e+00,\n",
      "         1.3166e+00,  1.0894e+00,  1.4316e+00, -2.8344e+00,  3.6209e-01,\n",
      "         1.4145e+00, -2.5022e-01, -1.0089e+00,  1.9189e+00, -2.1030e-03,\n",
      "        -2.2266e+00, -9.5329e-01, -3.4201e-01, -6.6108e-01,  2.7500e+00,\n",
      "        -3.5797e-01, -2.7492e+00, -6.8622e-01, -3.3401e-02,  1.1043e+00,\n",
      "         2.4857e+00, -3.3557e-01,  2.5450e+00, -1.1148e+00, -9.6945e-01,\n",
      "         6.6494e-01,  7.1291e-01,  1.7412e+00,  0.0000e+00, -3.7308e-01,\n",
      "         3.0065e+00,  0.0000e+00,  7.3168e-01, -3.2253e+00,  0.0000e+00,\n",
      "         5.6124e-02, -6.5474e-01,  0.0000e+00])\n",
      "enc updated\n",
      "tensor([-3.9751e-02, -7.8751e-01,  7.1199e-01, -6.6939e-01, -3.6287e-04,\n",
      "         4.9226e-01,  1.3719e+00, -7.3627e-01, -2.6387e-03,  1.8253e-01,\n",
      "         3.2954e-01,  5.7516e-02])\n",
      "Monitored episode 50 Average Monitored rewards:  10.04\n",
      "Finished episode 2 Average rewards:  10.0\n",
      "tensor([[0.1044, 0.8956],\n",
      "        [0.0732, 0.9268],\n",
      "        [0.0572, 0.9428],\n",
      "        [0.0461, 0.9539],\n",
      "        [0.0681, 0.9319],\n",
      "        [0.0460, 0.9540],\n",
      "        [0.0297, 0.9703],\n",
      "        [0.0188, 0.9812],\n",
      "        [0.0142, 0.9858],\n",
      "        [0.0180, 0.9820],\n",
      "        [0.0325, 0.9675]], dtype=torch.float64)\n",
      "rot updated\n",
      "tensor([ 0.4532, -0.3834,  0.8302, -5.4249,  1.4021, -0.9300,  4.9652, -2.2717,\n",
      "         4.6914, -1.1609, -0.3139, -1.2778,  1.9809, -0.0761, -0.7950, -0.6533,\n",
      "        -0.8264,  0.3459, -1.2012,  3.1061, -0.2486, -0.4321, -1.2347,  0.7041,\n",
      "         1.4318, -0.2961, -0.8686, -1.7802, -1.1506,  1.2290,  3.2036,  0.4887,\n",
      "         3.9944,  2.5170, -2.7202, -0.5668, -0.2448,  0.8925,  0.0000, -0.3286,\n",
      "         2.1588,  0.0000,  1.1715, -2.4775,  0.0000, -1.2368, -0.3773,  0.0000])\n",
      "enc updated\n",
      "tensor([ 0.1083, -0.1909,  0.8651,  0.4734,  0.0243, -1.1657, -0.8336, -2.2657,\n",
      "        -0.0247, -0.2381, -0.6108,  0.8803])\n",
      "Finished episode 3 Average rewards:  11.0\n",
      "tensor([[0.4145, 0.5855],\n",
      "        [0.3476, 0.6524],\n",
      "        [0.2731, 0.7269],\n",
      "        [0.2103, 0.7897],\n",
      "        [0.1758, 0.8242],\n",
      "        [0.1764, 0.8236],\n",
      "        [0.1784, 0.8216],\n",
      "        [0.2140, 0.7860],\n",
      "        [0.2476, 0.7524],\n",
      "        [0.3232, 0.6768],\n",
      "        [0.3767, 0.6233]], dtype=torch.float64)\n",
      "rot updated\n",
      "tensor([-6.4097,  0.0604,  6.4697, -2.1389, -0.8310,  0.9213,  1.2856,  0.0264,\n",
      "        -1.2089,  0.6648, -1.5021,  1.3302,  1.7734, -8.1791, -3.4758,  3.5563,\n",
      "         3.8240,  2.6687,  6.3634,  1.3622,  4.6487, -3.4614,  2.4213, -1.9479,\n",
      "         2.8806, -0.4279, -4.5585,  1.4499,  0.4868, -2.7882, -2.2631,  4.0165,\n",
      "        -1.8966, -1.0681,  1.8112, -1.6439,  0.4525,  4.8344,  0.0000,  1.5027,\n",
      "         2.8837,  0.0000, -2.2105, -2.8343,  0.0000, -0.3236,  0.7791,  0.0000])\n",
      "enc updated\n",
      "tensor([-0.0863,  1.0187, -2.2008,  0.5352,  0.2444,  0.7219, -1.8122,  1.8734,\n",
      "         0.0262,  1.0530,  0.4009, -0.1964])\n",
      "Finished episode 4 Average rewards:  11.0\n",
      "tensor([[0.3485, 0.6515],\n",
      "        [0.3014, 0.6986],\n",
      "        [0.2521, 0.7479],\n",
      "        [0.1883, 0.8117],\n",
      "        [0.1188, 0.8812],\n",
      "        [0.0682, 0.9318],\n",
      "        [0.0471, 0.9529],\n",
      "        [0.0517, 0.9483],\n",
      "        [0.0839, 0.9161],\n",
      "        [0.1711, 0.8289]], dtype=torch.float64)\n",
      "rot updated\n",
      "tensor([-3.6256, -0.5036,  5.2746, -0.6266,  0.8773, -0.8844, -2.0432,  4.2386,\n",
      "         1.4192,  2.0838, -0.4764, -1.8962, -2.0131,  3.5843,  0.4308, -0.9984,\n",
      "         1.4524, -1.7248,  3.1163, -3.8722,  2.0936, -3.7225, -3.3748, -2.1518,\n",
      "        -0.3074, -4.2715,  3.3905, -0.9444, -3.1612,  1.1786, -4.1456,  6.9683,\n",
      "         1.9749, -5.5076,  0.2491,  5.0156,  1.2513, -3.5394,  0.0000, -0.5290,\n",
      "         1.1052,  0.0000, -0.3778, -1.5732,  0.0000,  1.3404,  2.8314,  0.0000])\n",
      "enc updated\n",
      "tensor([-0.0391,  1.0941, -1.2961, -0.4286,  0.0140, -0.5712,  0.7321,  0.8127,\n",
      "         0.0146,  0.3138, -0.3049, -0.2665])\n",
      "Finished episode 5 Average rewards:  10.0\n",
      "tensor([[0.0916, 0.9084],\n",
      "        [0.1007, 0.8993],\n",
      "        [0.1175, 0.8825],\n",
      "        [0.1412, 0.8588],\n",
      "        [0.1756, 0.8244],\n",
      "        [0.2288, 0.7712],\n",
      "        [0.3013, 0.6987],\n",
      "        [0.3404, 0.6596],\n",
      "        [0.2620, 0.7380],\n",
      "        [0.1256, 0.8744],\n",
      "        [0.2440, 0.7560]], dtype=torch.float64)\n",
      "rot updated\n",
      "tensor([-5.5230e+00,  2.3252e+00,  1.5225e+00,  3.3687e-01, -3.9512e-02,\n",
      "         8.1045e-02, -2.4968e+00, -5.5660e-01, -4.3505e+00, -1.4513e+00,\n",
      "        -4.4606e+00,  7.2721e-01,  1.8113e+00, -1.5263e+00,  1.8015e+00,\n",
      "         1.2226e+00,  6.1392e-02,  6.5022e-01, -1.0153e+00,  8.9171e-01,\n",
      "         1.8351e+00, -5.7246e-01, -1.0553e+00,  6.8449e-01, -1.3631e+00,\n",
      "        -9.6995e-01,  2.3212e+00, -3.6236e-01,  3.0933e+00, -1.0258e+00,\n",
      "         2.8038e-04,  3.1790e+00, -1.9998e+00,  5.0111e+00, -5.6420e-01,\n",
      "        -5.1674e+00,  4.1870e+00,  2.3180e+00,  0.0000e+00, -6.4272e-02,\n",
      "        -6.6226e-01,  0.0000e+00,  2.1514e+00, -2.9899e+00,  0.0000e+00,\n",
      "        -3.4562e+00,  1.8510e-01,  0.0000e+00])\n",
      "enc updated\n",
      "tensor([ 8.4320e-02,  8.1861e-01,  1.8475e+00,  8.1675e-01, -1.3152e-03,\n",
      "        -7.8283e-01,  1.0835e+00, -4.6227e+00,  2.3245e-01,  1.2417e-01,\n",
      "        -2.4610e+00,  3.4081e+00])\n",
      "Finished episode 6 Average rewards:  11.0\n",
      "tensor([[0.2706, 0.7294],\n",
      "        [0.2910, 0.7090],\n",
      "        [0.2837, 0.7163],\n",
      "        [0.2690, 0.7310],\n",
      "        [0.2678, 0.7322],\n",
      "        [0.2869, 0.7131],\n",
      "        [0.3131, 0.6869],\n",
      "        [0.3260, 0.6740],\n",
      "        [0.4456, 0.5544],\n",
      "        [0.4451, 0.5549],\n",
      "        [0.5235, 0.4765],\n",
      "        [0.5080, 0.4920],\n",
      "        [0.5978, 0.4022],\n",
      "        [0.5693, 0.4307],\n",
      "        [0.5270, 0.4730],\n",
      "        [0.5323, 0.4677],\n",
      "        [0.5707, 0.4293],\n",
      "        [0.6119, 0.3881],\n",
      "        [0.4020, 0.5980],\n",
      "        [0.3134, 0.6866],\n",
      "        [0.3054, 0.6946],\n",
      "        [0.3357, 0.6643],\n",
      "        [0.3157, 0.6843],\n",
      "        [0.2976, 0.7024],\n",
      "        [0.2892, 0.7108],\n",
      "        [0.2694, 0.7306],\n",
      "        [0.2631, 0.7369],\n",
      "        [0.2805, 0.7195],\n",
      "        [0.2636, 0.7364],\n",
      "        [0.2809, 0.7191],\n",
      "        [0.3075, 0.6925],\n",
      "        [0.3238, 0.6762],\n",
      "        [0.3110, 0.6890],\n",
      "        [0.2861, 0.7139],\n",
      "        [0.6129, 0.3871],\n",
      "        [0.7600, 0.2400],\n",
      "        [0.7603, 0.2397],\n",
      "        [0.8165, 0.1835],\n",
      "        [0.8024, 0.1976],\n",
      "        [0.7465, 0.2535],\n",
      "        [0.7099, 0.2901],\n",
      "        [0.7411, 0.2589],\n",
      "        [0.8072, 0.1928],\n",
      "        [0.8321, 0.1679],\n",
      "        [0.7925, 0.2075],\n",
      "        [0.7584, 0.2416],\n",
      "        [0.8166, 0.1834],\n",
      "        [0.8033, 0.1967],\n",
      "        [0.8675, 0.1325],\n",
      "        [0.7972, 0.2028],\n",
      "        [0.5834, 0.4166],\n",
      "        [0.6197, 0.3803]], dtype=torch.float64)\n",
      "rot updated\n",
      "tensor([ -4.3537,   1.0679,  -4.1142,  -1.1217,   1.5139,  -0.5994,  -2.1802,\n",
      "         -2.2738,   1.7814,   7.5567,  -1.9154,  -5.0704,  -2.3242,  -4.5824,\n",
      "         -2.9086,   0.9381, -18.8388,   1.7110,   0.3597,  -5.0167,   2.3958,\n",
      "          2.9913,  -0.6096, -10.2936,  -1.4871,   4.0766,   1.4765,   0.1008,\n",
      "         -8.5517,  -2.1312,  -3.7622,  -1.1316,   4.9074,   2.0643,   3.0369,\n",
      "         -2.3600,   1.2535,  -4.1852,   0.0000,   8.2374,  -8.2116,   0.0000,\n",
      "         -5.5733,  -1.8932,   0.0000,  -1.6933,   6.3391,   0.0000])\n",
      "enc updated\n",
      "tensor([-0.2261, -0.5211, -0.1399,  4.1806,  0.1422,  1.8279, -2.9438,  4.4567,\n",
      "         0.0892,  0.1912, -0.5653, -0.6000])\n"
     ]
    },
    {
     "name": "stdout",
     "output_type": "stream",
     "text": [
      "Monitored episode 50 Average Monitored rewards:  23.94\n",
      "Finished episode 7 Average rewards:  9.0\n",
      "tensor([[0.1983, 0.8017],\n",
      "        [0.1944, 0.8056],\n",
      "        [0.3535, 0.6465],\n",
      "        [0.1055, 0.8945],\n",
      "        [0.2567, 0.7433],\n",
      "        [0.5874, 0.4126],\n",
      "        [0.1702, 0.8298],\n",
      "        [0.3817, 0.6183],\n",
      "        [0.1570, 0.8430],\n",
      "        [0.2519, 0.7481],\n",
      "        [0.3918, 0.6082],\n",
      "        [0.6729, 0.3271],\n",
      "        [0.4368, 0.5632],\n",
      "        [0.4253, 0.5747]], dtype=torch.float64)\n",
      "rot updated\n",
      "tensor([-0.4310,  0.9627,  0.2535,  2.5062, -1.9084,  0.6373, -0.1500, -0.1935,\n",
      "        -0.0466, -0.1857,  2.1054,  0.3190,  1.6421, -0.6054,  1.4037,  3.3809,\n",
      "         1.7777,  1.6707,  1.2438,  1.0883,  1.3436, -1.4225, -1.7854,  2.2867,\n",
      "         3.4101,  0.9346,  2.9483, -2.4448,  2.3367, -2.3545,  0.1572, -0.6974,\n",
      "         0.2556,  2.0639, -1.7760,  1.2265,  0.3555, -4.3346,  0.0000,  0.3333,\n",
      "         0.3424,  0.0000,  0.9108, -4.0081,  0.0000,  0.2256,  1.1240,  0.0000])\n",
      "enc updated\n",
      "tensor([ 0.1077,  0.5759, -0.6173, -0.0297,  0.1020, -0.8470,  0.4912, -1.1207,\n",
      "        -0.0066,  0.1726, -0.5840, -0.1744])\n",
      "Finished episode 8 Average rewards:  14.0\n",
      "tensor([[0.1028, 0.8972],\n",
      "        [0.1943, 0.8057],\n",
      "        [0.3909, 0.6091],\n",
      "        [0.1672, 0.8328],\n",
      "        [0.1119, 0.8881],\n",
      "        [0.1695, 0.8305],\n",
      "        [0.1089, 0.8911],\n",
      "        [0.1758, 0.8242],\n",
      "        [0.3011, 0.6989],\n",
      "        [0.3210, 0.6790],\n",
      "        [0.1738, 0.8262],\n",
      "        [0.2416, 0.7584],\n",
      "        [0.5577, 0.4423],\n",
      "        [0.2639, 0.7361],\n",
      "        [0.7235, 0.2765],\n",
      "        [0.3646, 0.6354],\n",
      "        [0.1972, 0.8028],\n",
      "        [0.3596, 0.6404]], dtype=torch.float64)\n",
      "rot updated\n",
      "tensor([ 4.0237,  3.0648, -1.3993,  1.3857, -4.7275, -1.6042,  2.2787,  0.8811,\n",
      "         0.2031,  0.3238,  5.9262,  0.2021,  2.9940,  5.0263,  2.9192, -0.8131,\n",
      "        -3.1839,  0.1461, -3.1733, -1.5367, -2.9288,  0.1323, -1.6081,  0.1659,\n",
      "         0.2263, -3.3085, -1.3667,  4.8647,  0.0265, -4.6276, -0.0459,  0.8571,\n",
      "        -0.6875, -4.5977,  0.7878,  3.3732, -6.6968, -2.0554,  0.0000,  2.5064,\n",
      "         1.3128,  0.0000,  0.4037, -0.2852,  0.0000, -0.3532, -6.9656,  0.0000])\n",
      "enc updated\n",
      "tensor([ 0.0618, -0.0339,  0.7736, -0.7916,  0.1204,  0.9910, -0.0266,  0.7059,\n",
      "        -0.0233,  0.5484, -0.1170, -0.3597])\n",
      "Finished episode 9 Average rewards:  18.0\n",
      "tensor([[0.8449, 0.1551],\n",
      "        [0.8051, 0.1949],\n",
      "        [0.8270, 0.1730],\n",
      "        [0.5887, 0.4113],\n",
      "        [0.2712, 0.7288],\n",
      "        [0.2396, 0.7604],\n",
      "        [0.4537, 0.5463],\n",
      "        [0.8134, 0.1866],\n",
      "        [0.5751, 0.4249],\n",
      "        [0.8589, 0.1411],\n",
      "        [0.6831, 0.3169],\n",
      "        [0.5344, 0.4656],\n",
      "        [0.3722, 0.6278],\n",
      "        [0.5455, 0.4545],\n",
      "        [0.3071, 0.6929],\n",
      "        [0.2637, 0.7363]], dtype=torch.float64)\n",
      "rot updated\n",
      "tensor([-0.8855,  0.2361, -0.6268,  0.4191, -0.0098, -1.8412,  1.5227, -0.0338,\n",
      "         1.1209,  1.3142, -1.7087,  0.0717, -1.8845, -2.5374, -0.6227,  3.0834,\n",
      "        -1.8990,  3.4029,  0.6619, -2.6933, -1.9747,  2.6355,  1.6645,  1.1815,\n",
      "         1.1750, -2.0040, -1.4043, -2.1122, -2.7014,  2.5381, -0.2130,  0.1114,\n",
      "        -2.3871,  1.5765,  1.3729,  2.4608,  5.8578, -1.6782,  0.0000, -4.8820,\n",
      "        -4.2773,  0.0000,  3.4441, -3.4446,  0.0000, -0.0818,  0.5065,  0.0000])\n",
      "enc updated\n",
      "tensor([ 0.0882, -0.7166,  0.3054,  0.8655, -0.0776,  0.4706, -1.2507,  0.5646,\n",
      "        -0.2641,  0.8480,  2.5551,  0.0281])\n",
      "Finished episode 10 Average rewards:  16.0\n",
      "tensor([[0.9693, 0.0307],\n",
      "        [0.7685, 0.2315],\n",
      "        [0.9709, 0.0291],\n",
      "        [0.7968, 0.2032],\n",
      "        [0.9706, 0.0294],\n",
      "        [0.8138, 0.1862],\n",
      "        [0.1917, 0.8083],\n",
      "        [0.8243, 0.1757],\n",
      "        [0.2469, 0.7531],\n",
      "        [0.7937, 0.2063],\n",
      "        [0.2841, 0.7159],\n",
      "        [0.7165, 0.2835],\n",
      "        [0.8098, 0.1902],\n",
      "        [0.6531, 0.3469],\n",
      "        [0.2609, 0.7391],\n",
      "        [0.5075, 0.4925],\n",
      "        [0.5646, 0.4354],\n",
      "        [0.4124, 0.5876],\n",
      "        [0.1746, 0.8254],\n",
      "        [0.2723, 0.7277],\n",
      "        [0.3831, 0.6169],\n",
      "        [0.3134, 0.6866],\n",
      "        [0.1598, 0.8402],\n",
      "        [0.1263, 0.8737],\n",
      "        [0.2391, 0.7609],\n",
      "        [0.4605, 0.5395],\n",
      "        [0.2674, 0.7326],\n",
      "        [0.3004, 0.6996],\n",
      "        [0.6362, 0.3638],\n",
      "        [0.8149, 0.1851],\n",
      "        [0.5677, 0.4323],\n",
      "        [0.7174, 0.2826],\n",
      "        [0.4553, 0.5447],\n",
      "        [0.6040, 0.3960],\n",
      "        [0.3265, 0.6735],\n",
      "        [0.5015, 0.4985],\n",
      "        [0.2169, 0.7831],\n",
      "        [0.4371, 0.5629],\n",
      "        [0.5115, 0.4885],\n",
      "        [0.4080, 0.5920],\n",
      "        [0.6186, 0.3814],\n",
      "        [0.4644, 0.5356],\n",
      "        [0.6793, 0.3207],\n",
      "        [0.6463, 0.3537],\n",
      "        [0.7283, 0.2717],\n",
      "        [0.3581, 0.6419],\n",
      "        [0.2116, 0.7884]], dtype=torch.float64)\n"
     ]
    }
   ],
   "source": [
    "# Start training the agent\n",
    "episode_reward_history = []\n",
    "# Monitoring reward\n",
    "monitor_reward_history = []\n",
    "for batch in tqdm(range(n_episodes // batch_size)):\n",
    "    # Gather episodes\n",
    "    episodes = gather_episodes(state_bounds, n_actions, agent, batch_size, env_name)\n",
    "\n",
    "    # Group states, actions and returns in numpy arrays\n",
    "    states = torch.from_numpy(np.concatenate([ep['states'] for ep in episodes]))\n",
    "    actions = torch.from_numpy(np.concatenate([ep['actions'] for ep in episodes]))\n",
    "    action_probs = torch.from_numpy(np.concatenate([ep['action probs'] for ep in episodes]))\n",
    "    rewards = [ep['rewards'] for ep in episodes]\n",
    "    returns = np.concatenate([compute_returns(ep_rwds, gamma) for ep_rwds in rewards])\n",
    "    returns = torch.from_numpy(np.array(returns))\n",
    "\n",
    "    id_action_pairs = torch.from_numpy(np.array([[i, a] for i, a in enumerate(actions)]))\n",
    "\n",
    "#     print(states)\n",
    "    print(action_probs)\n",
    "    \n",
    "    # Update model parameters.\n",
    "    agent.update_policy(states, id_action_pairs, returns, action_probs, batch_size)\n",
    "\n",
    "    if batch % 5 == 1:\n",
    "        # Gather episodes\n",
    "        episodes = gather_episodes(state_bounds, n_actions, agent, 50, env_name)\n",
    "\n",
    "        # Group states, actions and returns in numpy arrays\n",
    "        states = torch.from_numpy(np.concatenate([ep['states'] for ep in episodes]))\n",
    "        actions = torch.from_numpy(np.concatenate([ep['actions'] for ep in episodes]))\n",
    "        action_probs = torch.from_numpy(np.concatenate([ep['action probs'] for ep in episodes]))\n",
    "        rewards = [ep['rewards'] for ep in episodes]\n",
    "        # Store collected rewards\n",
    "        temp_hist = []\n",
    "        for ep_rwds in rewards:\n",
    "            temp_hist.append(np.sum(ep_rwds))\n",
    "        avg_rewards = np.mean(temp_hist)\n",
    "        monitor_reward_history.append(avg_rewards)\n",
    "        \n",
    "        print('Monitored episode', 50,\n",
    "              'Average Monitored rewards: ', avg_rewards)\n",
    "\n",
    "    \n",
    "    if batch % 10 == 0 and batch != 0:\n",
    "        agent.lr *= 0.8\n",
    "        \n",
    "    # Store collected rewards\n",
    "    for ep_rwds in rewards:\n",
    "        episode_reward_history.append(np.sum(ep_rwds))\n",
    "\n",
    "    avg_rewards = np.mean(episode_reward_history[-batch_size:])\n",
    "\n",
    "    print('Finished episode', (batch + 1) * batch_size,\n",
    "          'Average rewards: ', avg_rewards)\n",
    "\n",
    "    if avg_rewards >= 500.0:\n",
    "        break"
   ]
  },
  {
   "cell_type": "code",
   "execution_count": 119,
   "metadata": {},
   "outputs": [
    {
     "data": {
      "text/plain": [
       "[<matplotlib.lines.Line2D at 0x1dc4a3bd160>]"
      ]
     },
     "execution_count": 119,
     "metadata": {},
     "output_type": "execute_result"
    },
    {
     "data": {
      "image/png": "[encoded data removed]",
      "text/plain": [
       "<Figure size 432x288 with 1 Axes>"
      ]
     },
     "metadata": {
      "needs_background": "light"
     },
     "output_type": "display_data"
    }
   ],
   "source": [
    "plt.plot(action_probs[:,0])"
   ]
  },
  {
   "cell_type": "code",
   "execution_count": 120,
   "metadata": {},
   "outputs": [
    {
     "data": {
      "text/plain": [
       "[<matplotlib.lines.Line2D at 0x1dc4f2c1070>]"
      ]
     },
     "execution_count": 120,
     "metadata": {},
     "output_type": "execute_result"
    },
    {
     "data": {
      "image/png": "[encoded data removed]",
      "text/plain": [
       "<Figure size 432x288 with 1 Axes>"
      ]
     },
     "metadata": {
      "needs_background": "light"
     },
     "output_type": "display_data"
    }
   ],
   "source": [
    "plt.plot(episode_reward_history)"
   ]
  },
  {
   "cell_type": "code",
   "execution_count": 121,
   "metadata": {},
   "outputs": [
    {
     "data": {
      "text/plain": [
       "(array([ 91., 101.,  52.,  47.,  27.,  25.,  15.,  13.,   8.,   5.,   2.,\n",
       "          5.,   2.,   2.,   0.,   2.,   1.,   1.,   0.,   0.,   0.,   0.,\n",
       "          0.,   0.,   0.,   0.,   0.,   0.,   0.,   1.]),\n",
       " array([  9.        ,  13.53333333,  18.06666667,  22.6       ,\n",
       "         27.13333333,  31.66666667,  36.2       ,  40.73333333,\n",
       "         45.26666667,  49.8       ,  54.33333333,  58.86666667,\n",
       "         63.4       ,  67.93333333,  72.46666667,  77.        ,\n",
       "         81.53333333,  86.06666667,  90.6       ,  95.13333333,\n",
       "         99.66666667, 104.2       , 108.73333333, 113.26666667,\n",
       "        117.8       , 122.33333333, 126.86666667, 131.4       ,\n",
       "        135.93333333, 140.46666667, 145.        ]),\n",
       " <BarContainer object of 30 artists>)"
      ]
     },
     "execution_count": 121,
     "metadata": {},
     "output_type": "execute_result"
    },
    {
     "data": {
      "image/png": "[encoded data removed]",
      "text/plain": [
       "<Figure size 432x288 with 1 Axes>"
      ]
     },
     "metadata": {
      "needs_background": "light"
     },
     "output_type": "display_data"
    }
   ],
   "source": [
    "plt.hist(episode_reward_history[:400], bins=30)"
   ]
  },
  {
   "cell_type": "code",
   "execution_count": 122,
   "metadata": {},
   "outputs": [
    {
     "data": {
      "text/plain": [
       "(array([55., 73., 54., 45., 34., 32., 16., 21., 12.,  9.,  6.,  7.,  6.,\n",
       "         6.,  5.,  3.,  1.,  1.,  4.,  2.,  1.,  3.,  0.,  1.,  0.,  0.,\n",
       "         0.,  1.,  0.,  2.]),\n",
       " array([  9.        ,  12.06666667,  15.13333333,  18.2       ,\n",
       "         21.26666667,  24.33333333,  27.4       ,  30.46666667,\n",
       "         33.53333333,  36.6       ,  39.66666667,  42.73333333,\n",
       "         45.8       ,  48.86666667,  51.93333333,  55.        ,\n",
       "         58.06666667,  61.13333333,  64.2       ,  67.26666667,\n",
       "         70.33333333,  73.4       ,  76.46666667,  79.53333333,\n",
       "         82.6       ,  85.66666667,  88.73333333,  91.8       ,\n",
       "         94.86666667,  97.93333333, 101.        ]),\n",
       " <BarContainer object of 30 artists>)"
      ]
     },
     "execution_count": 122,
     "metadata": {},
     "output_type": "execute_result"
    },
    {
     "data": {
      "image/png": "[encoded data removed]",
      "text/plain": [
       "<Figure size 432x288 with 1 Axes>"
      ]
     },
     "metadata": {
      "needs_background": "light"
     },
     "output_type": "display_data"
    }
   ],
   "source": [
    "plt.hist(episode_reward_history[-400:], bins=30)"
   ]
  },
  {
   "cell_type": "code",
   "execution_count": 123,
   "metadata": {},
   "outputs": [
    {
     "data": {
      "text/plain": [
       "[<matplotlib.lines.Line2D at 0x1dc4f2db400>]"
      ]
     },
     "execution_count": 123,
     "metadata": {},
     "output_type": "execute_result"
    },
    {
     "data": {
      "image/png": "[encoded data removed]",
      "text/plain": [
       "<Figure size 432x288 with 1 Axes>"
      ]
     },
     "metadata": {
      "needs_background": "light"
     },
     "output_type": "display_data"
    }
   ],
   "source": [
    "plt.plot(monitor_reward_history)"
   ]
  },
  {
   "cell_type": "code",
   "execution_count": null,
   "metadata": {},
   "outputs": [],
   "source": []
  },
  {
   "cell_type": "code",
   "execution_count": null,
   "metadata": {},
   "outputs": [],
   "source": []
  }
 ],
 "metadata": {
  "colab": {
   "authorship_tag": "ABX9TyNE3QY8UA5xCDFR4Ht9tSPe",
   "collapsed_sections": [
    "ksJVcTLxzskm",
    "jySdpQf_zuiE",
    "MIKgmnTWM8yz",
    "eLm2LW4zBqPo"
   ],
   "name": "QuantumCircuitLearning.ipynb",
   "provenance": []
  },
  "kernelspec": {
   "display_name": "Python 3",
   "language": "python",
   "name": "python3"
  },
  "language_info": {
   "codemirror_mode": {
    "name": "ipython",
    "version": 3
   },
   "file_extension": ".py",
   "mimetype": "text/x-python",
   "name": "python",
   "nbconvert_exporter": "python",
   "pygments_lexer": "ipython3",
   "version": "3.8.8"
  },
  "widgets": {
   "application/vnd.jupyter.widget-state+json": {
    "1b23efbb8db748a2af8554186cf2a3d8": {
     "model_module": "@jupyter-widgets/base",
     "model_module_version": "1.2.0",
     "model_name": "LayoutModel",
     "state": {
      "_model_module": "@jupyter-widgets/base",
      "_model_module_version": "1.2.0",
      "_model_name": "LayoutModel",
      "_view_count": null,
      "_view_module": "@jupyter-widgets/base",
      "_view_module_version": "1.2.0",
      "_view_name": "LayoutView",
      "align_content": null,
      "align_items": null,
      "align_self": null,
      "border": null,
      "bottom": null,
      "display": null,
      "flex": null,
      "flex_flow": null,
      "grid_area": null,
      "grid_auto_columns": null,
      "grid_auto_flow": null,
      "grid_auto_rows": null,
      "grid_column": null,
      "grid_gap": null,
      "grid_row": null,
      "grid_template_areas": null,
      "grid_template_columns": null,
      "grid_template_rows": null,
      "height": null,
      "justify_content": null,
      "justify_items": null,
      "left": null,
      "margin": null,
      "max_height": null,
      "max_width": null,
      "min_height": null,
      "min_width": null,
      "object_fit": null,
      "object_position": null,
      "order": null,
      "overflow": null,
      "overflow_x": null,
      "overflow_y": null,
      "padding": null,
      "right": null,
      "top": null,
      "visibility": null,
      "width": null
     }
    },
    "235d4532e52e4aadbc6c049c0c7369b3": {
     "model_module": "@jupyter-widgets/base",
     "model_module_version": "1.2.0",
     "model_name": "LayoutModel",
     "state": {
      "_model_module": "@jupyter-widgets/base",
      "_model_module_version": "1.2.0",
      "_model_name": "LayoutModel",
      "_view_count": null,
      "_view_module": "@jupyter-widgets/base",
      "_view_module_version": "1.2.0",
      "_view_name": "LayoutView",
      "align_content": null,
      "align_items": null,
      "align_self": null,
      "border": null,
      "bottom": null,
      "display": null,
      "flex": null,
      "flex_flow": null,
      "grid_area": null,
      "grid_auto_columns": null,
      "grid_auto_flow": null,
      "grid_auto_rows": null,
      "grid_column": null,
      "grid_gap": null,
      "grid_row": null,
      "grid_template_areas": null,
      "grid_template_columns": null,
      "grid_template_rows": null,
      "height": null,
      "justify_content": null,
      "justify_items": null,
      "left": null,
      "margin": null,
      "max_height": null,
      "max_width": null,
      "min_height": null,
      "min_width": null,
      "object_fit": null,
      "object_position": null,
      "order": null,
      "overflow": null,
      "overflow_x": null,
      "overflow_y": null,
      "padding": null,
      "right": null,
      "top": null,
      "visibility": null,
      "width": null
     }
    },
    "25885ff5cc014bafa5442805d676c0be": {
     "model_module": "@jupyter-widgets/controls",
     "model_module_version": "1.5.0",
     "model_name": "FloatProgressModel",
     "state": {
      "_dom_classes": [],
      "_model_module": "@jupyter-widgets/controls",
      "_model_module_version": "1.5.0",
      "_model_name": "FloatProgressModel",
      "_view_count": null,
      "_view_module": "@jupyter-widgets/controls",
      "_view_module_version": "1.5.0",
      "_view_name": "ProgressView",
      "bar_style": "success",
      "description": "100%",
      "description_tooltip": null,
      "layout": "IPY_MODEL_235d4532e52e4aadbc6c049c0c7369b3",
      "max": 50,
      "min": 0,
      "orientation": "horizontal",
      "style": "IPY_MODEL_4ede1074ee2f496ab3d864be52157d03",
      "value": 50
     }
    },
    "40ae390ed75a46f292ffc969fdd0509e": {
     "model_module": "@jupyter-widgets/controls",
     "model_module_version": "1.5.0",
     "model_name": "DescriptionStyleModel",
     "state": {
      "_model_module": "@jupyter-widgets/controls",
      "_model_module_version": "1.5.0",
      "_model_name": "DescriptionStyleModel",
      "_view_count": null,
      "_view_module": "@jupyter-widgets/base",
      "_view_module_version": "1.2.0",
      "_view_name": "StyleView",
      "description_width": ""
     }
    },
    "4ede1074ee2f496ab3d864be52157d03": {
     "model_module": "@jupyter-widgets/controls",
     "model_module_version": "1.5.0",
     "model_name": "ProgressStyleModel",
     "state": {
      "_model_module": "@jupyter-widgets/controls",
      "_model_module_version": "1.5.0",
      "_model_name": "ProgressStyleModel",
      "_view_count": null,
      "_view_module": "@jupyter-widgets/base",
      "_view_module_version": "1.2.0",
      "_view_name": "StyleView",
      "bar_color": null,
      "description_width": "initial"
     }
    },
    "68c55b17e042416c91105f585c6f622a": {
     "model_module": "@jupyter-widgets/controls",
     "model_module_version": "1.5.0",
     "model_name": "HTMLModel",
     "state": {
      "_dom_classes": [],
      "_model_module": "@jupyter-widgets/controls",
      "_model_module_version": "1.5.0",
      "_model_name": "HTMLModel",
      "_view_count": null,
      "_view_module": "@jupyter-widgets/controls",
      "_view_module_version": "1.5.0",
      "_view_name": "HTMLView",
      "description": "",
      "description_tooltip": null,
      "layout": "IPY_MODEL_ec14bbc210b743f085734c3bf858fd72",
      "placeholder": "​",
      "style": "IPY_MODEL_40ae390ed75a46f292ffc969fdd0509e",
      "value": " 50/50 [11:53&lt;00:00, 14.28s/it]"
     }
    },
    "cc511557b8a54d408c9d2ddcaa7aa7dc": {
     "model_module": "@jupyter-widgets/controls",
     "model_module_version": "1.5.0",
     "model_name": "HBoxModel",
     "state": {
      "_dom_classes": [],
      "_model_module": "@jupyter-widgets/controls",
      "_model_module_version": "1.5.0",
      "_model_name": "HBoxModel",
      "_view_count": null,
      "_view_module": "@jupyter-widgets/controls",
      "_view_module_version": "1.5.0",
      "_view_name": "HBoxView",
      "box_style": "",
      "children": [
       "IPY_MODEL_25885ff5cc014bafa5442805d676c0be",
       "IPY_MODEL_68c55b17e042416c91105f585c6f622a"
      ],
      "layout": "IPY_MODEL_1b23efbb8db748a2af8554186cf2a3d8"
     }
    },
    "ec14bbc210b743f085734c3bf858fd72": {
     "model_module": "@jupyter-widgets/base",
     "model_module_version": "1.2.0",
     "model_name": "LayoutModel",
     "state": {
      "_model_module": "@jupyter-widgets/base",
      "_model_module_version": "1.2.0",
      "_model_name": "LayoutModel",
      "_view_count": null,
      "_view_module": "@jupyter-widgets/base",
      "_view_module_version": "1.2.0",
      "_view_name": "LayoutView",
      "align_content": null,
      "align_items": null,
      "align_self": null,
      "border": null,
      "bottom": null,
      "display": null,
      "flex": null,
      "flex_flow": null,
      "grid_area": null,
      "grid_auto_columns": null,
      "grid_auto_flow": null,
      "grid_auto_rows": null,
      "grid_column": null,
      "grid_gap": null,
      "grid_row": null,
      "grid_template_areas": null,
      "grid_template_columns": null,
      "grid_template_rows": null,
      "height": null,
      "justify_content": null,
      "justify_items": null,
      "left": null,
      "margin": null,
      "max_height": null,
      "max_width": null,
      "min_height": null,
      "min_width": null,
      "object_fit": null,
      "object_position": null,
      "order": null,
      "overflow": null,
      "overflow_x": null,
      "overflow_y": null,
      "padding": null,
      "right": null,
      "top": null,
      "visibility": null,
      "width": null
     }
    }
   }
  }
 },
 "nbformat": 4,
 "nbformat_minor": 1
}
