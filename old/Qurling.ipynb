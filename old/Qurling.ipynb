{
 "cells": [
  {
   "cell_type": "markdown",
   "metadata": {
    "id": "ksJVcTLxzskm"
   },
   "source": [
    "# Import modules"
   ]
  },
  {
   "cell_type": "code",
   "execution_count": 1,
   "metadata": {
    "id": "N8fPchWjlyM1"
   },
   "outputs": [],
   "source": [
    "import qiskit\n",
    "import pylatexenc\n",
    "import torch\n",
    "import torch.nn as nn\n",
    "import torch.nn.functional as F"
   ]
  },
  {
   "cell_type": "code",
   "execution_count": 2,
   "metadata": {},
   "outputs": [],
   "source": [
    "import gym\n",
    "from functools import reduce\n",
    "from collections import deque, defaultdict"
   ]
  },
  {
   "cell_type": "code",
   "execution_count": 3,
   "metadata": {
    "id": "GfudJfnDmH06"
   },
   "outputs": [],
   "source": [
    "import qiskit\n",
    "import numpy as np\n",
    "import matplotlib.pyplot as plt\n",
    "import math, random, time, itertools\n",
    "from qiskit import QuantumCircuit, QuantumRegister, ClassicalRegister\n",
    "from qiskit.quantum_info.operators import Operator\n",
    "from qiskit.circuit import Parameter, ParameterVector\n",
    "from tqdm.notebook import tqdm\n",
    "from qiskit.opflow import Z, X, I, StateFn, CircuitStateFn, SummedOp, CircuitOp\n",
    "from qiskit.opflow.gradients import Gradient, NaturalGradient, QFI, Hessian"
   ]
  },
  {
   "cell_type": "code",
   "execution_count": 4,
   "metadata": {},
   "outputs": [],
   "source": [
    "from Curling import Curling"
   ]
  },
  {
   "cell_type": "markdown",
   "metadata": {
    "id": "jySdpQf_zuiE"
   },
   "source": [
    "# Build CIrucit"
   ]
  },
  {
   "cell_type": "code",
   "execution_count": 5,
   "metadata": {},
   "outputs": [],
   "source": [
    "def add_hadamard(circuit, n_qubits):\n",
    "    for i in range(n_qubits):\n",
    "        circuit.h(i)\n",
    "def add_single_qubit_rotation(circuit, Paramvector, n_qubits):\n",
    "    for i in range(n_qubits):\n",
    "        circuit.rx(Paramvector[i*3], i)\n",
    "        circuit.ry(Paramvector[i*3+1], i)\n",
    "        circuit.rz(Paramvector[i*3+2], i)\n",
    "def add_encoding_layer(circuit, Paramvector, n_qubits):\n",
    "    for i in range(n_qubits):\n",
    "        circuit.rx(Paramvector[i], i)\n",
    "def add_entangling_layer(circuit, n_qubits):\n",
    "    qubits = [i for i in range(n_qubits)]\n",
    "    for c in itertools.combinations(qubits, 2):\n",
    "        circuit.cz(c[0], c[1])"
   ]
  },
  {
   "cell_type": "code",
   "execution_count": 6,
   "metadata": {},
   "outputs": [],
   "source": [
    "def build_circuit(n_qubits, n_layers):\n",
    "    qr = QuantumRegister(n_qubits)\n",
    "    qc = QuantumCircuit(qr)\n",
    "    \n",
    "    param_rot = ParameterVector('Rot', 3*n_qubits*(n_layers+1))\n",
    "    param_enc = ParameterVector('Enc', n_qubits*n_layers)\n",
    "    \n",
    "    print(len(param_rot))\n",
    "    \n",
    "#     add_hadamard(qc, n_qubits)\n",
    "    for l in range(n_layers):\n",
    "        # Variational + Encoding Layer\n",
    "        add_single_qubit_rotation(qc, param_rot[l*(3*n_qubits):(l+1)*(3*n_qubits)], n_qubits)\n",
    "        qc.barrier()\n",
    "        add_entangling_layer(qc, n_qubits)\n",
    "        qc.barrier()\n",
    "        # Encoding Layer\n",
    "        add_encoding_layer(qc, param_enc[l*n_qubits:(l+1)*n_qubits], n_qubits)\n",
    "        qc.barrier()\n",
    "    # Last Variational Layer\n",
    "    add_single_qubit_rotation(qc, param_rot[n_layers*(3*n_qubits):(n_layers+1)*(3*n_qubits)], n_qubits)\n",
    "    \n",
    "    return qc, param_rot, param_enc"
   ]
  },
  {
   "cell_type": "code",
   "execution_count": 7,
   "metadata": {},
   "outputs": [
    {
     "name": "stdout",
     "output_type": "stream",
     "text": [
      "18\n"
     ]
    },
    {
     "data": {
      "image/png": "[encoded data removed]",
      "text/plain": [
       "<Figure size 882.178x204.68 with 1 Axes>"
      ]
     },
     "execution_count": 7,
     "metadata": {},
     "output_type": "execute_result"
    }
   ],
   "source": [
    "def draw_example():\n",
    "    quantum_circuit, param_rot, param_enc = build_circuit(n_qubits=3, n_layers=1)\n",
    "    return quantum_circuit\n",
    "draw_example().draw('mpl')"
   ]
  },
  {
   "cell_type": "code",
   "execution_count": 8,
   "metadata": {},
   "outputs": [],
   "source": [
    "class PQC_with_DataReuploading(nn.Module):\n",
    "    def __init__(self, n_qubits, n_layers, output_dim, observables=None, activation='linear'):\n",
    "        super().__init__()\n",
    "        \n",
    "        self.n_qubits = n_qubits\n",
    "        self.n_layers = n_layers\n",
    "        self.output_dim = output_dim\n",
    "        self.activation = activation\n",
    "        \n",
    "        if observables == None:\n",
    "            self.observables = Z^n_qubits\n",
    "        else:\n",
    "            self.observables = observables\n",
    "        \n",
    "        # Build circuits / Parameter Vectors\n",
    "        self.circuit, self.rot_params, self.enc_params = build_circuit(self.n_qubits, self.n_layers)\n",
    "        self.len_rot_params = len(self.rot_params)\n",
    "        self.len_enc_params = len(self.enc_params)\n",
    "        \n",
    "        self.total_params = []\n",
    "        for p in self.rot_params:\n",
    "            self.total_params.append(p)\n",
    "        for p in self.enc_params:\n",
    "            self.total_params.append(p)\n",
    "        \n",
    "        # Initial Parameters for circuit\n",
    "        self.rot_param_vals = nn.Parameter(np.pi * torch.rand(len(self.rot_params)))\n",
    "        self.enc_param_vals = nn.Parameter(torch.ones(len(self.enc_params)))\n",
    "        \n",
    "        # Parameter for circuit output\n",
    "        self.w = nn.Parameter(nn.Parameter(torch.rand(self.output_dim)))\n",
    "        \n",
    "    def forward(self, inputs):\n",
    "        # Input: State values -> Need to insert into Encoding gates with scaling parameters(encoding params)\n",
    "        input_tiled = inputs.tile(self.n_layers)\n",
    "#         print(input_tiled)\n",
    "        input_scaled = self.enc_param_vals * input_tiled\n",
    "        input_params = input_scaled\n",
    "    \n",
    "        \n",
    "        # Make state fucntion & Get expectation value of observable\n",
    "        circ_psi = CircuitStateFn(primitive=self.circuit, coeff=1.)\n",
    "        expectation = ~ circ_psi @ self.observables @ circ_psi\n",
    "        \n",
    "        # Assignn Parameter values\n",
    "        value_dict = {}\n",
    "        for i, p in enumerate(self.rot_params):\n",
    "            value_dict[p] = self.rot_param_vals[i].item()\n",
    "        for i, p in enumerate(self.enc_params):\n",
    "            value_dict[p] = input_params[i].detach().item()\n",
    "            \n",
    "        # Final expectation value\n",
    "        expectation_val = expectation.assign_parameters(value_dict).eval().real\n",
    "        action_exp = torch.tensor(expectation_val) * self.w\n",
    "        action_prob = F.softmax(action_exp, dim=0)\n",
    "        \n",
    "        return action_prob\n",
    "    \n",
    "    def get_grad(self, inputs):\n",
    "        input_tiled = inputs.tile(self.n_layers)\n",
    "        input_scaled = self.enc_param_vals * input_tiled\n",
    "        input_params = input_scaled\n",
    "        \n",
    "        value_dict = {}\n",
    "        for i, p in enumerate(self.rot_params):\n",
    "            value_dict[p] = self.rot_param_vals[i].item()\n",
    "        for i, p in enumerate(self.enc_params):\n",
    "            value_dict[p] = input_params[i].detach().item()\n",
    "        \n",
    "        psi = CircuitStateFn(primitive=self.circuit, coeff=1.)\n",
    "        op = ~StateFn(self.observables) @ psi\n",
    "        grad = Gradient(grad_method='param_shift').convert(operator=op, params=self.total_params)\n",
    "#         grad = Gradient(grad_method='fin_diff').convert(operator=op, params=self.total_params)\n",
    "        grad_val = grad.assign_parameters(value_dict).eval()\n",
    "        rot_grad = torch.tensor([grad_val[i].real for i in range(self.len_rot_params)])\n",
    "        enc_grad = torch.tensor([grad_val[self.len_rot_params + i].real for i in range(self.len_enc_params)])\n",
    "        \n",
    "        expectation = ~ psi @ self.observables @ psi\n",
    "        expectation_val = expectation.assign_parameters(value_dict).eval().real\n",
    "        w_grad = torch.tensor([float(expectation_val)*self.w[i] for i in range(len(self.w))])\n",
    "        return rot_grad, enc_grad, w_grad\n",
    "    \n",
    "    def get_grad2(self, inputs):\n",
    "        input_tiled = inputs.tile(self.n_layers)\n",
    "        input_scaled = self.enc_param_vals * input_tiled\n",
    "        input_params = input_scaled\n",
    "            \n",
    "        circ_psi = CircuitStateFn(primitive=self.circuit, coeff=1.)\n",
    "        expectation = ~ circ_psi @ self.observables @ circ_psi\n",
    "                \n",
    "        value_dict = {}\n",
    "        for i, p in enumerate(self.rot_params):\n",
    "            value_dict[p] = self.rot_param_vals[i].item()\n",
    "        for i, p in enumerate(self.enc_params):\n",
    "            value_dict[p] = input_params[i].detach().item()\n",
    "        \n",
    "        rot_grad = []\n",
    "        for idx in range(self.len_rot_params):\n",
    "\n",
    "            value_dict[self.rot_params[idx]] += np.pi/2\n",
    "            expectation_plus = expectation.assign_parameters(value_dict).eval().real\n",
    "            value_dict[self.rot_params[idx]] -= np.pi\n",
    "            expectation_minus = expectation.assign_parameters(value_dict).eval().real\n",
    "            rot_grad.append(0.5*(expectation_plus - expectation_minus))\n",
    "        \n",
    "        value_dict[self.rot_params[idx]] += np.pi/2\n",
    "        \n",
    "        enc_grad = []\n",
    "        for idx in range(self.len_enc_params):\n",
    "            value_dict = {}\n",
    "            for i, p in enumerate(self.rot_params):\n",
    "                value_dict[p] = self.rot_param_vals[i].item()\n",
    "            for i, p in enumerate(self.enc_params):\n",
    "                value_dict[p] = input_params[i].detach().item()\n",
    "\n",
    "            value_dict[self.enc_params[idx]] += np.pi/2\n",
    "            expectation_plus = expectation.assign_parameters(value_dict).eval().real\n",
    "            value_dict[self.enc_params[idx]] -= np.pi\n",
    "            expectation_minus = expectation.assign_parameters(value_dict).eval().real\n",
    "            enc_grad.append(0.5*(expectation_plus - expectation_minus))\n",
    "        \n",
    "        value_dict[self.enc_params[idx]] += np.pi/2\n",
    "        \n",
    "        expectation = expectation.assign_parameters(value_dict).eval().real\n",
    "        w_grad = torch.tensor([float(expectation)*self.w[i] for i in range(len(self.w))])\n",
    "        \n",
    "        return torch.tensor(rot_grad), torch.tensor(enc_grad), w_grad"
   ]
  },
  {
   "cell_type": "code",
   "execution_count": 9,
   "metadata": {},
   "outputs": [
    {
     "name": "stdout",
     "output_type": "stream",
     "text": [
      "18\n"
     ]
    }
   ],
   "source": [
    "policy = PQC_with_DataReuploading(n_qubits=2, n_layers=2, output_dim=2)"
   ]
  },
  {
   "cell_type": "code",
   "execution_count": 10,
   "metadata": {},
   "outputs": [
    {
     "data": {
      "image/png": "[encoded data removed]",
      "text/plain": [
       "<Figure size 1243.38x144.48 with 1 Axes>"
      ]
     },
     "execution_count": 10,
     "metadata": {},
     "output_type": "execute_result"
    }
   ],
   "source": [
    "policy.circuit.draw('mpl')"
   ]
  },
  {
   "cell_type": "code",
   "execution_count": 11,
   "metadata": {},
   "outputs": [],
   "source": [
    "inputs = torch.tensor([0.5,0.5])"
   ]
  },
  {
   "cell_type": "code",
   "execution_count": 12,
   "metadata": {},
   "outputs": [
    {
     "name": "stdout",
     "output_type": "stream",
     "text": [
      "0.8783032894134521\n"
     ]
    }
   ],
   "source": [
    "s = time.time()\n",
    "policy.get_grad(inputs)\n",
    "print(time.time()-s)"
   ]
  },
  {
   "cell_type": "code",
   "execution_count": 13,
   "metadata": {},
   "outputs": [
    {
     "name": "stdout",
     "output_type": "stream",
     "text": [
      "0.7307181358337402\n"
     ]
    }
   ],
   "source": [
    "s = time.time()\n",
    "policy.get_grad2(inputs)\n",
    "print(time.time()-s)"
   ]
  },
  {
   "cell_type": "markdown",
   "metadata": {},
   "source": [
    "# Make Quantum Agent"
   ]
  },
  {
   "cell_type": "code",
   "execution_count": 14,
   "metadata": {},
   "outputs": [],
   "source": [
    "class QuantumAgent():\n",
    "    def __init__(self, input_state_dim, n_actions, n_layers=1):\n",
    "        self.policy = PQC_with_DataReuploading(n_qubits=input_state_dim, n_layers=n_layers, \n",
    "                                               output_dim=n_actions, observables=None,\n",
    "                                               activation='linear')\n",
    "        self.n_layers = n_layers\n",
    "        self.variational_optim = torch.optim.Adam([self.policy.rot_param_vals], lr=2)\n",
    "        self.encoding_optim = torch.optim.Adam([self.policy.enc_param_vals], lr=2)\n",
    "        self.weight_optim = torch.optim.Adam([self.policy.w], lr=2)\n",
    "        \n",
    "        self.optims = [self.variational_optim, self.encoding_optim, self.weight_optim]\n",
    "        \n",
    "    def get_actions(self, input_state):\n",
    "        return self.policy.forward(input_state)\n",
    "    \n",
    "    def update_policy(self, states, id_action_pairs, returns, action_probs, batch_size):\n",
    "        rot_gradient, enc_gradient, w_gradient = [], [], []\n",
    "        for s in states:\n",
    "            r_grad, e_grad, w_grad = self.policy.get_grad(s)\n",
    "            rot_gradient.append(np.array(r_grad))\n",
    "            enc_gradient.append(np.array(e_grad))\n",
    "            w_gradient.append(np.array(w_grad))\n",
    "        \n",
    "        rot_gradient = torch.from_numpy(np.array(rot_gradient))\n",
    "        enc_gradient = torch.from_numpy(np.array(enc_gradient))\n",
    "        w_gradient = torch.from_numpy(np.array(w_gradient))\n",
    "        \n",
    "        p_actions = torch.tensor([action_probs[id_action_pairs[i][0], id_action_pairs[i][1]] for i in range(action_probs.shape[0])])\n",
    "        action_idxs = id_action_pairs[:,1]\n",
    "        \n",
    "        r_grad, e_grad, w_grad = torch.zeros(rot_gradient.shape[1]), torch.zeros(enc_gradient.shape[1]), torch.zeros(w_gradient.shape[1])\n",
    "        for i in range(len(states)):\n",
    "            r_grad += returns[i] * (rot_gradient[i]*self.policy.w[action_idxs[i]] \n",
    "                                    - torch.sum(p_actions[i]*self.policy.w)*rot_gradient[i])\n",
    "   \n",
    "            input_scaled = self.policy.enc_param_vals * states[i].tile(self.n_layers)\n",
    "            e_grad +=  returns[i] * (enc_gradient[i]*self.policy.w[action_idxs[i]] \n",
    "                                     - input_scaled * torch.sum(p_actions[i]*self.policy.w)*enc_gradient[i])\n",
    "            \n",
    "            w_grad += returns[i] * (w_gradient[i]*self.policy.w[action_idxs[i]] \n",
    "                                    - torch.sum(p_actions[i]*self.policy.w)*w_gradient[i])\n",
    "        \n",
    "        for opt in self.optims:\n",
    "            opt.zero_grad()\n",
    "        self.policy.rot_param_vals.grad = r_grad / batch_size\n",
    "        self.policy.enc_param_vals.grad = e_grad / batch_size\n",
    "        self.policy.w.grad = w_grad / batch_size\n",
    "                \n",
    "        self.variational_optim.step()\n",
    "        self.encoding_optim.step()\n",
    "        self.weight_optim.step()\n",
    "        \n",
    "        \n",
    "#     def update_policy(self, states, id_action_pairs, returns, action_probs, batch_size):\n",
    "#         rot_gradient, enc_gradient, w_gradient = [], [], []\n",
    "#         for s in states:\n",
    "#             r_grad, e_grad, w_grad = self.policy.get_grad(s)\n",
    "#             rot_gradient.append(np.array(r_grad))\n",
    "#             enc_gradient.append(np.array(e_grad))\n",
    "#             w_gradient.append(np.array(w_grad))\n",
    "#         rot_gradient = torch.mean(torch.from_numpy(np.array(rot_gradient)), dim=0)\n",
    "#         enc_gradient = torch.mean(torch.from_numpy(np.array(enc_gradient)), dim=0)\n",
    "#         w_gradient = torch.mean(torch.from_numpy(np.array(w_gradient)), dim=0)\n",
    "        \n",
    "#         p_actions = torch.tensor([action_probs[id_action_pairs[i][0], id_action_pairs[i][1]] for i in range(action_probs.shape[0])])\n",
    "#         log_probs = torch.log(p_actions)\n",
    "#         loss = torch.sum(-log_probs * returns) / batch_size\n",
    "        \n",
    "#         for opt in self.optims:\n",
    "#             opt.zero_grad()\n",
    "        \n",
    "#         self.policy.rot_param_vals.grad = loss * rot_gradient\n",
    "#         self.policy.enc_param_vals.grad = loss * enc_gradient\n",
    "#         self.policy.w.grad = loss * w_gradient\n",
    "                \n",
    "#         self.variational_optim.step()\n",
    "#         self.encoding_optim.step()\n",
    "#         self.weight_optim.step()"
   ]
  },
  {
   "cell_type": "code",
   "execution_count": 22,
   "metadata": {},
   "outputs": [
    {
     "name": "stdout",
     "output_type": "stream",
     "text": [
      "torch.float32\n",
      "torch.float32\n",
      "torch.float32\n"
     ]
    }
   ],
   "source": [
    "\n",
    "print(agent.policy.rot_param_vals.dtype)\n",
    "print(agent.policy.enc_param_vals.dtype)\n",
    "print(agent.policy.w.dtype)"
   ]
  },
  {
   "cell_type": "code",
   "execution_count": 15,
   "metadata": {},
   "outputs": [
    {
     "name": "stdout",
     "output_type": "stream",
     "text": [
      "18\n"
     ]
    }
   ],
   "source": [
    "n_qubits = 2 # Dimension of the state vectors in CartPole\n",
    "n_layers = 2\n",
    "n_actions = 2 # Number of actions in CartPole\n",
    "agent = QuantumAgent(input_state_dim = n_qubits, n_actions=n_actions, n_layers=n_layers)"
   ]
  },
  {
   "cell_type": "markdown",
   "metadata": {},
   "source": [
    "# Run Episodes and Update Policy"
   ]
  },
  {
   "cell_type": "code",
   "execution_count": 16,
   "metadata": {},
   "outputs": [],
   "source": [
    "def gather_episodes(state_bounds, n_actions, agent, n_episodes, env_name):\n",
    "    \"\"\"Interact with environment in batched fashion.\"\"\"\n",
    "\n",
    "    trajectories = [defaultdict(list) for _ in range(n_episodes)]\n",
    "    envs = [Curling() for _ in range(n_episodes)]\n",
    "    #envs = [gym.make(env_name) for _ in range(n_episodes)]\n",
    "\n",
    "    done = [False for _ in range(n_episodes)]\n",
    "    states = [e.reset() for e in envs]\n",
    "\n",
    "    while not all(done):\n",
    "        unfinished_ids = [i for i in range(n_episodes) if not done[i]]\n",
    "        normalized_states = [s/state_bounds for i, s in enumerate(states) if not done[i]]\n",
    "\n",
    "        for i, state in zip(unfinished_ids, normalized_states):\n",
    "            trajectories[i]['states'].append(state)\n",
    "\n",
    "        states = torch.from_numpy(np.array(normalized_states))\n",
    "        action_probs = torch.from_numpy(np.array([agent.get_actions(states[i]).detach().numpy() for i in range(len(states))]))\n",
    "\n",
    "        # Store action and transition all environments to the next state\n",
    "        states = [None for i in range(n_episodes)]\n",
    "        for i, action_prob in zip(unfinished_ids, action_probs.numpy()):\n",
    "            action = np.random.choice(n_actions, p=action_prob)\n",
    "            states[i], reward, done[i], _ = envs[i].step(action)\n",
    "            trajectories[i]['actions'].append(action)\n",
    "            trajectories[i]['rewards'].append(reward)\n",
    "            trajectories[i]['action probs'].append(action_prob)\n",
    "\n",
    "    return trajectories\n",
    "\n",
    "def compute_returns(rewards_history, gamma):\n",
    "    \"\"\"Compute discounted returns with discount factor `gamma`.\"\"\"\n",
    "    returns = []\n",
    "    discounted_sum = 0\n",
    "    for r in rewards_history[::-1]:\n",
    "        discounted_sum = r + gamma * discounted_sum\n",
    "        returns.insert(0, discounted_sum)\n",
    "\n",
    "    # Normalize them for faster and more stable learning\n",
    "    returns = np.array(returns)\n",
    "    returns = (returns - np.mean(returns)) / (np.std(returns) + 1e-8)\n",
    "    returns = returns.tolist()\n",
    "\n",
    "    return returns"
   ]
  },
  {
   "cell_type": "code",
   "execution_count": 19,
   "metadata": {},
   "outputs": [],
   "source": [
    "env_name = \"Curling\"\n",
    "state_bounds = np.array([3,1])\n",
    "gamma = 1\n",
    "batch_size = 10\n",
    "n_episodes = 1000"
   ]
  },
  {
   "cell_type": "code",
   "execution_count": 20,
   "metadata": {},
   "outputs": [
    {
     "data": {
      "application/vnd.jupyter.widget-view+json": {
       "model_id": "3898235c04fa41cc949348dcfdd73a3b",
       "version_major": 2,
       "version_minor": 0
      },
      "text/plain": [
       "  0%|          | 0/100 [00:00<?, ?it/s]"
      ]
     },
     "metadata": {},
     "output_type": "display_data"
    },
    {
     "name": "stdout",
     "output_type": "stream",
     "text": [
      "Finished episode 10 Average rewards:  0.5\n",
      "Finished episode 20 Average rewards:  0.5\n",
      "Finished episode 30 Average rewards:  0.4\n",
      "Finished episode 40 Average rewards:  0.8\n",
      "Finished episode 50 Average rewards:  0.6\n",
      "Finished episode 60 Average rewards:  0.4\n",
      "Finished episode 70 Average rewards:  0.2\n",
      "Finished episode 80 Average rewards:  0.3\n",
      "Finished episode 90 Average rewards:  0.5\n",
      "Finished episode 100 Average rewards:  0.6\n",
      "Finished episode 110 Average rewards:  0.1\n",
      "Finished episode 120 Average rewards:  0.4\n",
      "Finished episode 130 Average rewards:  0.6\n",
      "Finished episode 140 Average rewards:  0.5\n",
      "Finished episode 150 Average rewards:  0.6\n",
      "Finished episode 160 Average rewards:  0.4\n",
      "Finished episode 170 Average rewards:  0.5\n",
      "Finished episode 180 Average rewards:  0.2\n",
      "Finished episode 190 Average rewards:  0.4\n",
      "Finished episode 200 Average rewards:  0.3\n",
      "Finished episode 210 Average rewards:  0.5\n"
     ]
    },
    {
     "ename": "KeyboardInterrupt",
     "evalue": "",
     "output_type": "error",
     "traceback": [
      "\u001b[1;31m---------------------------------------------------------------------------\u001b[0m",
      "\u001b[1;31mKeyboardInterrupt\u001b[0m                         Traceback (most recent call last)",
      "\u001b[1;32m<ipython-input-20-d966a57c4451>\u001b[0m in \u001b[0;36m<module>\u001b[1;34m\u001b[0m\n\u001b[0;32m     16\u001b[0m \u001b[1;33m\u001b[0m\u001b[0m\n\u001b[0;32m     17\u001b[0m     \u001b[1;31m# Update model parameters.\u001b[0m\u001b[1;33m\u001b[0m\u001b[1;33m\u001b[0m\u001b[1;33m\u001b[0m\u001b[0m\n\u001b[1;32m---> 18\u001b[1;33m     \u001b[0magent\u001b[0m\u001b[1;33m.\u001b[0m\u001b[0mupdate_policy\u001b[0m\u001b[1;33m(\u001b[0m\u001b[0mstates\u001b[0m\u001b[1;33m,\u001b[0m \u001b[0mid_action_pairs\u001b[0m\u001b[1;33m,\u001b[0m \u001b[0mreturns\u001b[0m\u001b[1;33m,\u001b[0m \u001b[0maction_probs\u001b[0m\u001b[1;33m,\u001b[0m \u001b[0mbatch_size\u001b[0m\u001b[1;33m)\u001b[0m\u001b[1;33m\u001b[0m\u001b[1;33m\u001b[0m\u001b[0m\n\u001b[0m\u001b[0;32m     19\u001b[0m \u001b[1;33m\u001b[0m\u001b[0m\n\u001b[0;32m     20\u001b[0m     \u001b[1;31m# Store collected rewards\u001b[0m\u001b[1;33m\u001b[0m\u001b[1;33m\u001b[0m\u001b[1;33m\u001b[0m\u001b[0m\n",
      "\u001b[1;32m<ipython-input-14-2e028faeab67>\u001b[0m in \u001b[0;36mupdate_policy\u001b[1;34m(self, states, id_action_pairs, returns, action_probs, batch_size)\u001b[0m\n\u001b[0;32m     17\u001b[0m         \u001b[0mrot_gradient\u001b[0m\u001b[1;33m,\u001b[0m \u001b[0menc_gradient\u001b[0m\u001b[1;33m,\u001b[0m \u001b[0mw_gradient\u001b[0m \u001b[1;33m=\u001b[0m \u001b[1;33m[\u001b[0m\u001b[1;33m]\u001b[0m\u001b[1;33m,\u001b[0m \u001b[1;33m[\u001b[0m\u001b[1;33m]\u001b[0m\u001b[1;33m,\u001b[0m \u001b[1;33m[\u001b[0m\u001b[1;33m]\u001b[0m\u001b[1;33m\u001b[0m\u001b[1;33m\u001b[0m\u001b[0m\n\u001b[0;32m     18\u001b[0m         \u001b[1;32mfor\u001b[0m \u001b[0ms\u001b[0m \u001b[1;32min\u001b[0m \u001b[0mstates\u001b[0m\u001b[1;33m:\u001b[0m\u001b[1;33m\u001b[0m\u001b[1;33m\u001b[0m\u001b[0m\n\u001b[1;32m---> 19\u001b[1;33m             \u001b[0mr_grad\u001b[0m\u001b[1;33m,\u001b[0m \u001b[0me_grad\u001b[0m\u001b[1;33m,\u001b[0m \u001b[0mw_grad\u001b[0m \u001b[1;33m=\u001b[0m \u001b[0mself\u001b[0m\u001b[1;33m.\u001b[0m\u001b[0mpolicy\u001b[0m\u001b[1;33m.\u001b[0m\u001b[0mget_grad\u001b[0m\u001b[1;33m(\u001b[0m\u001b[0ms\u001b[0m\u001b[1;33m)\u001b[0m\u001b[1;33m\u001b[0m\u001b[1;33m\u001b[0m\u001b[0m\n\u001b[0m\u001b[0;32m     20\u001b[0m             \u001b[0mrot_gradient\u001b[0m\u001b[1;33m.\u001b[0m\u001b[0mappend\u001b[0m\u001b[1;33m(\u001b[0m\u001b[0mnp\u001b[0m\u001b[1;33m.\u001b[0m\u001b[0marray\u001b[0m\u001b[1;33m(\u001b[0m\u001b[0mr_grad\u001b[0m\u001b[1;33m)\u001b[0m\u001b[1;33m)\u001b[0m\u001b[1;33m\u001b[0m\u001b[1;33m\u001b[0m\u001b[0m\n\u001b[0;32m     21\u001b[0m             \u001b[0menc_gradient\u001b[0m\u001b[1;33m.\u001b[0m\u001b[0mappend\u001b[0m\u001b[1;33m(\u001b[0m\u001b[0mnp\u001b[0m\u001b[1;33m.\u001b[0m\u001b[0marray\u001b[0m\u001b[1;33m(\u001b[0m\u001b[0me_grad\u001b[0m\u001b[1;33m)\u001b[0m\u001b[1;33m)\u001b[0m\u001b[1;33m\u001b[0m\u001b[1;33m\u001b[0m\u001b[0m\n",
      "\u001b[1;32m<ipython-input-8-c343670ec452>\u001b[0m in \u001b[0;36mget_grad\u001b[1;34m(self, inputs)\u001b[0m\n\u001b[0;32m     72\u001b[0m         \u001b[0mgrad\u001b[0m \u001b[1;33m=\u001b[0m \u001b[0mGradient\u001b[0m\u001b[1;33m(\u001b[0m\u001b[0mgrad_method\u001b[0m\u001b[1;33m=\u001b[0m\u001b[1;34m'param_shift'\u001b[0m\u001b[1;33m)\u001b[0m\u001b[1;33m.\u001b[0m\u001b[0mconvert\u001b[0m\u001b[1;33m(\u001b[0m\u001b[0moperator\u001b[0m\u001b[1;33m=\u001b[0m\u001b[0mop\u001b[0m\u001b[1;33m,\u001b[0m \u001b[0mparams\u001b[0m\u001b[1;33m=\u001b[0m\u001b[0mself\u001b[0m\u001b[1;33m.\u001b[0m\u001b[0mtotal_params\u001b[0m\u001b[1;33m)\u001b[0m\u001b[1;33m\u001b[0m\u001b[1;33m\u001b[0m\u001b[0m\n\u001b[0;32m     73\u001b[0m \u001b[1;31m#         grad = Gradient(grad_method='fin_diff').convert(operator=op, params=self.total_params)\u001b[0m\u001b[1;33m\u001b[0m\u001b[1;33m\u001b[0m\u001b[1;33m\u001b[0m\u001b[0m\n\u001b[1;32m---> 74\u001b[1;33m         \u001b[0mgrad_val\u001b[0m \u001b[1;33m=\u001b[0m \u001b[0mgrad\u001b[0m\u001b[1;33m.\u001b[0m\u001b[0massign_parameters\u001b[0m\u001b[1;33m(\u001b[0m\u001b[0mvalue_dict\u001b[0m\u001b[1;33m)\u001b[0m\u001b[1;33m.\u001b[0m\u001b[0meval\u001b[0m\u001b[1;33m(\u001b[0m\u001b[1;33m)\u001b[0m\u001b[1;33m\u001b[0m\u001b[1;33m\u001b[0m\u001b[0m\n\u001b[0m\u001b[0;32m     75\u001b[0m         \u001b[0mrot_grad\u001b[0m \u001b[1;33m=\u001b[0m \u001b[0mtorch\u001b[0m\u001b[1;33m.\u001b[0m\u001b[0mtensor\u001b[0m\u001b[1;33m(\u001b[0m\u001b[1;33m[\u001b[0m\u001b[0mgrad_val\u001b[0m\u001b[1;33m[\u001b[0m\u001b[0mi\u001b[0m\u001b[1;33m]\u001b[0m\u001b[1;33m.\u001b[0m\u001b[0mreal\u001b[0m \u001b[1;32mfor\u001b[0m \u001b[0mi\u001b[0m \u001b[1;32min\u001b[0m \u001b[0mrange\u001b[0m\u001b[1;33m(\u001b[0m\u001b[0mself\u001b[0m\u001b[1;33m.\u001b[0m\u001b[0mlen_rot_params\u001b[0m\u001b[1;33m)\u001b[0m\u001b[1;33m]\u001b[0m\u001b[1;33m)\u001b[0m\u001b[1;33m\u001b[0m\u001b[1;33m\u001b[0m\u001b[0m\n\u001b[0;32m     76\u001b[0m         \u001b[0menc_grad\u001b[0m \u001b[1;33m=\u001b[0m \u001b[0mtorch\u001b[0m\u001b[1;33m.\u001b[0m\u001b[0mtensor\u001b[0m\u001b[1;33m(\u001b[0m\u001b[1;33m[\u001b[0m\u001b[0mgrad_val\u001b[0m\u001b[1;33m[\u001b[0m\u001b[0mself\u001b[0m\u001b[1;33m.\u001b[0m\u001b[0mlen_rot_params\u001b[0m \u001b[1;33m+\u001b[0m \u001b[0mi\u001b[0m\u001b[1;33m]\u001b[0m\u001b[1;33m.\u001b[0m\u001b[0mreal\u001b[0m \u001b[1;32mfor\u001b[0m \u001b[0mi\u001b[0m \u001b[1;32min\u001b[0m \u001b[0mrange\u001b[0m\u001b[1;33m(\u001b[0m\u001b[0mself\u001b[0m\u001b[1;33m.\u001b[0m\u001b[0mlen_enc_params\u001b[0m\u001b[1;33m)\u001b[0m\u001b[1;33m]\u001b[0m\u001b[1;33m)\u001b[0m\u001b[1;33m\u001b[0m\u001b[1;33m\u001b[0m\u001b[0m\n",
      "\u001b[1;32m~\\Anaconda3\\lib\\site-packages\\qiskit\\opflow\\list_ops\\list_op.py\u001b[0m in \u001b[0;36meval\u001b[1;34m(self, front)\u001b[0m\n\u001b[0;32m    431\u001b[0m             )\n\u001b[0;32m    432\u001b[0m \u001b[1;33m\u001b[0m\u001b[0m\n\u001b[1;32m--> 433\u001b[1;33m         \u001b[0mevals\u001b[0m \u001b[1;33m=\u001b[0m \u001b[1;33m[\u001b[0m\u001b[0mop\u001b[0m\u001b[1;33m.\u001b[0m\u001b[0meval\u001b[0m\u001b[1;33m(\u001b[0m\u001b[0mfront\u001b[0m\u001b[1;33m)\u001b[0m \u001b[1;32mfor\u001b[0m \u001b[0mop\u001b[0m \u001b[1;32min\u001b[0m \u001b[0mself\u001b[0m\u001b[1;33m.\u001b[0m\u001b[0moplist\u001b[0m\u001b[1;33m]\u001b[0m\u001b[1;33m\u001b[0m\u001b[1;33m\u001b[0m\u001b[0m\n\u001b[0m\u001b[0;32m    434\u001b[0m \u001b[1;33m\u001b[0m\u001b[0m\n\u001b[0;32m    435\u001b[0m         \u001b[1;31m# Handle application of combo_fn for DictStateFn resp VectorStateFn operators\u001b[0m\u001b[1;33m\u001b[0m\u001b[1;33m\u001b[0m\u001b[1;33m\u001b[0m\u001b[0m\n",
      "\u001b[1;32m~\\Anaconda3\\lib\\site-packages\\qiskit\\opflow\\list_ops\\list_op.py\u001b[0m in \u001b[0;36m<listcomp>\u001b[1;34m(.0)\u001b[0m\n\u001b[0;32m    431\u001b[0m             )\n\u001b[0;32m    432\u001b[0m \u001b[1;33m\u001b[0m\u001b[0m\n\u001b[1;32m--> 433\u001b[1;33m         \u001b[0mevals\u001b[0m \u001b[1;33m=\u001b[0m \u001b[1;33m[\u001b[0m\u001b[0mop\u001b[0m\u001b[1;33m.\u001b[0m\u001b[0meval\u001b[0m\u001b[1;33m(\u001b[0m\u001b[0mfront\u001b[0m\u001b[1;33m)\u001b[0m \u001b[1;32mfor\u001b[0m \u001b[0mop\u001b[0m \u001b[1;32min\u001b[0m \u001b[0mself\u001b[0m\u001b[1;33m.\u001b[0m\u001b[0moplist\u001b[0m\u001b[1;33m]\u001b[0m\u001b[1;33m\u001b[0m\u001b[1;33m\u001b[0m\u001b[0m\n\u001b[0m\u001b[0;32m    434\u001b[0m \u001b[1;33m\u001b[0m\u001b[0m\n\u001b[0;32m    435\u001b[0m         \u001b[1;31m# Handle application of combo_fn for DictStateFn resp VectorStateFn operators\u001b[0m\u001b[1;33m\u001b[0m\u001b[1;33m\u001b[0m\u001b[1;33m\u001b[0m\u001b[0m\n",
      "\u001b[1;32m~\\Anaconda3\\lib\\site-packages\\qiskit\\opflow\\list_ops\\list_op.py\u001b[0m in \u001b[0;36meval\u001b[1;34m(self, front)\u001b[0m\n\u001b[0;32m    431\u001b[0m             )\n\u001b[0;32m    432\u001b[0m \u001b[1;33m\u001b[0m\u001b[0m\n\u001b[1;32m--> 433\u001b[1;33m         \u001b[0mevals\u001b[0m \u001b[1;33m=\u001b[0m \u001b[1;33m[\u001b[0m\u001b[0mop\u001b[0m\u001b[1;33m.\u001b[0m\u001b[0meval\u001b[0m\u001b[1;33m(\u001b[0m\u001b[0mfront\u001b[0m\u001b[1;33m)\u001b[0m \u001b[1;32mfor\u001b[0m \u001b[0mop\u001b[0m \u001b[1;32min\u001b[0m \u001b[0mself\u001b[0m\u001b[1;33m.\u001b[0m\u001b[0moplist\u001b[0m\u001b[1;33m]\u001b[0m\u001b[1;33m\u001b[0m\u001b[1;33m\u001b[0m\u001b[0m\n\u001b[0m\u001b[0;32m    434\u001b[0m \u001b[1;33m\u001b[0m\u001b[0m\n\u001b[0;32m    435\u001b[0m         \u001b[1;31m# Handle application of combo_fn for DictStateFn resp VectorStateFn operators\u001b[0m\u001b[1;33m\u001b[0m\u001b[1;33m\u001b[0m\u001b[1;33m\u001b[0m\u001b[0m\n",
      "\u001b[1;32m~\\Anaconda3\\lib\\site-packages\\qiskit\\opflow\\list_ops\\list_op.py\u001b[0m in \u001b[0;36m<listcomp>\u001b[1;34m(.0)\u001b[0m\n\u001b[0;32m    431\u001b[0m             )\n\u001b[0;32m    432\u001b[0m \u001b[1;33m\u001b[0m\u001b[0m\n\u001b[1;32m--> 433\u001b[1;33m         \u001b[0mevals\u001b[0m \u001b[1;33m=\u001b[0m \u001b[1;33m[\u001b[0m\u001b[0mop\u001b[0m\u001b[1;33m.\u001b[0m\u001b[0meval\u001b[0m\u001b[1;33m(\u001b[0m\u001b[0mfront\u001b[0m\u001b[1;33m)\u001b[0m \u001b[1;32mfor\u001b[0m \u001b[0mop\u001b[0m \u001b[1;32min\u001b[0m \u001b[0mself\u001b[0m\u001b[1;33m.\u001b[0m\u001b[0moplist\u001b[0m\u001b[1;33m]\u001b[0m\u001b[1;33m\u001b[0m\u001b[1;33m\u001b[0m\u001b[0m\n\u001b[0m\u001b[0;32m    434\u001b[0m \u001b[1;33m\u001b[0m\u001b[0m\n\u001b[0;32m    435\u001b[0m         \u001b[1;31m# Handle application of combo_fn for DictStateFn resp VectorStateFn operators\u001b[0m\u001b[1;33m\u001b[0m\u001b[1;33m\u001b[0m\u001b[1;33m\u001b[0m\u001b[0m\n",
      "\u001b[1;32m~\\Anaconda3\\lib\\site-packages\\qiskit\\opflow\\list_ops\\composed_op.py\u001b[0m in \u001b[0;36meval\u001b[1;34m(self, front)\u001b[0m\n\u001b[0;32m    139\u001b[0m             \u001b[0meval_list\u001b[0m \u001b[1;33m=\u001b[0m \u001b[1;33m[\u001b[0m\u001b[0mStateFn\u001b[0m\u001b[1;33m(\u001b[0m\u001b[0mfront\u001b[0m\u001b[1;33m,\u001b[0m \u001b[0mis_measurement\u001b[0m\u001b[1;33m=\u001b[0m\u001b[1;32mTrue\u001b[0m\u001b[1;33m)\u001b[0m\u001b[1;33m]\u001b[0m \u001b[1;33m+\u001b[0m \u001b[0meval_list\u001b[0m  \u001b[1;31m# type: ignore\u001b[0m\u001b[1;33m\u001b[0m\u001b[1;33m\u001b[0m\u001b[0m\n\u001b[0;32m    140\u001b[0m \u001b[1;33m\u001b[0m\u001b[0m\n\u001b[1;32m--> 141\u001b[1;33m         \u001b[1;32mreturn\u001b[0m \u001b[0mreduce\u001b[0m\u001b[1;33m(\u001b[0m\u001b[0mtree_recursive_eval\u001b[0m\u001b[1;33m,\u001b[0m \u001b[0mreversed\u001b[0m\u001b[1;33m(\u001b[0m\u001b[0meval_list\u001b[0m\u001b[1;33m)\u001b[0m\u001b[1;33m)\u001b[0m\u001b[1;33m\u001b[0m\u001b[1;33m\u001b[0m\u001b[0m\n\u001b[0m\u001b[0;32m    142\u001b[0m \u001b[1;33m\u001b[0m\u001b[0m\n\u001b[0;32m    143\u001b[0m     \u001b[1;31m# Try collapsing list or trees of compositions into a single <Measurement | Op | State>.\u001b[0m\u001b[1;33m\u001b[0m\u001b[1;33m\u001b[0m\u001b[1;33m\u001b[0m\u001b[0m\n",
      "\u001b[1;32m~\\Anaconda3\\lib\\site-packages\\qiskit\\opflow\\list_ops\\composed_op.py\u001b[0m in \u001b[0;36mtree_recursive_eval\u001b[1;34m(r, l_arg)\u001b[0m\n\u001b[0;32m    129\u001b[0m                 \u001b[1;32mreturn\u001b[0m \u001b[1;33m[\u001b[0m\u001b[0mtree_recursive_eval\u001b[0m\u001b[1;33m(\u001b[0m\u001b[0mr_op\u001b[0m\u001b[1;33m,\u001b[0m \u001b[0ml_arg\u001b[0m\u001b[1;33m)\u001b[0m \u001b[1;32mfor\u001b[0m \u001b[0mr_op\u001b[0m \u001b[1;32min\u001b[0m \u001b[0mr\u001b[0m\u001b[1;33m]\u001b[0m\u001b[1;33m\u001b[0m\u001b[1;33m\u001b[0m\u001b[0m\n\u001b[0;32m    130\u001b[0m             \u001b[1;32melse\u001b[0m\u001b[1;33m:\u001b[0m\u001b[1;33m\u001b[0m\u001b[1;33m\u001b[0m\u001b[0m\n\u001b[1;32m--> 131\u001b[1;33m                 \u001b[1;32mreturn\u001b[0m \u001b[0ml_arg\u001b[0m\u001b[1;33m.\u001b[0m\u001b[0meval\u001b[0m\u001b[1;33m(\u001b[0m\u001b[0mr\u001b[0m\u001b[1;33m)\u001b[0m\u001b[1;33m\u001b[0m\u001b[1;33m\u001b[0m\u001b[0m\n\u001b[0m\u001b[0;32m    132\u001b[0m \u001b[1;33m\u001b[0m\u001b[0m\n\u001b[0;32m    133\u001b[0m         \u001b[0meval_list\u001b[0m \u001b[1;33m=\u001b[0m \u001b[0mself\u001b[0m\u001b[1;33m.\u001b[0m\u001b[0moplist\u001b[0m\u001b[1;33m.\u001b[0m\u001b[0mcopy\u001b[0m\u001b[1;33m(\u001b[0m\u001b[1;33m)\u001b[0m\u001b[1;33m\u001b[0m\u001b[1;33m\u001b[0m\u001b[0m\n",
      "\u001b[1;32m~\\Anaconda3\\lib\\site-packages\\qiskit\\opflow\\state_fns\\operator_state_fn.py\u001b[0m in \u001b[0;36meval\u001b[1;34m(self, front)\u001b[0m\n\u001b[0;32m    247\u001b[0m         \u001b[1;31m# make sure to only do the expensive circuit simulation once\u001b[0m\u001b[1;33m\u001b[0m\u001b[1;33m\u001b[0m\u001b[1;33m\u001b[0m\u001b[0m\n\u001b[0;32m    248\u001b[0m         \u001b[1;32mif\u001b[0m \u001b[0misinstance\u001b[0m\u001b[1;33m(\u001b[0m\u001b[0mfront\u001b[0m\u001b[1;33m,\u001b[0m \u001b[0mCircuitStateFn\u001b[0m\u001b[1;33m)\u001b[0m\u001b[1;33m:\u001b[0m\u001b[1;33m\u001b[0m\u001b[1;33m\u001b[0m\u001b[0m\n\u001b[1;32m--> 249\u001b[1;33m             \u001b[0mfront\u001b[0m \u001b[1;33m=\u001b[0m \u001b[0mfront\u001b[0m\u001b[1;33m.\u001b[0m\u001b[0meval\u001b[0m\u001b[1;33m(\u001b[0m\u001b[1;33m)\u001b[0m\u001b[1;33m\u001b[0m\u001b[1;33m\u001b[0m\u001b[0m\n\u001b[0m\u001b[0;32m    250\u001b[0m \u001b[1;33m\u001b[0m\u001b[0m\n\u001b[0;32m    251\u001b[0m         \u001b[1;32mreturn\u001b[0m \u001b[0mfront\u001b[0m\u001b[1;33m.\u001b[0m\u001b[0madjoint\u001b[0m\u001b[1;33m(\u001b[0m\u001b[1;33m)\u001b[0m\u001b[1;33m.\u001b[0m\u001b[0meval\u001b[0m\u001b[1;33m(\u001b[0m\u001b[0mcast\u001b[0m\u001b[1;33m(\u001b[0m\u001b[0mOperatorBase\u001b[0m\u001b[1;33m,\u001b[0m \u001b[0mself\u001b[0m\u001b[1;33m.\u001b[0m\u001b[0mprimitive\u001b[0m\u001b[1;33m.\u001b[0m\u001b[0meval\u001b[0m\u001b[1;33m(\u001b[0m\u001b[0mfront\u001b[0m\u001b[1;33m)\u001b[0m\u001b[1;33m)\u001b[0m\u001b[1;33m)\u001b[0m \u001b[1;33m*\u001b[0m \u001b[0mself\u001b[0m\u001b[1;33m.\u001b[0m\u001b[0mcoeff\u001b[0m\u001b[1;33m\u001b[0m\u001b[1;33m\u001b[0m\u001b[0m\n",
      "\u001b[1;32m~\\Anaconda3\\lib\\site-packages\\qiskit\\opflow\\state_fns\\circuit_state_fn.py\u001b[0m in \u001b[0;36meval\u001b[1;34m(self, front)\u001b[0m\n\u001b[0;32m    307\u001b[0m     ) -> Union[OperatorBase, complex]:\n\u001b[0;32m    308\u001b[0m         \u001b[1;32mif\u001b[0m \u001b[0mfront\u001b[0m \u001b[1;32mis\u001b[0m \u001b[1;32mNone\u001b[0m\u001b[1;33m:\u001b[0m\u001b[1;33m\u001b[0m\u001b[1;33m\u001b[0m\u001b[0m\n\u001b[1;32m--> 309\u001b[1;33m             \u001b[0mvector_state_fn\u001b[0m \u001b[1;33m=\u001b[0m \u001b[0mself\u001b[0m\u001b[1;33m.\u001b[0m\u001b[0mto_matrix_op\u001b[0m\u001b[1;33m(\u001b[0m\u001b[1;33m)\u001b[0m\u001b[1;33m.\u001b[0m\u001b[0meval\u001b[0m\u001b[1;33m(\u001b[0m\u001b[1;33m)\u001b[0m\u001b[1;33m\u001b[0m\u001b[1;33m\u001b[0m\u001b[0m\n\u001b[0m\u001b[0;32m    310\u001b[0m             \u001b[1;32mreturn\u001b[0m \u001b[0mvector_state_fn\u001b[0m\u001b[1;33m\u001b[0m\u001b[1;33m\u001b[0m\u001b[0m\n\u001b[0;32m    311\u001b[0m \u001b[1;33m\u001b[0m\u001b[0m\n",
      "\u001b[1;32m~\\Anaconda3\\lib\\site-packages\\qiskit\\opflow\\state_fns\\state_fn.py\u001b[0m in \u001b[0;36mto_matrix_op\u001b[1;34m(self, massive)\u001b[0m\n\u001b[0;32m    427\u001b[0m         \u001b[1;32mfrom\u001b[0m \u001b[1;33m.\u001b[0m\u001b[0mvector_state_fn\u001b[0m \u001b[1;32mimport\u001b[0m \u001b[0mVectorStateFn\u001b[0m\u001b[1;33m\u001b[0m\u001b[1;33m\u001b[0m\u001b[0m\n\u001b[0;32m    428\u001b[0m \u001b[1;33m\u001b[0m\u001b[0m\n\u001b[1;32m--> 429\u001b[1;33m         \u001b[1;32mreturn\u001b[0m \u001b[0mVectorStateFn\u001b[0m\u001b[1;33m(\u001b[0m\u001b[0mself\u001b[0m\u001b[1;33m.\u001b[0m\u001b[0mto_matrix\u001b[0m\u001b[1;33m(\u001b[0m\u001b[0mmassive\u001b[0m\u001b[1;33m=\u001b[0m\u001b[0mmassive\u001b[0m\u001b[1;33m)\u001b[0m\u001b[1;33m,\u001b[0m \u001b[0mis_measurement\u001b[0m\u001b[1;33m=\u001b[0m\u001b[0mself\u001b[0m\u001b[1;33m.\u001b[0m\u001b[0mis_measurement\u001b[0m\u001b[1;33m)\u001b[0m\u001b[1;33m\u001b[0m\u001b[1;33m\u001b[0m\u001b[0m\n\u001b[0m\u001b[0;32m    430\u001b[0m \u001b[1;33m\u001b[0m\u001b[0m\n\u001b[0;32m    431\u001b[0m     \u001b[1;32mdef\u001b[0m \u001b[0mto_circuit_op\u001b[0m\u001b[1;33m(\u001b[0m\u001b[0mself\u001b[0m\u001b[1;33m)\u001b[0m \u001b[1;33m->\u001b[0m \u001b[0mOperatorBase\u001b[0m\u001b[1;33m:\u001b[0m\u001b[1;33m\u001b[0m\u001b[1;33m\u001b[0m\u001b[0m\n",
      "\u001b[1;32m~\\Anaconda3\\lib\\site-packages\\qiskit\\opflow\\state_fns\\circuit_state_fn.py\u001b[0m in \u001b[0;36mto_matrix\u001b[1;34m(self, massive)\u001b[0m\n\u001b[0;32m    259\u001b[0m         \u001b[0mstatevector_backend\u001b[0m \u001b[1;33m=\u001b[0m \u001b[0mBasicAer\u001b[0m\u001b[1;33m.\u001b[0m\u001b[0mget_backend\u001b[0m\u001b[1;33m(\u001b[0m\u001b[1;34m\"statevector_simulator\"\u001b[0m\u001b[1;33m)\u001b[0m\u001b[1;33m\u001b[0m\u001b[1;33m\u001b[0m\u001b[0m\n\u001b[0;32m    260\u001b[0m         \u001b[0mtranspiled\u001b[0m \u001b[1;33m=\u001b[0m \u001b[0mtranspile\u001b[0m\u001b[1;33m(\u001b[0m\u001b[0mqc\u001b[0m\u001b[1;33m,\u001b[0m \u001b[0mstatevector_backend\u001b[0m\u001b[1;33m,\u001b[0m \u001b[0moptimization_level\u001b[0m\u001b[1;33m=\u001b[0m\u001b[1;36m0\u001b[0m\u001b[1;33m)\u001b[0m\u001b[1;33m\u001b[0m\u001b[1;33m\u001b[0m\u001b[0m\n\u001b[1;32m--> 261\u001b[1;33m         \u001b[0mstatevector\u001b[0m \u001b[1;33m=\u001b[0m \u001b[0mstatevector_backend\u001b[0m\u001b[1;33m.\u001b[0m\u001b[0mrun\u001b[0m\u001b[1;33m(\u001b[0m\u001b[0mtranspiled\u001b[0m\u001b[1;33m)\u001b[0m\u001b[1;33m.\u001b[0m\u001b[0mresult\u001b[0m\u001b[1;33m(\u001b[0m\u001b[1;33m)\u001b[0m\u001b[1;33m.\u001b[0m\u001b[0mget_statevector\u001b[0m\u001b[1;33m(\u001b[0m\u001b[1;33m)\u001b[0m\u001b[1;33m\u001b[0m\u001b[1;33m\u001b[0m\u001b[0m\n\u001b[0m\u001b[0;32m    262\u001b[0m         \u001b[1;32mfrom\u001b[0m \u001b[1;33m.\u001b[0m\u001b[1;33m.\u001b[0m\u001b[0moperator_globals\u001b[0m \u001b[1;32mimport\u001b[0m \u001b[0mEVAL_SIG_DIGITS\u001b[0m\u001b[1;33m\u001b[0m\u001b[1;33m\u001b[0m\u001b[0m\n\u001b[0;32m    263\u001b[0m \u001b[1;33m\u001b[0m\u001b[0m\n",
      "\u001b[1;32m~\\Anaconda3\\lib\\site-packages\\qiskit\\providers\\basicaer\\qasm_simulator.py\u001b[0m in \u001b[0;36mrun\u001b[1;34m(self, qobj, **backend_options)\u001b[0m\n\u001b[0;32m    418\u001b[0m         \u001b[0mself\u001b[0m\u001b[1;33m.\u001b[0m\u001b[0m_set_options\u001b[0m\u001b[1;33m(\u001b[0m\u001b[0mqobj_config\u001b[0m\u001b[1;33m=\u001b[0m\u001b[0mqobj_options\u001b[0m\u001b[1;33m,\u001b[0m \u001b[0mbackend_options\u001b[0m\u001b[1;33m=\u001b[0m\u001b[0mbackend_options\u001b[0m\u001b[1;33m)\u001b[0m\u001b[1;33m\u001b[0m\u001b[1;33m\u001b[0m\u001b[0m\n\u001b[0;32m    419\u001b[0m         \u001b[0mjob_id\u001b[0m \u001b[1;33m=\u001b[0m \u001b[0mstr\u001b[0m\u001b[1;33m(\u001b[0m\u001b[0muuid\u001b[0m\u001b[1;33m.\u001b[0m\u001b[0muuid4\u001b[0m\u001b[1;33m(\u001b[0m\u001b[1;33m)\u001b[0m\u001b[1;33m)\u001b[0m\u001b[1;33m\u001b[0m\u001b[1;33m\u001b[0m\u001b[0m\n\u001b[1;32m--> 420\u001b[1;33m         \u001b[0mjob\u001b[0m \u001b[1;33m=\u001b[0m \u001b[0mBasicAerJob\u001b[0m\u001b[1;33m(\u001b[0m\u001b[0mself\u001b[0m\u001b[1;33m,\u001b[0m \u001b[0mjob_id\u001b[0m\u001b[1;33m,\u001b[0m \u001b[0mself\u001b[0m\u001b[1;33m.\u001b[0m\u001b[0m_run_job\u001b[0m\u001b[1;33m(\u001b[0m\u001b[0mjob_id\u001b[0m\u001b[1;33m,\u001b[0m \u001b[0mqobj\u001b[0m\u001b[1;33m)\u001b[0m\u001b[1;33m)\u001b[0m\u001b[1;33m\u001b[0m\u001b[1;33m\u001b[0m\u001b[0m\n\u001b[0m\u001b[0;32m    421\u001b[0m         \u001b[1;32mreturn\u001b[0m \u001b[0mjob\u001b[0m\u001b[1;33m\u001b[0m\u001b[1;33m\u001b[0m\u001b[0m\n\u001b[0;32m    422\u001b[0m \u001b[1;33m\u001b[0m\u001b[0m\n",
      "\u001b[1;32m~\\Anaconda3\\lib\\site-packages\\qiskit\\providers\\basicaer\\qasm_simulator.py\u001b[0m in \u001b[0;36m_run_job\u001b[1;34m(self, job_id, qobj)\u001b[0m\n\u001b[0;32m    438\u001b[0m         \u001b[0mstart\u001b[0m \u001b[1;33m=\u001b[0m \u001b[0mtime\u001b[0m\u001b[1;33m.\u001b[0m\u001b[0mtime\u001b[0m\u001b[1;33m(\u001b[0m\u001b[1;33m)\u001b[0m\u001b[1;33m\u001b[0m\u001b[1;33m\u001b[0m\u001b[0m\n\u001b[0;32m    439\u001b[0m         \u001b[1;32mfor\u001b[0m \u001b[0mexperiment\u001b[0m \u001b[1;32min\u001b[0m \u001b[0mqobj\u001b[0m\u001b[1;33m.\u001b[0m\u001b[0mexperiments\u001b[0m\u001b[1;33m:\u001b[0m\u001b[1;33m\u001b[0m\u001b[1;33m\u001b[0m\u001b[0m\n\u001b[1;32m--> 440\u001b[1;33m             \u001b[0mresult_list\u001b[0m\u001b[1;33m.\u001b[0m\u001b[0mappend\u001b[0m\u001b[1;33m(\u001b[0m\u001b[0mself\u001b[0m\u001b[1;33m.\u001b[0m\u001b[0mrun_experiment\u001b[0m\u001b[1;33m(\u001b[0m\u001b[0mexperiment\u001b[0m\u001b[1;33m)\u001b[0m\u001b[1;33m)\u001b[0m\u001b[1;33m\u001b[0m\u001b[1;33m\u001b[0m\u001b[0m\n\u001b[0m\u001b[0;32m    441\u001b[0m         \u001b[0mend\u001b[0m \u001b[1;33m=\u001b[0m \u001b[0mtime\u001b[0m\u001b[1;33m.\u001b[0m\u001b[0mtime\u001b[0m\u001b[1;33m(\u001b[0m\u001b[1;33m)\u001b[0m\u001b[1;33m\u001b[0m\u001b[1;33m\u001b[0m\u001b[0m\n\u001b[0;32m    442\u001b[0m         result = {\n",
      "\u001b[1;32m~\\Anaconda3\\lib\\site-packages\\qiskit\\providers\\basicaer\\qasm_simulator.py\u001b[0m in \u001b[0;36mrun_experiment\u001b[1;34m(self, experiment)\u001b[0m\n\u001b[0;32m    546\u001b[0m                     \u001b[0mqubit\u001b[0m \u001b[1;33m=\u001b[0m \u001b[0moperation\u001b[0m\u001b[1;33m.\u001b[0m\u001b[0mqubits\u001b[0m\u001b[1;33m[\u001b[0m\u001b[1;36m0\u001b[0m\u001b[1;33m]\u001b[0m\u001b[1;33m\u001b[0m\u001b[1;33m\u001b[0m\u001b[0m\n\u001b[0;32m    547\u001b[0m                     \u001b[0mgate\u001b[0m \u001b[1;33m=\u001b[0m \u001b[0msingle_gate_matrix\u001b[0m\u001b[1;33m(\u001b[0m\u001b[0moperation\u001b[0m\u001b[1;33m.\u001b[0m\u001b[0mname\u001b[0m\u001b[1;33m,\u001b[0m \u001b[0mparams\u001b[0m\u001b[1;33m)\u001b[0m\u001b[1;33m\u001b[0m\u001b[1;33m\u001b[0m\u001b[0m\n\u001b[1;32m--> 548\u001b[1;33m                     \u001b[0mself\u001b[0m\u001b[1;33m.\u001b[0m\u001b[0m_add_unitary\u001b[0m\u001b[1;33m(\u001b[0m\u001b[0mgate\u001b[0m\u001b[1;33m,\u001b[0m \u001b[1;33m[\u001b[0m\u001b[0mqubit\u001b[0m\u001b[1;33m]\u001b[0m\u001b[1;33m)\u001b[0m\u001b[1;33m\u001b[0m\u001b[1;33m\u001b[0m\u001b[0m\n\u001b[0m\u001b[0;32m    549\u001b[0m                 \u001b[1;31m# Check if CX gate\u001b[0m\u001b[1;33m\u001b[0m\u001b[1;33m\u001b[0m\u001b[1;33m\u001b[0m\u001b[0m\n\u001b[0;32m    550\u001b[0m                 \u001b[1;32melif\u001b[0m \u001b[0moperation\u001b[0m\u001b[1;33m.\u001b[0m\u001b[0mname\u001b[0m \u001b[1;32min\u001b[0m \u001b[1;33m(\u001b[0m\u001b[1;34m\"id\"\u001b[0m\u001b[1;33m,\u001b[0m \u001b[1;34m\"u0\"\u001b[0m\u001b[1;33m)\u001b[0m\u001b[1;33m:\u001b[0m\u001b[1;33m\u001b[0m\u001b[1;33m\u001b[0m\u001b[0m\n",
      "\u001b[1;32m~\\Anaconda3\\lib\\site-packages\\qiskit\\providers\\basicaer\\qasm_simulator.py\u001b[0m in \u001b[0;36m_add_unitary\u001b[1;34m(self, gate, qubits)\u001b[0m\n\u001b[0;32m    155\u001b[0m         \u001b[0mindexes\u001b[0m \u001b[1;33m=\u001b[0m \u001b[0meinsum_vecmul_index\u001b[0m\u001b[1;33m(\u001b[0m\u001b[0mqubits\u001b[0m\u001b[1;33m,\u001b[0m \u001b[0mself\u001b[0m\u001b[1;33m.\u001b[0m\u001b[0m_number_of_qubits\u001b[0m\u001b[1;33m)\u001b[0m\u001b[1;33m\u001b[0m\u001b[1;33m\u001b[0m\u001b[0m\n\u001b[0;32m    156\u001b[0m         \u001b[1;31m# Convert to complex rank-2N tensor\u001b[0m\u001b[1;33m\u001b[0m\u001b[1;33m\u001b[0m\u001b[1;33m\u001b[0m\u001b[0m\n\u001b[1;32m--> 157\u001b[1;33m         \u001b[0mgate_tensor\u001b[0m \u001b[1;33m=\u001b[0m \u001b[0mnp\u001b[0m\u001b[1;33m.\u001b[0m\u001b[0mreshape\u001b[0m\u001b[1;33m(\u001b[0m\u001b[0mnp\u001b[0m\u001b[1;33m.\u001b[0m\u001b[0marray\u001b[0m\u001b[1;33m(\u001b[0m\u001b[0mgate\u001b[0m\u001b[1;33m,\u001b[0m \u001b[0mdtype\u001b[0m\u001b[1;33m=\u001b[0m\u001b[0mcomplex\u001b[0m\u001b[1;33m)\u001b[0m\u001b[1;33m,\u001b[0m \u001b[0mnum_qubits\u001b[0m \u001b[1;33m*\u001b[0m \u001b[1;33m[\u001b[0m\u001b[1;36m2\u001b[0m\u001b[1;33m,\u001b[0m \u001b[1;36m2\u001b[0m\u001b[1;33m]\u001b[0m\u001b[1;33m)\u001b[0m\u001b[1;33m\u001b[0m\u001b[1;33m\u001b[0m\u001b[0m\n\u001b[0m\u001b[0;32m    158\u001b[0m         \u001b[1;31m# Apply matrix multiplication\u001b[0m\u001b[1;33m\u001b[0m\u001b[1;33m\u001b[0m\u001b[1;33m\u001b[0m\u001b[0m\n\u001b[0;32m    159\u001b[0m         self._statevector = np.einsum(\n",
      "\u001b[1;31mKeyboardInterrupt\u001b[0m: "
     ]
    }
   ],
   "source": [
    "# Start training the agent\n",
    "episode_reward_history = []\n",
    "for batch in tqdm(range(n_episodes // batch_size)):\n",
    "    # Gather episodes\n",
    "    episodes = gather_episodes(state_bounds, n_actions, agent, batch_size, env_name)\n",
    "\n",
    "    # Group states, actions and returns in numpy arrays\n",
    "    states = torch.from_numpy(np.concatenate([ep['states'] for ep in episodes]))\n",
    "    actions = torch.from_numpy(np.concatenate([ep['actions'] for ep in episodes]))\n",
    "    action_probs = torch.from_numpy(np.concatenate([ep['action probs'] for ep in episodes]))\n",
    "    rewards = [ep['rewards'] for ep in episodes]\n",
    "    returns = np.concatenate([compute_returns(ep_rwds, gamma) for ep_rwds in rewards])\n",
    "    returns = torch.from_numpy(np.array(returns, dtype=np.float32))\n",
    "\n",
    "    id_action_pairs = torch.from_numpy(np.array([[i, a] for i, a in enumerate(actions)]))\n",
    "\n",
    "    # Update model parameters.\n",
    "    agent.update_policy(states, id_action_pairs, returns, action_probs, batch_size)\n",
    "\n",
    "    # Store collected rewards\n",
    "    for ep_rwds in rewards:\n",
    "        episode_reward_history.append(np.sum(ep_rwds))\n",
    "\n",
    "    avg_rewards = np.mean(episode_reward_history[-batch_size:])\n",
    "\n",
    "    print('Finished episode', (batch + 1) * batch_size,\n",
    "          'Average rewards: ', avg_rewards)\n",
    "\n",
    "    if avg_rewards >= 500.0:\n",
    "        break"
   ]
  },
  {
   "cell_type": "code",
   "execution_count": 23,
   "metadata": {},
   "outputs": [
    {
     "data": {
      "text/plain": [
       "[<matplotlib.lines.Line2D at 0x1b8ab26d970>]"
      ]
     },
     "execution_count": 23,
     "metadata": {},
     "output_type": "execute_result"
    },
    {
     "data": {
      "image/png": "[encoded data removed]",
      "text/plain": [
       "<Figure size 432x288 with 1 Axes>"
      ]
     },
     "metadata": {
      "needs_background": "light"
     },
     "output_type": "display_data"
    }
   ],
   "source": [
    "plt.plot(episode_reward_history)"
   ]
  },
  {
   "cell_type": "code",
   "execution_count": null,
   "metadata": {},
   "outputs": [],
   "source": []
  }
 ],
 "metadata": {
  "colab": {
   "authorship_tag": "ABX9TyNE3QY8UA5xCDFR4Ht9tSPe",
   "collapsed_sections": [
    "ksJVcTLxzskm",
    "jySdpQf_zuiE",
    "MIKgmnTWM8yz",
    "eLm2LW4zBqPo"
   ],
   "name": "QuantumCircuitLearning.ipynb",
   "provenance": []
  },
  "kernelspec": {
   "display_name": "Python 3",
   "language": "python",
   "name": "python3"
  },
  "language_info": {
   "codemirror_mode": {
    "name": "ipython",
    "version": 3
   },
   "file_extension": ".py",
   "mimetype": "text/x-python",
   "name": "python",
   "nbconvert_exporter": "python",
   "pygments_lexer": "ipython3",
   "version": "3.8.8"
  },
  "widgets": {
   "application/vnd.jupyter.widget-state+json": {
    "1b23efbb8db748a2af8554186cf2a3d8": {
     "model_module": "@jupyter-widgets/base",
     "model_module_version": "1.2.0",
     "model_name": "LayoutModel",
     "state": {
      "_model_module": "@jupyter-widgets/base",
      "_model_module_version": "1.2.0",
      "_model_name": "LayoutModel",
      "_view_count": null,
      "_view_module": "@jupyter-widgets/base",
      "_view_module_version": "1.2.0",
      "_view_name": "LayoutView",
      "align_content": null,
      "align_items": null,
      "align_self": null,
      "border": null,
      "bottom": null,
      "display": null,
      "flex": null,
      "flex_flow": null,
      "grid_area": null,
      "grid_auto_columns": null,
      "grid_auto_flow": null,
      "grid_auto_rows": null,
      "grid_column": null,
      "grid_gap": null,
      "grid_row": null,
      "grid_template_areas": null,
      "grid_template_columns": null,
      "grid_template_rows": null,
      "height": null,
      "justify_content": null,
      "justify_items": null,
      "left": null,
      "margin": null,
      "max_height": null,
      "max_width": null,
      "min_height": null,
      "min_width": null,
      "object_fit": null,
      "object_position": null,
      "order": null,
      "overflow": null,
      "overflow_x": null,
      "overflow_y": null,
      "padding": null,
      "right": null,
      "top": null,
      "visibility": null,
      "width": null
     }
    },
    "235d4532e52e4aadbc6c049c0c7369b3": {
     "model_module": "@jupyter-widgets/base",
     "model_module_version": "1.2.0",
     "model_name": "LayoutModel",
     "state": {
      "_model_module": "@jupyter-widgets/base",
      "_model_module_version": "1.2.0",
      "_model_name": "LayoutModel",
      "_view_count": null,
      "_view_module": "@jupyter-widgets/base",
      "_view_module_version": "1.2.0",
      "_view_name": "LayoutView",
      "align_content": null,
      "align_items": null,
      "align_self": null,
      "border": null,
      "bottom": null,
      "display": null,
      "flex": null,
      "flex_flow": null,
      "grid_area": null,
      "grid_auto_columns": null,
      "grid_auto_flow": null,
      "grid_auto_rows": null,
      "grid_column": null,
      "grid_gap": null,
      "grid_row": null,
      "grid_template_areas": null,
      "grid_template_columns": null,
      "grid_template_rows": null,
      "height": null,
      "justify_content": null,
      "justify_items": null,
      "left": null,
      "margin": null,
      "max_height": null,
      "max_width": null,
      "min_height": null,
      "min_width": null,
      "object_fit": null,
      "object_position": null,
      "order": null,
      "overflow": null,
      "overflow_x": null,
      "overflow_y": null,
      "padding": null,
      "right": null,
      "top": null,
      "visibility": null,
      "width": null
     }
    },
    "25885ff5cc014bafa5442805d676c0be": {
     "model_module": "@jupyter-widgets/controls",
     "model_module_version": "1.5.0",
     "model_name": "FloatProgressModel",
     "state": {
      "_dom_classes": [],
      "_model_module": "@jupyter-widgets/controls",
      "_model_module_version": "1.5.0",
      "_model_name": "FloatProgressModel",
      "_view_count": null,
      "_view_module": "@jupyter-widgets/controls",
      "_view_module_version": "1.5.0",
      "_view_name": "ProgressView",
      "bar_style": "success",
      "description": "100%",
      "description_tooltip": null,
      "layout": "IPY_MODEL_235d4532e52e4aadbc6c049c0c7369b3",
      "max": 50,
      "min": 0,
      "orientation": "horizontal",
      "style": "IPY_MODEL_4ede1074ee2f496ab3d864be52157d03",
      "value": 50
     }
    },
    "40ae390ed75a46f292ffc969fdd0509e": {
     "model_module": "@jupyter-widgets/controls",
     "model_module_version": "1.5.0",
     "model_name": "DescriptionStyleModel",
     "state": {
      "_model_module": "@jupyter-widgets/controls",
      "_model_module_version": "1.5.0",
      "_model_name": "DescriptionStyleModel",
      "_view_count": null,
      "_view_module": "@jupyter-widgets/base",
      "_view_module_version": "1.2.0",
      "_view_name": "StyleView",
      "description_width": ""
     }
    },
    "4ede1074ee2f496ab3d864be52157d03": {
     "model_module": "@jupyter-widgets/controls",
     "model_module_version": "1.5.0",
     "model_name": "ProgressStyleModel",
     "state": {
      "_model_module": "@jupyter-widgets/controls",
      "_model_module_version": "1.5.0",
      "_model_name": "ProgressStyleModel",
      "_view_count": null,
      "_view_module": "@jupyter-widgets/base",
      "_view_module_version": "1.2.0",
      "_view_name": "StyleView",
      "bar_color": null,
      "description_width": "initial"
     }
    },
    "68c55b17e042416c91105f585c6f622a": {
     "model_module": "@jupyter-widgets/controls",
     "model_module_version": "1.5.0",
     "model_name": "HTMLModel",
     "state": {
      "_dom_classes": [],
      "_model_module": "@jupyter-widgets/controls",
      "_model_module_version": "1.5.0",
      "_model_name": "HTMLModel",
      "_view_count": null,
      "_view_module": "@jupyter-widgets/controls",
      "_view_module_version": "1.5.0",
      "_view_name": "HTMLView",
      "description": "",
      "description_tooltip": null,
      "layout": "IPY_MODEL_ec14bbc210b743f085734c3bf858fd72",
      "placeholder": "​",
      "style": "IPY_MODEL_40ae390ed75a46f292ffc969fdd0509e",
      "value": " 50/50 [11:53&lt;00:00, 14.28s/it]"
     }
    },
    "cc511557b8a54d408c9d2ddcaa7aa7dc": {
     "model_module": "@jupyter-widgets/controls",
     "model_module_version": "1.5.0",
     "model_name": "HBoxModel",
     "state": {
      "_dom_classes": [],
      "_model_module": "@jupyter-widgets/controls",
      "_model_module_version": "1.5.0",
      "_model_name": "HBoxModel",
      "_view_count": null,
      "_view_module": "@jupyter-widgets/controls",
      "_view_module_version": "1.5.0",
      "_view_name": "HBoxView",
      "box_style": "",
      "children": [
       "IPY_MODEL_25885ff5cc014bafa5442805d676c0be",
       "IPY_MODEL_68c55b17e042416c91105f585c6f622a"
      ],
      "layout": "IPY_MODEL_1b23efbb8db748a2af8554186cf2a3d8"
     }
    },
    "ec14bbc210b743f085734c3bf858fd72": {
     "model_module": "@jupyter-widgets/base",
     "model_module_version": "1.2.0",
     "model_name": "LayoutModel",
     "state": {
      "_model_module": "@jupyter-widgets/base",
      "_model_module_version": "1.2.0",
      "_model_name": "LayoutModel",
      "_view_count": null,
      "_view_module": "@jupyter-widgets/base",
      "_view_module_version": "1.2.0",
      "_view_name": "LayoutView",
      "align_content": null,
      "align_items": null,
      "align_self": null,
      "border": null,
      "bottom": null,
      "display": null,
      "flex": null,
      "flex_flow": null,
      "grid_area": null,
      "grid_auto_columns": null,
      "grid_auto_flow": null,
      "grid_auto_rows": null,
      "grid_column": null,
      "grid_gap": null,
      "grid_row": null,
      "grid_template_areas": null,
      "grid_template_columns": null,
      "grid_template_rows": null,
      "height": null,
      "justify_content": null,
      "justify_items": null,
      "left": null,
      "margin": null,
      "max_height": null,
      "max_width": null,
      "min_height": null,
      "min_width": null,
      "object_fit": null,
      "object_position": null,
      "order": null,
      "overflow": null,
      "overflow_x": null,
      "overflow_y": null,
      "padding": null,
      "right": null,
      "top": null,
      "visibility": null,
      "width": null
     }
    }
   }
  }
 },
 "nbformat": 4,
 "nbformat_minor": 1
}
